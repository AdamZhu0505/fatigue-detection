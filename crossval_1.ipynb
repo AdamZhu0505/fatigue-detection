{
 "nbformat": 4,
 "nbformat_minor": 0,
 "metadata": {
  "colab": {
   "provenance": [],
   "gpuType": "T4"
  },
  "kernelspec": {
   "name": "python3",
   "display_name": "Python 3 (ipykernel)",
   "language": "python"
  },
  "language_info": {
   "name": "python"
  },
  "accelerator": "GPU"
 },
 "cells": [
  {
   "cell_type": "code",
   "execution_count": null,
   "metadata": {
    "colab": {
     "base_uri": "https://localhost:8080/"
    },
    "id": "nUiymxUrDPpJ",
    "outputId": "f5a4e0d0-1a0f-46bd-e586-f35fbc3f15c8"
   },
   "outputs": [
    {
     "output_type": "stream",
     "name": "stdout",
     "text": [
      "Collecting ultralytics\n",
      "  Downloading ultralytics-8.3.173-py3-none-any.whl.metadata (37 kB)\n",
      "Requirement already satisfied: numpy>=1.23.0 in /usr/local/lib/python3.11/dist-packages (from ultralytics) (2.0.2)\n",
      "Requirement already satisfied: matplotlib>=3.3.0 in /usr/local/lib/python3.11/dist-packages (from ultralytics) (3.10.0)\n",
      "Requirement already satisfied: opencv-python>=4.6.0 in /usr/local/lib/python3.11/dist-packages (from ultralytics) (4.12.0.88)\n",
      "Requirement already satisfied: pillow>=7.1.2 in /usr/local/lib/python3.11/dist-packages (from ultralytics) (11.3.0)\n",
      "Requirement already satisfied: pyyaml>=5.3.1 in /usr/local/lib/python3.11/dist-packages (from ultralytics) (6.0.2)\n",
      "Requirement already satisfied: requests>=2.23.0 in /usr/local/lib/python3.11/dist-packages (from ultralytics) (2.32.3)\n",
      "Requirement already satisfied: scipy>=1.4.1 in /usr/local/lib/python3.11/dist-packages (from ultralytics) (1.16.0)\n",
      "Requirement already satisfied: torch>=1.8.0 in /usr/local/lib/python3.11/dist-packages (from ultralytics) (2.6.0+cu124)\n",
      "Requirement already satisfied: torchvision>=0.9.0 in /usr/local/lib/python3.11/dist-packages (from ultralytics) (0.21.0+cu124)\n",
      "Requirement already satisfied: tqdm>=4.64.0 in /usr/local/lib/python3.11/dist-packages (from ultralytics) (4.67.1)\n",
      "Requirement already satisfied: psutil in /usr/local/lib/python3.11/dist-packages (from ultralytics) (5.9.5)\n",
      "Requirement already satisfied: py-cpuinfo in /usr/local/lib/python3.11/dist-packages (from ultralytics) (9.0.0)\n",
      "Requirement already satisfied: pandas>=1.1.4 in /usr/local/lib/python3.11/dist-packages (from ultralytics) (2.2.2)\n",
      "Collecting ultralytics-thop>=2.0.0 (from ultralytics)\n",
      "  Downloading ultralytics_thop-2.0.14-py3-none-any.whl.metadata (9.4 kB)\n",
      "Requirement already satisfied: contourpy>=1.0.1 in /usr/local/lib/python3.11/dist-packages (from matplotlib>=3.3.0->ultralytics) (1.3.2)\n",
      "Requirement already satisfied: cycler>=0.10 in /usr/local/lib/python3.11/dist-packages (from matplotlib>=3.3.0->ultralytics) (0.12.1)\n",
      "Requirement already satisfied: fonttools>=4.22.0 in /usr/local/lib/python3.11/dist-packages (from matplotlib>=3.3.0->ultralytics) (4.59.0)\n",
      "Requirement already satisfied: kiwisolver>=1.3.1 in /usr/local/lib/python3.11/dist-packages (from matplotlib>=3.3.0->ultralytics) (1.4.8)\n",
      "Requirement already satisfied: packaging>=20.0 in /usr/local/lib/python3.11/dist-packages (from matplotlib>=3.3.0->ultralytics) (25.0)\n",
      "Requirement already satisfied: pyparsing>=2.3.1 in /usr/local/lib/python3.11/dist-packages (from matplotlib>=3.3.0->ultralytics) (3.2.3)\n",
      "Requirement already satisfied: python-dateutil>=2.7 in /usr/local/lib/python3.11/dist-packages (from matplotlib>=3.3.0->ultralytics) (2.9.0.post0)\n",
      "Requirement already satisfied: pytz>=2020.1 in /usr/local/lib/python3.11/dist-packages (from pandas>=1.1.4->ultralytics) (2025.2)\n",
      "Requirement already satisfied: tzdata>=2022.7 in /usr/local/lib/python3.11/dist-packages (from pandas>=1.1.4->ultralytics) (2025.2)\n",
      "Requirement already satisfied: charset-normalizer<4,>=2 in /usr/local/lib/python3.11/dist-packages (from requests>=2.23.0->ultralytics) (3.4.2)\n",
      "Requirement already satisfied: idna<4,>=2.5 in /usr/local/lib/python3.11/dist-packages (from requests>=2.23.0->ultralytics) (3.10)\n",
      "Requirement already satisfied: urllib3<3,>=1.21.1 in /usr/local/lib/python3.11/dist-packages (from requests>=2.23.0->ultralytics) (2.5.0)\n",
      "Requirement already satisfied: certifi>=2017.4.17 in /usr/local/lib/python3.11/dist-packages (from requests>=2.23.0->ultralytics) (2025.7.14)\n",
      "Requirement already satisfied: filelock in /usr/local/lib/python3.11/dist-packages (from torch>=1.8.0->ultralytics) (3.18.0)\n",
      "Requirement already satisfied: typing-extensions>=4.10.0 in /usr/local/lib/python3.11/dist-packages (from torch>=1.8.0->ultralytics) (4.14.1)\n",
      "Requirement already satisfied: networkx in /usr/local/lib/python3.11/dist-packages (from torch>=1.8.0->ultralytics) (3.5)\n",
      "Requirement already satisfied: jinja2 in /usr/local/lib/python3.11/dist-packages (from torch>=1.8.0->ultralytics) (3.1.6)\n",
      "Requirement already satisfied: fsspec in /usr/local/lib/python3.11/dist-packages (from torch>=1.8.0->ultralytics) (2025.3.0)\n",
      "Collecting nvidia-cuda-nvrtc-cu12==12.4.127 (from torch>=1.8.0->ultralytics)\n",
      "  Downloading nvidia_cuda_nvrtc_cu12-12.4.127-py3-none-manylinux2014_x86_64.whl.metadata (1.5 kB)\n",
      "Collecting nvidia-cuda-runtime-cu12==12.4.127 (from torch>=1.8.0->ultralytics)\n",
      "  Downloading nvidia_cuda_runtime_cu12-12.4.127-py3-none-manylinux2014_x86_64.whl.metadata (1.5 kB)\n",
      "Collecting nvidia-cuda-cupti-cu12==12.4.127 (from torch>=1.8.0->ultralytics)\n",
      "  Downloading nvidia_cuda_cupti_cu12-12.4.127-py3-none-manylinux2014_x86_64.whl.metadata (1.6 kB)\n",
      "Collecting nvidia-cudnn-cu12==9.1.0.70 (from torch>=1.8.0->ultralytics)\n",
      "  Downloading nvidia_cudnn_cu12-9.1.0.70-py3-none-manylinux2014_x86_64.whl.metadata (1.6 kB)\n",
      "Collecting nvidia-cublas-cu12==12.4.5.8 (from torch>=1.8.0->ultralytics)\n",
      "  Downloading nvidia_cublas_cu12-12.4.5.8-py3-none-manylinux2014_x86_64.whl.metadata (1.5 kB)\n",
      "Collecting nvidia-cufft-cu12==11.2.1.3 (from torch>=1.8.0->ultralytics)\n",
      "  Downloading nvidia_cufft_cu12-11.2.1.3-py3-none-manylinux2014_x86_64.whl.metadata (1.5 kB)\n",
      "Collecting nvidia-curand-cu12==10.3.5.147 (from torch>=1.8.0->ultralytics)\n",
      "  Downloading nvidia_curand_cu12-10.3.5.147-py3-none-manylinux2014_x86_64.whl.metadata (1.5 kB)\n",
      "Collecting nvidia-cusolver-cu12==11.6.1.9 (from torch>=1.8.0->ultralytics)\n",
      "  Downloading nvidia_cusolver_cu12-11.6.1.9-py3-none-manylinux2014_x86_64.whl.metadata (1.6 kB)\n",
      "Collecting nvidia-cusparse-cu12==12.3.1.170 (from torch>=1.8.0->ultralytics)\n",
      "  Downloading nvidia_cusparse_cu12-12.3.1.170-py3-none-manylinux2014_x86_64.whl.metadata (1.6 kB)\n",
      "Requirement already satisfied: nvidia-cusparselt-cu12==0.6.2 in /usr/local/lib/python3.11/dist-packages (from torch>=1.8.0->ultralytics) (0.6.2)\n",
      "Requirement already satisfied: nvidia-nccl-cu12==2.21.5 in /usr/local/lib/python3.11/dist-packages (from torch>=1.8.0->ultralytics) (2.21.5)\n",
      "Requirement already satisfied: nvidia-nvtx-cu12==12.4.127 in /usr/local/lib/python3.11/dist-packages (from torch>=1.8.0->ultralytics) (12.4.127)\n",
      "Collecting nvidia-nvjitlink-cu12==12.4.127 (from torch>=1.8.0->ultralytics)\n",
      "  Downloading nvidia_nvjitlink_cu12-12.4.127-py3-none-manylinux2014_x86_64.whl.metadata (1.5 kB)\n",
      "Requirement already satisfied: triton==3.2.0 in /usr/local/lib/python3.11/dist-packages (from torch>=1.8.0->ultralytics) (3.2.0)\n",
      "Requirement already satisfied: sympy==1.13.1 in /usr/local/lib/python3.11/dist-packages (from torch>=1.8.0->ultralytics) (1.13.1)\n",
      "Requirement already satisfied: mpmath<1.4,>=1.1.0 in /usr/local/lib/python3.11/dist-packages (from sympy==1.13.1->torch>=1.8.0->ultralytics) (1.3.0)\n",
      "Requirement already satisfied: six>=1.5 in /usr/local/lib/python3.11/dist-packages (from python-dateutil>=2.7->matplotlib>=3.3.0->ultralytics) (1.17.0)\n",
      "Requirement already satisfied: MarkupSafe>=2.0 in /usr/local/lib/python3.11/dist-packages (from jinja2->torch>=1.8.0->ultralytics) (3.0.2)\n",
      "Downloading ultralytics-8.3.173-py3-none-any.whl (1.0 MB)\n",
      "\u001B[2K   \u001B[90m━━━━━━━━━━━━━━━━━━━━━━━━━━━━━━━━━━━━━━━━\u001B[0m \u001B[32m1.0/1.0 MB\u001B[0m \u001B[31m15.1 MB/s\u001B[0m eta \u001B[36m0:00:00\u001B[0m\n",
      "\u001B[?25hDownloading nvidia_cublas_cu12-12.4.5.8-py3-none-manylinux2014_x86_64.whl (363.4 MB)\n",
      "\u001B[2K   \u001B[90m━━━━━━━━━━━━━━━━━━━━━━━━━━━━━━━━━━━━━━━━\u001B[0m \u001B[32m363.4/363.4 MB\u001B[0m \u001B[31m4.9 MB/s\u001B[0m eta \u001B[36m0:00:00\u001B[0m\n",
      "\u001B[?25hDownloading nvidia_cuda_cupti_cu12-12.4.127-py3-none-manylinux2014_x86_64.whl (13.8 MB)\n",
      "\u001B[2K   \u001B[90m━━━━━━━━━━━━━━━━━━━━━━━━━━━━━━━━━━━━━━━━\u001B[0m \u001B[32m13.8/13.8 MB\u001B[0m \u001B[31m102.6 MB/s\u001B[0m eta \u001B[36m0:00:00\u001B[0m\n",
      "\u001B[?25hDownloading nvidia_cuda_nvrtc_cu12-12.4.127-py3-none-manylinux2014_x86_64.whl (24.6 MB)\n",
      "\u001B[2K   \u001B[90m━━━━━━━━━━━━━━━━━━━━━━━━━━━━━━━━━━━━━━━━\u001B[0m \u001B[32m24.6/24.6 MB\u001B[0m \u001B[31m86.1 MB/s\u001B[0m eta \u001B[36m0:00:00\u001B[0m\n",
      "\u001B[?25hDownloading nvidia_cuda_runtime_cu12-12.4.127-py3-none-manylinux2014_x86_64.whl (883 kB)\n",
      "\u001B[2K   \u001B[90m━━━━━━━━━━━━━━━━━━━━━━━━━━━━━━━━━━━━━━━━\u001B[0m \u001B[32m883.7/883.7 kB\u001B[0m \u001B[31m60.2 MB/s\u001B[0m eta \u001B[36m0:00:00\u001B[0m\n",
      "\u001B[?25hDownloading nvidia_cudnn_cu12-9.1.0.70-py3-none-manylinux2014_x86_64.whl (664.8 MB)\n",
      "\u001B[2K   \u001B[90m━━━━━━━━━━━━━━━━━━━━━━━━━━━━━━━━━━━━━━━━\u001B[0m \u001B[32m664.8/664.8 MB\u001B[0m \u001B[31m2.1 MB/s\u001B[0m eta \u001B[36m0:00:00\u001B[0m\n",
      "\u001B[?25hDownloading nvidia_cufft_cu12-11.2.1.3-py3-none-manylinux2014_x86_64.whl (211.5 MB)\n",
      "\u001B[2K   \u001B[90m━━━━━━━━━━━━━━━━━━━━━━━━━━━━━━━━━━━━━━━━\u001B[0m \u001B[32m211.5/211.5 MB\u001B[0m \u001B[31m5.2 MB/s\u001B[0m eta \u001B[36m0:00:00\u001B[0m\n",
      "\u001B[?25hDownloading nvidia_curand_cu12-10.3.5.147-py3-none-manylinux2014_x86_64.whl (56.3 MB)\n",
      "\u001B[2K   \u001B[90m━━━━━━━━━━━━━━━━━━━━━━━━━━━━━━━━━━━━━━━━\u001B[0m \u001B[32m56.3/56.3 MB\u001B[0m \u001B[31m11.7 MB/s\u001B[0m eta \u001B[36m0:00:00\u001B[0m\n",
      "\u001B[?25hDownloading nvidia_cusolver_cu12-11.6.1.9-py3-none-manylinux2014_x86_64.whl (127.9 MB)\n",
      "\u001B[2K   \u001B[90m━━━━━━━━━━━━━━━━━━━━━━━━━━━━━━━━━━━━━━━━\u001B[0m \u001B[32m127.9/127.9 MB\u001B[0m \u001B[31m7.5 MB/s\u001B[0m eta \u001B[36m0:00:00\u001B[0m\n",
      "\u001B[?25hDownloading nvidia_cusparse_cu12-12.3.1.170-py3-none-manylinux2014_x86_64.whl (207.5 MB)\n",
      "\u001B[2K   \u001B[90m━━━━━━━━━━━━━━━━━━━━━━━━━━━━━━━━━━━━━━━━\u001B[0m \u001B[32m207.5/207.5 MB\u001B[0m \u001B[31m5.8 MB/s\u001B[0m eta \u001B[36m0:00:00\u001B[0m\n",
      "\u001B[?25hDownloading nvidia_nvjitlink_cu12-12.4.127-py3-none-manylinux2014_x86_64.whl (21.1 MB)\n",
      "\u001B[2K   \u001B[90m━━━━━━━━━━━━━━━━━━━━━━━━━━━━━━━━━━━━━━━━\u001B[0m \u001B[32m21.1/21.1 MB\u001B[0m \u001B[31m97.7 MB/s\u001B[0m eta \u001B[36m0:00:00\u001B[0m\n",
      "\u001B[?25hDownloading ultralytics_thop-2.0.14-py3-none-any.whl (26 kB)\n",
      "Installing collected packages: nvidia-nvjitlink-cu12, nvidia-curand-cu12, nvidia-cufft-cu12, nvidia-cuda-runtime-cu12, nvidia-cuda-nvrtc-cu12, nvidia-cuda-cupti-cu12, nvidia-cublas-cu12, nvidia-cusparse-cu12, nvidia-cudnn-cu12, nvidia-cusolver-cu12, ultralytics-thop, ultralytics\n",
      "  Attempting uninstall: nvidia-nvjitlink-cu12\n",
      "    Found existing installation: nvidia-nvjitlink-cu12 12.5.82\n",
      "    Uninstalling nvidia-nvjitlink-cu12-12.5.82:\n",
      "      Successfully uninstalled nvidia-nvjitlink-cu12-12.5.82\n",
      "  Attempting uninstall: nvidia-curand-cu12\n",
      "    Found existing installation: nvidia-curand-cu12 10.3.6.82\n",
      "    Uninstalling nvidia-curand-cu12-10.3.6.82:\n",
      "      Successfully uninstalled nvidia-curand-cu12-10.3.6.82\n",
      "  Attempting uninstall: nvidia-cufft-cu12\n",
      "    Found existing installation: nvidia-cufft-cu12 11.2.3.61\n",
      "    Uninstalling nvidia-cufft-cu12-11.2.3.61:\n",
      "      Successfully uninstalled nvidia-cufft-cu12-11.2.3.61\n",
      "  Attempting uninstall: nvidia-cuda-runtime-cu12\n",
      "    Found existing installation: nvidia-cuda-runtime-cu12 12.5.82\n",
      "    Uninstalling nvidia-cuda-runtime-cu12-12.5.82:\n",
      "      Successfully uninstalled nvidia-cuda-runtime-cu12-12.5.82\n",
      "  Attempting uninstall: nvidia-cuda-nvrtc-cu12\n",
      "    Found existing installation: nvidia-cuda-nvrtc-cu12 12.5.82\n",
      "    Uninstalling nvidia-cuda-nvrtc-cu12-12.5.82:\n",
      "      Successfully uninstalled nvidia-cuda-nvrtc-cu12-12.5.82\n",
      "  Attempting uninstall: nvidia-cuda-cupti-cu12\n",
      "    Found existing installation: nvidia-cuda-cupti-cu12 12.5.82\n",
      "    Uninstalling nvidia-cuda-cupti-cu12-12.5.82:\n",
      "      Successfully uninstalled nvidia-cuda-cupti-cu12-12.5.82\n",
      "  Attempting uninstall: nvidia-cublas-cu12\n",
      "    Found existing installation: nvidia-cublas-cu12 12.5.3.2\n",
      "    Uninstalling nvidia-cublas-cu12-12.5.3.2:\n",
      "      Successfully uninstalled nvidia-cublas-cu12-12.5.3.2\n",
      "  Attempting uninstall: nvidia-cusparse-cu12\n",
      "    Found existing installation: nvidia-cusparse-cu12 12.5.1.3\n",
      "    Uninstalling nvidia-cusparse-cu12-12.5.1.3:\n",
      "      Successfully uninstalled nvidia-cusparse-cu12-12.5.1.3\n",
      "  Attempting uninstall: nvidia-cudnn-cu12\n",
      "    Found existing installation: nvidia-cudnn-cu12 9.3.0.75\n",
      "    Uninstalling nvidia-cudnn-cu12-9.3.0.75:\n",
      "      Successfully uninstalled nvidia-cudnn-cu12-9.3.0.75\n",
      "  Attempting uninstall: nvidia-cusolver-cu12\n",
      "    Found existing installation: nvidia-cusolver-cu12 11.6.3.83\n",
      "    Uninstalling nvidia-cusolver-cu12-11.6.3.83:\n",
      "      Successfully uninstalled nvidia-cusolver-cu12-11.6.3.83\n",
      "Successfully installed nvidia-cublas-cu12-12.4.5.8 nvidia-cuda-cupti-cu12-12.4.127 nvidia-cuda-nvrtc-cu12-12.4.127 nvidia-cuda-runtime-cu12-12.4.127 nvidia-cudnn-cu12-9.1.0.70 nvidia-cufft-cu12-11.2.1.3 nvidia-curand-cu12-10.3.5.147 nvidia-cusolver-cu12-11.6.1.9 nvidia-cusparse-cu12-12.3.1.170 nvidia-nvjitlink-cu12-12.4.127 ultralytics-8.3.173 ultralytics-thop-2.0.14\n"
     ]
    }
   ],
   "source": [
    "!pip install ultralytics\n"
   ]
  },
  {
   "cell_type": "code",
   "source": [
    "from google.colab import files\n",
    "import shutil\n",
    "import zipfile\n",
    "import os\n",
    "\n",
    "uploaded = files.upload()\n",
    "for name in uploaded.keys():\n",
    "    with zipfile.ZipFile(name, 'r') as zip_ref:\n",
    "        zip_ref.extractall('/content')\n"
   ],
   "metadata": {
    "colab": {
     "base_uri": "https://localhost:8080/",
     "height": 96
    },
    "id": "Oz9dZr2xEkJn",
    "outputId": "782bcad5-fcb8-4f61-9a4d-6c1355182ed6"
   },
   "execution_count": null,
   "outputs": [
    {
     "output_type": "display_data",
     "data": {
      "text/plain": [
       "<IPython.core.display.HTML object>"
      ],
      "text/html": [
       "\n",
       "     <input type=\"file\" id=\"files-43f0e200-5307-410e-80d3-658e588b4a66\" name=\"files[]\" multiple disabled\n",
       "        style=\"border:none\" />\n",
       "     <output id=\"result-43f0e200-5307-410e-80d3-658e588b4a66\">\n",
       "      Upload widget is only available when the cell has been executed in the\n",
       "      current browser session. Please rerun this cell to enable.\n",
       "      </output>\n",
       "      <script>// Copyright 2017 Google LLC\n",
       "//\n",
       "// Licensed under the Apache License, Version 2.0 (the \"License\");\n",
       "// you may not use this file except in compliance with the License.\n",
       "// You may obtain a copy of the License at\n",
       "//\n",
       "//      http://www.apache.org/licenses/LICENSE-2.0\n",
       "//\n",
       "// Unless required by applicable law or agreed to in writing, software\n",
       "// distributed under the License is distributed on an \"AS IS\" BASIS,\n",
       "// WITHOUT WARRANTIES OR CONDITIONS OF ANY KIND, either express or implied.\n",
       "// See the License for the specific language governing permissions and\n",
       "// limitations under the License.\n",
       "\n",
       "/**\n",
       " * @fileoverview Helpers for google.colab Python module.\n",
       " */\n",
       "(function(scope) {\n",
       "function span(text, styleAttributes = {}) {\n",
       "  const element = document.createElement('span');\n",
       "  element.textContent = text;\n",
       "  for (const key of Object.keys(styleAttributes)) {\n",
       "    element.style[key] = styleAttributes[key];\n",
       "  }\n",
       "  return element;\n",
       "}\n",
       "\n",
       "// Max number of bytes which will be uploaded at a time.\n",
       "const MAX_PAYLOAD_SIZE = 100 * 1024;\n",
       "\n",
       "function _uploadFiles(inputId, outputId) {\n",
       "  const steps = uploadFilesStep(inputId, outputId);\n",
       "  const outputElement = document.getElementById(outputId);\n",
       "  // Cache steps on the outputElement to make it available for the next call\n",
       "  // to uploadFilesContinue from Python.\n",
       "  outputElement.steps = steps;\n",
       "\n",
       "  return _uploadFilesContinue(outputId);\n",
       "}\n",
       "\n",
       "// This is roughly an async generator (not supported in the browser yet),\n",
       "// where there are multiple asynchronous steps and the Python side is going\n",
       "// to poll for completion of each step.\n",
       "// This uses a Promise to block the python side on completion of each step,\n",
       "// then passes the result of the previous step as the input to the next step.\n",
       "function _uploadFilesContinue(outputId) {\n",
       "  const outputElement = document.getElementById(outputId);\n",
       "  const steps = outputElement.steps;\n",
       "\n",
       "  const next = steps.next(outputElement.lastPromiseValue);\n",
       "  return Promise.resolve(next.value.promise).then((value) => {\n",
       "    // Cache the last promise value to make it available to the next\n",
       "    // step of the generator.\n",
       "    outputElement.lastPromiseValue = value;\n",
       "    return next.value.response;\n",
       "  });\n",
       "}\n",
       "\n",
       "/**\n",
       " * Generator function which is called between each async step of the upload\n",
       " * process.\n",
       " * @param {string} inputId Element ID of the input file picker element.\n",
       " * @param {string} outputId Element ID of the output display.\n",
       " * @return {!Iterable<!Object>} Iterable of next steps.\n",
       " */\n",
       "function* uploadFilesStep(inputId, outputId) {\n",
       "  const inputElement = document.getElementById(inputId);\n",
       "  inputElement.disabled = false;\n",
       "\n",
       "  const outputElement = document.getElementById(outputId);\n",
       "  outputElement.innerHTML = '';\n",
       "\n",
       "  const pickedPromise = new Promise((resolve) => {\n",
       "    inputElement.addEventListener('change', (e) => {\n",
       "      resolve(e.target.files);\n",
       "    });\n",
       "  });\n",
       "\n",
       "  const cancel = document.createElement('button');\n",
       "  inputElement.parentElement.appendChild(cancel);\n",
       "  cancel.textContent = 'Cancel upload';\n",
       "  const cancelPromise = new Promise((resolve) => {\n",
       "    cancel.onclick = () => {\n",
       "      resolve(null);\n",
       "    };\n",
       "  });\n",
       "\n",
       "  // Wait for the user to pick the files.\n",
       "  const files = yield {\n",
       "    promise: Promise.race([pickedPromise, cancelPromise]),\n",
       "    response: {\n",
       "      action: 'starting',\n",
       "    }\n",
       "  };\n",
       "\n",
       "  cancel.remove();\n",
       "\n",
       "  // Disable the input element since further picks are not allowed.\n",
       "  inputElement.disabled = true;\n",
       "\n",
       "  if (!files) {\n",
       "    return {\n",
       "      response: {\n",
       "        action: 'complete',\n",
       "      }\n",
       "    };\n",
       "  }\n",
       "\n",
       "  for (const file of files) {\n",
       "    const li = document.createElement('li');\n",
       "    li.append(span(file.name, {fontWeight: 'bold'}));\n",
       "    li.append(span(\n",
       "        `(${file.type || 'n/a'}) - ${file.size} bytes, ` +\n",
       "        `last modified: ${\n",
       "            file.lastModifiedDate ? file.lastModifiedDate.toLocaleDateString() :\n",
       "                                    'n/a'} - `));\n",
       "    const percent = span('0% done');\n",
       "    li.appendChild(percent);\n",
       "\n",
       "    outputElement.appendChild(li);\n",
       "\n",
       "    const fileDataPromise = new Promise((resolve) => {\n",
       "      const reader = new FileReader();\n",
       "      reader.onload = (e) => {\n",
       "        resolve(e.target.result);\n",
       "      };\n",
       "      reader.readAsArrayBuffer(file);\n",
       "    });\n",
       "    // Wait for the data to be ready.\n",
       "    let fileData = yield {\n",
       "      promise: fileDataPromise,\n",
       "      response: {\n",
       "        action: 'continue',\n",
       "      }\n",
       "    };\n",
       "\n",
       "    // Use a chunked sending to avoid message size limits. See b/62115660.\n",
       "    let position = 0;\n",
       "    do {\n",
       "      const length = Math.min(fileData.byteLength - position, MAX_PAYLOAD_SIZE);\n",
       "      const chunk = new Uint8Array(fileData, position, length);\n",
       "      position += length;\n",
       "\n",
       "      const base64 = btoa(String.fromCharCode.apply(null, chunk));\n",
       "      yield {\n",
       "        response: {\n",
       "          action: 'append',\n",
       "          file: file.name,\n",
       "          data: base64,\n",
       "        },\n",
       "      };\n",
       "\n",
       "      let percentDone = fileData.byteLength === 0 ?\n",
       "          100 :\n",
       "          Math.round((position / fileData.byteLength) * 100);\n",
       "      percent.textContent = `${percentDone}% done`;\n",
       "\n",
       "    } while (position < fileData.byteLength);\n",
       "  }\n",
       "\n",
       "  // All done.\n",
       "  yield {\n",
       "    response: {\n",
       "      action: 'complete',\n",
       "    }\n",
       "  };\n",
       "}\n",
       "\n",
       "scope.google = scope.google || {};\n",
       "scope.google.colab = scope.google.colab || {};\n",
       "scope.google.colab._files = {\n",
       "  _uploadFiles,\n",
       "  _uploadFilesContinue,\n",
       "};\n",
       "})(self);\n",
       "</script> "
      ]
     },
     "metadata": {}
    },
    {
     "output_type": "stream",
     "name": "stdout",
     "text": [
      "Saving crossval.zip to crossval.zip\n",
      "上传的文件: crossval.zip\n"
     ]
    }
   ]
  },
  {
   "cell_type": "code",
   "source": [
    "!pip install ultralytics\n"
   ],
   "metadata": {
    "colab": {
     "base_uri": "https://localhost:8080/"
    },
    "id": "RV-N_fZDFWDH",
    "outputId": "8d259c75-bec7-475e-e244-224472baf5b2"
   },
   "execution_count": null,
   "outputs": [
    {
     "output_type": "stream",
     "name": "stdout",
     "text": [
      "Collecting ultralytics\n",
      "  Downloading ultralytics-8.3.173-py3-none-any.whl.metadata (37 kB)\n",
      "Requirement already satisfied: numpy>=1.23.0 in /usr/local/lib/python3.11/dist-packages (from ultralytics) (2.0.2)\n",
      "Requirement already satisfied: matplotlib>=3.3.0 in /usr/local/lib/python3.11/dist-packages (from ultralytics) (3.10.0)\n",
      "Requirement already satisfied: opencv-python>=4.6.0 in /usr/local/lib/python3.11/dist-packages (from ultralytics) (4.12.0.88)\n",
      "Requirement already satisfied: pillow>=7.1.2 in /usr/local/lib/python3.11/dist-packages (from ultralytics) (11.3.0)\n",
      "Requirement already satisfied: pyyaml>=5.3.1 in /usr/local/lib/python3.11/dist-packages (from ultralytics) (6.0.2)\n",
      "Requirement already satisfied: requests>=2.23.0 in /usr/local/lib/python3.11/dist-packages (from ultralytics) (2.32.3)\n",
      "Requirement already satisfied: scipy>=1.4.1 in /usr/local/lib/python3.11/dist-packages (from ultralytics) (1.16.0)\n",
      "Requirement already satisfied: torch>=1.8.0 in /usr/local/lib/python3.11/dist-packages (from ultralytics) (2.6.0+cu124)\n",
      "Requirement already satisfied: torchvision>=0.9.0 in /usr/local/lib/python3.11/dist-packages (from ultralytics) (0.21.0+cu124)\n",
      "Requirement already satisfied: tqdm>=4.64.0 in /usr/local/lib/python3.11/dist-packages (from ultralytics) (4.67.1)\n",
      "Requirement already satisfied: psutil in /usr/local/lib/python3.11/dist-packages (from ultralytics) (5.9.5)\n",
      "Requirement already satisfied: py-cpuinfo in /usr/local/lib/python3.11/dist-packages (from ultralytics) (9.0.0)\n",
      "Requirement already satisfied: pandas>=1.1.4 in /usr/local/lib/python3.11/dist-packages (from ultralytics) (2.2.2)\n",
      "Collecting ultralytics-thop>=2.0.0 (from ultralytics)\n",
      "  Downloading ultralytics_thop-2.0.14-py3-none-any.whl.metadata (9.4 kB)\n",
      "Requirement already satisfied: contourpy>=1.0.1 in /usr/local/lib/python3.11/dist-packages (from matplotlib>=3.3.0->ultralytics) (1.3.2)\n",
      "Requirement already satisfied: cycler>=0.10 in /usr/local/lib/python3.11/dist-packages (from matplotlib>=3.3.0->ultralytics) (0.12.1)\n",
      "Requirement already satisfied: fonttools>=4.22.0 in /usr/local/lib/python3.11/dist-packages (from matplotlib>=3.3.0->ultralytics) (4.59.0)\n",
      "Requirement already satisfied: kiwisolver>=1.3.1 in /usr/local/lib/python3.11/dist-packages (from matplotlib>=3.3.0->ultralytics) (1.4.8)\n",
      "Requirement already satisfied: packaging>=20.0 in /usr/local/lib/python3.11/dist-packages (from matplotlib>=3.3.0->ultralytics) (25.0)\n",
      "Requirement already satisfied: pyparsing>=2.3.1 in /usr/local/lib/python3.11/dist-packages (from matplotlib>=3.3.0->ultralytics) (3.2.3)\n",
      "Requirement already satisfied: python-dateutil>=2.7 in /usr/local/lib/python3.11/dist-packages (from matplotlib>=3.3.0->ultralytics) (2.9.0.post0)\n",
      "Requirement already satisfied: pytz>=2020.1 in /usr/local/lib/python3.11/dist-packages (from pandas>=1.1.4->ultralytics) (2025.2)\n",
      "Requirement already satisfied: tzdata>=2022.7 in /usr/local/lib/python3.11/dist-packages (from pandas>=1.1.4->ultralytics) (2025.2)\n",
      "Requirement already satisfied: charset-normalizer<4,>=2 in /usr/local/lib/python3.11/dist-packages (from requests>=2.23.0->ultralytics) (3.4.2)\n",
      "Requirement already satisfied: idna<4,>=2.5 in /usr/local/lib/python3.11/dist-packages (from requests>=2.23.0->ultralytics) (3.10)\n",
      "Requirement already satisfied: urllib3<3,>=1.21.1 in /usr/local/lib/python3.11/dist-packages (from requests>=2.23.0->ultralytics) (2.5.0)\n",
      "Requirement already satisfied: certifi>=2017.4.17 in /usr/local/lib/python3.11/dist-packages (from requests>=2.23.0->ultralytics) (2025.7.14)\n",
      "Requirement already satisfied: filelock in /usr/local/lib/python3.11/dist-packages (from torch>=1.8.0->ultralytics) (3.18.0)\n",
      "Requirement already satisfied: typing-extensions>=4.10.0 in /usr/local/lib/python3.11/dist-packages (from torch>=1.8.0->ultralytics) (4.14.1)\n",
      "Requirement already satisfied: networkx in /usr/local/lib/python3.11/dist-packages (from torch>=1.8.0->ultralytics) (3.5)\n",
      "Requirement already satisfied: jinja2 in /usr/local/lib/python3.11/dist-packages (from torch>=1.8.0->ultralytics) (3.1.6)\n",
      "Requirement already satisfied: fsspec in /usr/local/lib/python3.11/dist-packages (from torch>=1.8.0->ultralytics) (2025.3.0)\n",
      "Collecting nvidia-cuda-nvrtc-cu12==12.4.127 (from torch>=1.8.0->ultralytics)\n",
      "  Downloading nvidia_cuda_nvrtc_cu12-12.4.127-py3-none-manylinux2014_x86_64.whl.metadata (1.5 kB)\n",
      "Collecting nvidia-cuda-runtime-cu12==12.4.127 (from torch>=1.8.0->ultralytics)\n",
      "  Downloading nvidia_cuda_runtime_cu12-12.4.127-py3-none-manylinux2014_x86_64.whl.metadata (1.5 kB)\n",
      "Collecting nvidia-cuda-cupti-cu12==12.4.127 (from torch>=1.8.0->ultralytics)\n",
      "  Downloading nvidia_cuda_cupti_cu12-12.4.127-py3-none-manylinux2014_x86_64.whl.metadata (1.6 kB)\n",
      "Collecting nvidia-cudnn-cu12==9.1.0.70 (from torch>=1.8.0->ultralytics)\n",
      "  Downloading nvidia_cudnn_cu12-9.1.0.70-py3-none-manylinux2014_x86_64.whl.metadata (1.6 kB)\n",
      "Collecting nvidia-cublas-cu12==12.4.5.8 (from torch>=1.8.0->ultralytics)\n",
      "  Downloading nvidia_cublas_cu12-12.4.5.8-py3-none-manylinux2014_x86_64.whl.metadata (1.5 kB)\n",
      "Collecting nvidia-cufft-cu12==11.2.1.3 (from torch>=1.8.0->ultralytics)\n",
      "  Downloading nvidia_cufft_cu12-11.2.1.3-py3-none-manylinux2014_x86_64.whl.metadata (1.5 kB)\n",
      "Collecting nvidia-curand-cu12==10.3.5.147 (from torch>=1.8.0->ultralytics)\n",
      "  Downloading nvidia_curand_cu12-10.3.5.147-py3-none-manylinux2014_x86_64.whl.metadata (1.5 kB)\n",
      "Collecting nvidia-cusolver-cu12==11.6.1.9 (from torch>=1.8.0->ultralytics)\n",
      "  Downloading nvidia_cusolver_cu12-11.6.1.9-py3-none-manylinux2014_x86_64.whl.metadata (1.6 kB)\n",
      "Collecting nvidia-cusparse-cu12==12.3.1.170 (from torch>=1.8.0->ultralytics)\n",
      "  Downloading nvidia_cusparse_cu12-12.3.1.170-py3-none-manylinux2014_x86_64.whl.metadata (1.6 kB)\n",
      "Requirement already satisfied: nvidia-cusparselt-cu12==0.6.2 in /usr/local/lib/python3.11/dist-packages (from torch>=1.8.0->ultralytics) (0.6.2)\n",
      "Requirement already satisfied: nvidia-nccl-cu12==2.21.5 in /usr/local/lib/python3.11/dist-packages (from torch>=1.8.0->ultralytics) (2.21.5)\n",
      "Requirement already satisfied: nvidia-nvtx-cu12==12.4.127 in /usr/local/lib/python3.11/dist-packages (from torch>=1.8.0->ultralytics) (12.4.127)\n",
      "Collecting nvidia-nvjitlink-cu12==12.4.127 (from torch>=1.8.0->ultralytics)\n",
      "  Downloading nvidia_nvjitlink_cu12-12.4.127-py3-none-manylinux2014_x86_64.whl.metadata (1.5 kB)\n",
      "Requirement already satisfied: triton==3.2.0 in /usr/local/lib/python3.11/dist-packages (from torch>=1.8.0->ultralytics) (3.2.0)\n",
      "Requirement already satisfied: sympy==1.13.1 in /usr/local/lib/python3.11/dist-packages (from torch>=1.8.0->ultralytics) (1.13.1)\n",
      "Requirement already satisfied: mpmath<1.4,>=1.1.0 in /usr/local/lib/python3.11/dist-packages (from sympy==1.13.1->torch>=1.8.0->ultralytics) (1.3.0)\n",
      "Requirement already satisfied: six>=1.5 in /usr/local/lib/python3.11/dist-packages (from python-dateutil>=2.7->matplotlib>=3.3.0->ultralytics) (1.17.0)\n",
      "Requirement already satisfied: MarkupSafe>=2.0 in /usr/local/lib/python3.11/dist-packages (from jinja2->torch>=1.8.0->ultralytics) (3.0.2)\n",
      "Downloading ultralytics-8.3.173-py3-none-any.whl (1.0 MB)\n",
      "\u001B[2K   \u001B[90m━━━━━━━━━━━━━━━━━━━━━━━━━━━━━━━━━━━━━━━━\u001B[0m \u001B[32m1.0/1.0 MB\u001B[0m \u001B[31m28.1 MB/s\u001B[0m eta \u001B[36m0:00:00\u001B[0m\n",
      "\u001B[?25hDownloading nvidia_cublas_cu12-12.4.5.8-py3-none-manylinux2014_x86_64.whl (363.4 MB)\n",
      "\u001B[2K   \u001B[90m━━━━━━━━━━━━━━━━━━━━━━━━━━━━━━━━━━━━━━━━\u001B[0m \u001B[32m363.4/363.4 MB\u001B[0m \u001B[31m4.7 MB/s\u001B[0m eta \u001B[36m0:00:00\u001B[0m\n",
      "\u001B[?25hDownloading nvidia_cuda_cupti_cu12-12.4.127-py3-none-manylinux2014_x86_64.whl (13.8 MB)\n",
      "\u001B[2K   \u001B[90m━━━━━━━━━━━━━━━━━━━━━━━━━━━━━━━━━━━━━━━━\u001B[0m \u001B[32m13.8/13.8 MB\u001B[0m \u001B[31m123.7 MB/s\u001B[0m eta \u001B[36m0:00:00\u001B[0m\n",
      "\u001B[?25hDownloading nvidia_cuda_nvrtc_cu12-12.4.127-py3-none-manylinux2014_x86_64.whl (24.6 MB)\n",
      "\u001B[2K   \u001B[90m━━━━━━━━━━━━━━━━━━━━━━━━━━━━━━━━━━━━━━━━\u001B[0m \u001B[32m24.6/24.6 MB\u001B[0m \u001B[31m98.5 MB/s\u001B[0m eta \u001B[36m0:00:00\u001B[0m\n",
      "\u001B[?25hDownloading nvidia_cuda_runtime_cu12-12.4.127-py3-none-manylinux2014_x86_64.whl (883 kB)\n",
      "\u001B[2K   \u001B[90m━━━━━━━━━━━━━━━━━━━━━━━━━━━━━━━━━━━━━━━━\u001B[0m \u001B[32m883.7/883.7 kB\u001B[0m \u001B[31m55.9 MB/s\u001B[0m eta \u001B[36m0:00:00\u001B[0m\n",
      "\u001B[?25hDownloading nvidia_cudnn_cu12-9.1.0.70-py3-none-manylinux2014_x86_64.whl (664.8 MB)\n",
      "\u001B[2K   \u001B[90m━━━━━━━━━━━━━━━━━━━━━━━━━━━━━━━━━━━━━━━━\u001B[0m \u001B[32m664.8/664.8 MB\u001B[0m \u001B[31m2.1 MB/s\u001B[0m eta \u001B[36m0:00:00\u001B[0m\n",
      "\u001B[?25hDownloading nvidia_cufft_cu12-11.2.1.3-py3-none-manylinux2014_x86_64.whl (211.5 MB)\n",
      "\u001B[2K   \u001B[90m━━━━━━━━━━━━━━━━━━━━━━━━━━━━━━━━━━━━━━━━\u001B[0m \u001B[32m211.5/211.5 MB\u001B[0m \u001B[31m5.5 MB/s\u001B[0m eta \u001B[36m0:00:00\u001B[0m\n",
      "\u001B[?25hDownloading nvidia_curand_cu12-10.3.5.147-py3-none-manylinux2014_x86_64.whl (56.3 MB)\n",
      "\u001B[2K   \u001B[90m━━━━━━━━━━━━━━━━━━━━━━━━━━━━━━━━━━━━━━━━\u001B[0m \u001B[32m56.3/56.3 MB\u001B[0m \u001B[31m13.0 MB/s\u001B[0m eta \u001B[36m0:00:00\u001B[0m\n",
      "\u001B[?25hDownloading nvidia_cusolver_cu12-11.6.1.9-py3-none-manylinux2014_x86_64.whl (127.9 MB)\n",
      "\u001B[2K   \u001B[90m━━━━━━━━━━━━━━━━━━━━━━━━━━━━━━━━━━━━━━━━\u001B[0m \u001B[32m127.9/127.9 MB\u001B[0m \u001B[31m7.4 MB/s\u001B[0m eta \u001B[36m0:00:00\u001B[0m\n",
      "\u001B[?25hDownloading nvidia_cusparse_cu12-12.3.1.170-py3-none-manylinux2014_x86_64.whl (207.5 MB)\n",
      "\u001B[2K   \u001B[90m━━━━━━━━━━━━━━━━━━━━━━━━━━━━━━━━━━━━━━━━\u001B[0m \u001B[32m207.5/207.5 MB\u001B[0m \u001B[31m5.5 MB/s\u001B[0m eta \u001B[36m0:00:00\u001B[0m\n",
      "\u001B[?25hDownloading nvidia_nvjitlink_cu12-12.4.127-py3-none-manylinux2014_x86_64.whl (21.1 MB)\n",
      "\u001B[2K   \u001B[90m━━━━━━━━━━━━━━━━━━━━━━━━━━━━━━━━━━━━━━━━\u001B[0m \u001B[32m21.1/21.1 MB\u001B[0m \u001B[31m110.1 MB/s\u001B[0m eta \u001B[36m0:00:00\u001B[0m\n",
      "\u001B[?25hDownloading ultralytics_thop-2.0.14-py3-none-any.whl (26 kB)\n",
      "Installing collected packages: nvidia-nvjitlink-cu12, nvidia-curand-cu12, nvidia-cufft-cu12, nvidia-cuda-runtime-cu12, nvidia-cuda-nvrtc-cu12, nvidia-cuda-cupti-cu12, nvidia-cublas-cu12, nvidia-cusparse-cu12, nvidia-cudnn-cu12, nvidia-cusolver-cu12, ultralytics-thop, ultralytics\n",
      "  Attempting uninstall: nvidia-nvjitlink-cu12\n",
      "    Found existing installation: nvidia-nvjitlink-cu12 12.5.82\n",
      "    Uninstalling nvidia-nvjitlink-cu12-12.5.82:\n",
      "      Successfully uninstalled nvidia-nvjitlink-cu12-12.5.82\n",
      "  Attempting uninstall: nvidia-curand-cu12\n",
      "    Found existing installation: nvidia-curand-cu12 10.3.6.82\n",
      "    Uninstalling nvidia-curand-cu12-10.3.6.82:\n",
      "      Successfully uninstalled nvidia-curand-cu12-10.3.6.82\n",
      "  Attempting uninstall: nvidia-cufft-cu12\n",
      "    Found existing installation: nvidia-cufft-cu12 11.2.3.61\n",
      "    Uninstalling nvidia-cufft-cu12-11.2.3.61:\n",
      "      Successfully uninstalled nvidia-cufft-cu12-11.2.3.61\n",
      "  Attempting uninstall: nvidia-cuda-runtime-cu12\n",
      "    Found existing installation: nvidia-cuda-runtime-cu12 12.5.82\n",
      "    Uninstalling nvidia-cuda-runtime-cu12-12.5.82:\n",
      "      Successfully uninstalled nvidia-cuda-runtime-cu12-12.5.82\n",
      "  Attempting uninstall: nvidia-cuda-nvrtc-cu12\n",
      "    Found existing installation: nvidia-cuda-nvrtc-cu12 12.5.82\n",
      "    Uninstalling nvidia-cuda-nvrtc-cu12-12.5.82:\n",
      "      Successfully uninstalled nvidia-cuda-nvrtc-cu12-12.5.82\n",
      "  Attempting uninstall: nvidia-cuda-cupti-cu12\n",
      "    Found existing installation: nvidia-cuda-cupti-cu12 12.5.82\n",
      "    Uninstalling nvidia-cuda-cupti-cu12-12.5.82:\n",
      "      Successfully uninstalled nvidia-cuda-cupti-cu12-12.5.82\n",
      "  Attempting uninstall: nvidia-cublas-cu12\n",
      "    Found existing installation: nvidia-cublas-cu12 12.5.3.2\n",
      "    Uninstalling nvidia-cublas-cu12-12.5.3.2:\n",
      "      Successfully uninstalled nvidia-cublas-cu12-12.5.3.2\n",
      "  Attempting uninstall: nvidia-cusparse-cu12\n",
      "    Found existing installation: nvidia-cusparse-cu12 12.5.1.3\n",
      "    Uninstalling nvidia-cusparse-cu12-12.5.1.3:\n",
      "      Successfully uninstalled nvidia-cusparse-cu12-12.5.1.3\n",
      "  Attempting uninstall: nvidia-cudnn-cu12\n",
      "    Found existing installation: nvidia-cudnn-cu12 9.3.0.75\n",
      "    Uninstalling nvidia-cudnn-cu12-9.3.0.75:\n",
      "      Successfully uninstalled nvidia-cudnn-cu12-9.3.0.75\n",
      "  Attempting uninstall: nvidia-cusolver-cu12\n",
      "    Found existing installation: nvidia-cusolver-cu12 11.6.3.83\n",
      "    Uninstalling nvidia-cusolver-cu12-11.6.3.83:\n",
      "      Successfully uninstalled nvidia-cusolver-cu12-11.6.3.83\n",
      "Successfully installed nvidia-cublas-cu12-12.4.5.8 nvidia-cuda-cupti-cu12-12.4.127 nvidia-cuda-nvrtc-cu12-12.4.127 nvidia-cuda-runtime-cu12-12.4.127 nvidia-cudnn-cu12-9.1.0.70 nvidia-cufft-cu12-11.2.1.3 nvidia-curand-cu12-10.3.5.147 nvidia-cusolver-cu12-11.6.1.9 nvidia-cusparse-cu12-12.3.1.170 nvidia-nvjitlink-cu12-12.4.127 ultralytics-8.3.173 ultralytics-thop-2.0.14\n"
     ]
    }
   ]
  },
  {
   "metadata": {},
   "cell_type": "code",
   "outputs": [],
   "execution_count": null,
   "source": [
    "import os\n",
    "import shutil\n",
    "import random\n",
    "from tqdm import tqdm\n",
    "from sklearn.model_selection import KFold\n",
    "\n",
    "# Paths (change according to your local setup)\n",
    "dataset_root = r'C:\\TUB\\Projekt\\Version2\\Dataset'\n",
    "images_path = os.path.join(dataset_root, 'images', 'train')\n",
    "labels_path = os.path.join(dataset_root, 'labels', 'train')\n",
    "\n",
    "# Test set output paths\n",
    "test_images_path = os.path.join(dataset_root, 'test', 'images')\n",
    "test_labels_path = os.path.join(dataset_root, 'test', 'labels')\n",
    "\n",
    "# Cross-validation output base path\n",
    "crossval_root = os.path.join(dataset_root, 'crossval')\n",
    "\n",
    "# Parameters\n",
    "num_folds = 3       # Number of folds for cross-validation\n",
    "test_ratio = 0.1    # 10% of data will be used as a test set\n",
    "\n",
    "# Create output folders if they don't exist\n",
    "os.makedirs(test_images_path, exist_ok=True)\n",
    "os.makedirs(test_labels_path, exist_ok=True)\n",
    "os.makedirs(crossval_root, exist_ok=True)\n",
    "\n",
    "# Get all image files (.jpg or .png)\n",
    "all_images = []\n",
    "for file in os.listdir(images_path):\n",
    "    if file.endswith('.jpg') or file.endswith('.png'):\n",
    "        all_images.append(file)\n",
    "\n",
    "# Create matching label filenames (.txt)\n",
    "all_labels = []\n",
    "for img_file in all_images:\n",
    "    label_file = img_file.replace('.jpg', '.txt').replace('.png', '.txt')\n",
    "    all_labels.append(label_file)\n",
    "\n",
    "# Pair each image with its label\n",
    "all_samples = list(zip(all_images, all_labels))\n",
    "\n",
    "# Shuffle the data to ensure randomness\n",
    "random.seed(42)\n",
    "random.shuffle(all_samples)\n",
    "\n",
    "# Split off 10% of data for the test set\n",
    "num_test = int(len(all_samples) * test_ratio)\n",
    "test_samples = all_samples[:num_test]\n",
    "trainval_samples = all_samples[num_test:]\n",
    "\n",
    "print(f\"Total images: {len(all_samples)}\")\n",
    "print(f\"Test set size: {len(test_samples)}\")\n",
    "print(f\"Remaining for cross-validation: {len(trainval_samples)}\")\n",
    "\n",
    "# Copy test set files to test folder\n",
    "for img_file, label_file in tqdm(test_samples, desc=\"Copying test set\"):\n",
    "    shutil.copy(os.path.join(images_path, img_file), os.path.join(test_images_path, img_file))\n",
    "    shutil.copy(os.path.join(labels_path, label_file), os.path.join(test_labels_path, label_file))\n",
    "\n",
    "# Extract only image names for cross-validation split\n",
    "trainval_images = [img for img, lbl in trainval_samples]\n",
    "\n",
    "# Split remaining data into K folds\n",
    "kf = KFold(n_splits=num_folds, shuffle=True, random_state=42)\n",
    "\n",
    "for fold_index, (train_idx, val_idx) in enumerate(kf.split(trainval_images)):\n",
    "    # Define paths for this fold\n",
    "    fold_path = os.path.join(crossval_root, f'fold_{fold_index}')\n",
    "    train_img_out = os.path.join(fold_path, 'images', 'train')\n",
    "    val_img_out = os.path.join(fold_path, 'images', 'val')\n",
    "    train_lbl_out = os.path.join(fold_path, 'labels', 'train')\n",
    "    val_lbl_out = os.path.join(fold_path, 'labels', 'val')\n",
    "\n",
    "    # Create necessary folders\n",
    "    os.makedirs(train_img_out, exist_ok=True)\n",
    "    os.makedirs(val_img_out, exist_ok=True)\n",
    "    os.makedirs(train_lbl_out, exist_ok=True)\n",
    "    os.makedirs(val_lbl_out, exist_ok=True)\n",
    "\n",
    "    # Copy training files\n",
    "    for idx in train_idx:\n",
    "        img_name = trainval_images[idx]\n",
    "        label_name = img_name.replace('.jpg', '.txt').replace('.png', '.txt')\n",
    "        shutil.copy(os.path.join(images_path, img_name), os.path.join(train_img_out, img_name))\n",
    "        shutil.copy(os.path.join(labels_path, label_name), os.path.join(train_lbl_out, label_name))\n",
    "\n",
    "    # Copy validation files\n",
    "    for idx in val_idx:\n",
    "        img_name = trainval_images[idx]\n",
    "        label_name = img_name.replace('.jpg', '.txt').replace('.png', '.txt')\n",
    "        shutil.copy(os.path.join(images_path, img_name), os.path.join(val_img_out, img_name))\n",
    "        shutil.copy(os.path.join(labels_path, label_name), os.path.join(val_lbl_out, label_name))\n",
    "\n",
    "    print(f\"Fold {fold_index} completed.\")\n",
    "\n",
    "print(\"Data splitting completed.\")\n",
    "\n"
   ]
  },
  {
   "cell_type": "code",
   "source": [
    "from ultralytics import YOLO\n",
    "import os\n",
    "\n",
    "model_path = 'yolov8n.pt'\n",
    "\n",
    "base_data_path = \"crossval\"\n",
    "epochs = 50\n",
    "imgsz = 640\n",
    "batch = 16\n",
    "device = 0\n",
    "\n",
    "for fold in range(3):\n",
    "    print(f\"\\n Training Fold {fold}...\\n\")\n",
    "\n",
    "    data_yaml = os.path.join(base_data_path, f\"fold_{fold}\", f\"data_fold_{fold}.yaml\")\n",
    "    model = YOLO(model_path)\n",
    "    model.train(\n",
    "        data=data_yaml,\n",
    "        epochs=epochs,\n",
    "        imgsz=imgsz,\n",
    "        batch=batch,\n",
    "        device=device,\n",
    "        name=f\"fold{fold}\"\n",
    "    )\n"
   ],
   "metadata": {
    "colab": {
     "base_uri": "https://localhost:8080/"
    },
    "id": "ItDKdK-_GDTe",
    "outputId": "197c43bf-95c5-4e27-e2db-664548eb326a"
   },
   "execution_count": null,
   "outputs": [
    {
     "output_type": "stream",
     "name": "stdout",
     "text": [
      "\n",
      "🔁 正在训练 Fold 0...\n",
      "\n",
      "Ultralytics 8.3.173 🚀 Python-3.11.13 torch-2.6.0+cu124 CUDA:0 (Tesla T4, 15095MiB)\n",
      "\u001B[34m\u001B[1mengine/trainer: \u001B[0magnostic_nms=False, amp=True, augment=False, auto_augment=randaugment, batch=16, bgr=0.0, box=7.5, cache=False, cfg=None, classes=None, close_mosaic=10, cls=0.5, conf=None, copy_paste=0.0, copy_paste_mode=flip, cos_lr=False, cutmix=0.0, data=crossval/fold_0/data_fold_0.yaml, degrees=0.0, deterministic=True, device=0, dfl=1.5, dnn=False, dropout=0.0, dynamic=False, embed=None, epochs=50, erasing=0.4, exist_ok=False, fliplr=0.5, flipud=0.0, format=torchscript, fraction=1.0, freeze=None, half=False, hsv_h=0.015, hsv_s=0.7, hsv_v=0.4, imgsz=640, int8=False, iou=0.7, keras=False, kobj=1.0, line_width=None, lr0=0.01, lrf=0.01, mask_ratio=4, max_det=300, mixup=0.0, mode=train, model=yolov8n.pt, momentum=0.937, mosaic=1.0, multi_scale=False, name=fold06, nbs=64, nms=False, opset=None, optimize=False, optimizer=auto, overlap_mask=True, patience=100, perspective=0.0, plots=True, pose=12.0, pretrained=True, profile=False, project=None, rect=False, resume=False, retina_masks=False, save=True, save_conf=False, save_crop=False, save_dir=runs/detect/fold06, save_frames=False, save_json=False, save_period=-1, save_txt=False, scale=0.5, seed=0, shear=0.0, show=False, show_boxes=True, show_conf=True, show_labels=True, simplify=True, single_cls=False, source=None, split=val, stream_buffer=False, task=detect, time=None, tracker=botsort.yaml, translate=0.1, val=True, verbose=True, vid_stride=1, visualize=False, warmup_bias_lr=0.1, warmup_epochs=3.0, warmup_momentum=0.8, weight_decay=0.0005, workers=8, workspace=None\n"
     ]
    },
    {
     "output_type": "stream",
     "name": "stderr",
     "text": [
      "Downloading https://ultralytics.com/assets/Arial.ttf to '/root/.config/Ultralytics/Arial.ttf': 100%|██████████| 755k/755k [00:00<00:00, 22.3MB/s]"
     ]
    },
    {
     "output_type": "stream",
     "name": "stdout",
     "text": [
      "Overriding model.yaml nc=80 with nc=4\n",
      "\n",
      "                   from  n    params  module                                       arguments                     \n",
      "  0                  -1  1       464  ultralytics.nn.modules.conv.Conv             [3, 16, 3, 2]                 \n",
      "  1                  -1  1      4672  ultralytics.nn.modules.conv.Conv             [16, 32, 3, 2]                \n",
      "  2                  -1  1      7360  ultralytics.nn.modules.block.C2f             [32, 32, 1, True]             \n",
      "  3                  -1  1     18560  ultralytics.nn.modules.conv.Conv             [32, 64, 3, 2]                \n",
      "  4                  -1  2     49664  ultralytics.nn.modules.block.C2f             [64, 64, 2, True]             \n",
      "  5                  -1  1     73984  ultralytics.nn.modules.conv.Conv             [64, 128, 3, 2]               \n",
      "  6                  -1  2    197632  ultralytics.nn.modules.block.C2f             [128, 128, 2, True]           \n",
      "  7                  -1  1    295424  ultralytics.nn.modules.conv.Conv             [128, 256, 3, 2]              \n",
      "  8                  -1  1    460288  ultralytics.nn.modules.block.C2f             [256, 256, 1, True]           \n",
      "  9                  -1  1    164608  ultralytics.nn.modules.block.SPPF            [256, 256, 5]                 \n",
      " 10                  -1  1         0  torch.nn.modules.upsampling.Upsample         [None, 2, 'nearest']          \n",
      " 11             [-1, 6]  1         0  ultralytics.nn.modules.conv.Concat           [1]                           \n",
      " 12                  -1  1    148224  ultralytics.nn.modules.block.C2f             [384, 128, 1]                 \n",
      " 13                  -1  1         0  torch.nn.modules.upsampling.Upsample         [None, 2, 'nearest']          \n",
      " 14             [-1, 4]  1         0  ultralytics.nn.modules.conv.Concat           [1]                           \n",
      " 15                  -1  1     37248  ultralytics.nn.modules.block.C2f             [192, 64, 1]                  \n",
      " 16                  -1  1     36992  ultralytics.nn.modules.conv.Conv             [64, 64, 3, 2]                \n",
      " 17            [-1, 12]  1         0  ultralytics.nn.modules.conv.Concat           [1]                           \n",
      " 18                  -1  1    123648  ultralytics.nn.modules.block.C2f             [192, 128, 1]                 \n",
      " 19                  -1  1    147712  ultralytics.nn.modules.conv.Conv             [128, 128, 3, 2]              \n",
      " 20             [-1, 9]  1         0  ultralytics.nn.modules.conv.Concat           [1]                           \n",
      " 21                  -1  1    493056  ultralytics.nn.modules.block.C2f             [384, 256, 1]                 \n",
      " 22        [15, 18, 21]  1    752092  ultralytics.nn.modules.head.Detect           [4, [64, 128, 256]]           \n"
     ]
    },
    {
     "output_type": "stream",
     "name": "stderr",
     "text": [
      "\n"
     ]
    },
    {
     "output_type": "stream",
     "name": "stdout",
     "text": [
      "Model summary: 129 layers, 3,011,628 parameters, 3,011,612 gradients, 8.2 GFLOPs\n",
      "\n",
      "Transferred 319/355 items from pretrained weights\n",
      "Freezing layer 'model.22.dfl.conv.weight'\n",
      "\u001B[34m\u001B[1mAMP: \u001B[0mrunning Automatic Mixed Precision (AMP) checks...\n"
     ]
    },
    {
     "output_type": "stream",
     "name": "stderr",
     "text": [
      "Downloading https://github.com/ultralytics/assets/releases/download/v8.3.0/yolo11n.pt to 'yolo11n.pt': 100%|██████████| 5.35M/5.35M [00:00<00:00, 75.4MB/s]\n"
     ]
    },
    {
     "output_type": "stream",
     "name": "stdout",
     "text": [
      "\u001B[34m\u001B[1mAMP: \u001B[0mchecks passed ✅\n",
      "\u001B[34m\u001B[1mtrain: \u001B[0mFast image access ✅ (ping: 0.0±0.0 ms, read: 9.2±1.9 MB/s, size: 10.0 KB)\n"
     ]
    },
    {
     "output_type": "stream",
     "name": "stderr",
     "text": [
      "\u001B[34m\u001B[1mtrain: \u001B[0mScanning /content/crossval/fold_0/labels/train... 721 images, 0 backgrounds, 0 corrupt: 100%|██████████| 721/721 [00:00<00:00, 1725.46it/s]"
     ]
    },
    {
     "output_type": "stream",
     "name": "stdout",
     "text": [
      "\u001B[34m\u001B[1mtrain: \u001B[0mNew cache created: /content/crossval/fold_0/labels/train.cache\n"
     ]
    },
    {
     "output_type": "stream",
     "name": "stderr",
     "text": [
      "\n"
     ]
    },
    {
     "output_type": "stream",
     "name": "stdout",
     "text": [
      "\u001B[34m\u001B[1malbumentations: \u001B[0mBlur(p=0.01, blur_limit=(3, 7)), MedianBlur(p=0.01, blur_limit=(3, 7)), ToGray(p=0.01, method='weighted_average', num_output_channels=3), CLAHE(p=0.01, clip_limit=(1.0, 4.0), tile_grid_size=(8, 8))\n",
      "\u001B[34m\u001B[1mval: \u001B[0mFast image access ✅ (ping: 0.0±0.0 ms, read: 3.3±1.7 MB/s, size: 9.9 KB)\n"
     ]
    },
    {
     "output_type": "stream",
     "name": "stderr",
     "text": [
      "\u001B[34m\u001B[1mval: \u001B[0mScanning /content/crossval/fold_0/labels/val... 361 images, 0 backgrounds, 0 corrupt: 100%|██████████| 361/361 [00:00<00:00, 702.11it/s]\n"
     ]
    },
    {
     "output_type": "stream",
     "name": "stdout",
     "text": [
      "\u001B[34m\u001B[1mval: \u001B[0mNew cache created: /content/crossval/fold_0/labels/val.cache\n",
      "Plotting labels to runs/detect/fold06/labels.jpg... \n",
      "\u001B[34m\u001B[1moptimizer:\u001B[0m 'optimizer=auto' found, ignoring 'lr0=0.01' and 'momentum=0.937' and determining best 'optimizer', 'lr0' and 'momentum' automatically... \n",
      "\u001B[34m\u001B[1moptimizer:\u001B[0m AdamW(lr=0.00125, momentum=0.9) with parameter groups 57 weight(decay=0.0), 64 weight(decay=0.0005), 63 bias(decay=0.0)\n",
      "Image sizes 640 train, 640 val\n",
      "Using 2 dataloader workers\n",
      "Logging results to \u001B[1mruns/detect/fold06\u001B[0m\n",
      "Starting training for 50 epochs...\n",
      "\n",
      "      Epoch    GPU_mem   box_loss   cls_loss   dfl_loss  Instances       Size\n"
     ]
    },
    {
     "output_type": "stream",
     "name": "stderr",
     "text": [
      "       1/50      2.05G      1.715      3.117      1.925          2        640: 100%|██████████| 46/46 [00:14<00:00,  3.08it/s]\n",
      "                 Class     Images  Instances      Box(P          R      mAP50  mAP50-95): 100%|██████████| 12/12 [00:03<00:00,  3.51it/s]\n"
     ]
    },
    {
     "output_type": "stream",
     "name": "stdout",
     "text": [
      "                   all        361        361      0.997      0.333      0.816      0.485\n",
      "\n",
      "      Epoch    GPU_mem   box_loss   cls_loss   dfl_loss  Instances       Size\n"
     ]
    },
    {
     "output_type": "stream",
     "name": "stderr",
     "text": [
      "       2/50      2.29G      1.325      1.869      1.448          4        640: 100%|██████████| 46/46 [00:12<00:00,  3.66it/s]\n",
      "                 Class     Images  Instances      Box(P          R      mAP50  mAP50-95): 100%|██████████| 12/12 [00:02<00:00,  4.82it/s]"
     ]
    },
    {
     "output_type": "stream",
     "name": "stdout",
     "text": [
      "                   all        361        361      0.559      0.693      0.588      0.306\n"
     ]
    },
    {
     "output_type": "stream",
     "name": "stderr",
     "text": [
      "\n"
     ]
    },
    {
     "output_type": "stream",
     "name": "stdout",
     "text": [
      "\n",
      "      Epoch    GPU_mem   box_loss   cls_loss   dfl_loss  Instances       Size\n"
     ]
    },
    {
     "output_type": "stream",
     "name": "stderr",
     "text": [
      "       3/50       2.3G      1.327      1.706      1.423          2        640: 100%|██████████| 46/46 [00:12<00:00,  3.69it/s]\n",
      "                 Class     Images  Instances      Box(P          R      mAP50  mAP50-95): 100%|██████████| 12/12 [00:02<00:00,  5.22it/s]"
     ]
    },
    {
     "output_type": "stream",
     "name": "stdout",
     "text": [
      "                   all        361        361       0.74      0.809      0.865       0.41\n"
     ]
    },
    {
     "output_type": "stream",
     "name": "stderr",
     "text": [
      "\n"
     ]
    },
    {
     "output_type": "stream",
     "name": "stdout",
     "text": [
      "\n",
      "      Epoch    GPU_mem   box_loss   cls_loss   dfl_loss  Instances       Size\n"
     ]
    },
    {
     "output_type": "stream",
     "name": "stderr",
     "text": [
      "       4/50      2.32G      1.298      1.523      1.386          4        640: 100%|██████████| 46/46 [00:12<00:00,  3.66it/s]\n",
      "                 Class     Images  Instances      Box(P          R      mAP50  mAP50-95): 100%|██████████| 12/12 [00:02<00:00,  4.99it/s]\n"
     ]
    },
    {
     "output_type": "stream",
     "name": "stdout",
     "text": [
      "                   all        361        361      0.736      0.858      0.846      0.411\n",
      "\n",
      "      Epoch    GPU_mem   box_loss   cls_loss   dfl_loss  Instances       Size\n"
     ]
    },
    {
     "output_type": "stream",
     "name": "stderr",
     "text": [
      "       5/50      2.34G      1.304       1.39      1.388          4        640: 100%|██████████| 46/46 [00:12<00:00,  3.79it/s]\n",
      "                 Class     Images  Instances      Box(P          R      mAP50  mAP50-95): 100%|██████████| 12/12 [00:03<00:00,  3.46it/s]"
     ]
    },
    {
     "output_type": "stream",
     "name": "stdout",
     "text": [
      "                   all        361        361      0.704      0.601      0.703       0.43\n"
     ]
    },
    {
     "output_type": "stream",
     "name": "stderr",
     "text": [
      "\n"
     ]
    },
    {
     "output_type": "stream",
     "name": "stdout",
     "text": [
      "\n",
      "      Epoch    GPU_mem   box_loss   cls_loss   dfl_loss  Instances       Size\n"
     ]
    },
    {
     "output_type": "stream",
     "name": "stderr",
     "text": [
      "       6/50      2.36G      1.282      1.271       1.39          1        640: 100%|██████████| 46/46 [00:13<00:00,  3.38it/s]\n",
      "                 Class     Images  Instances      Box(P          R      mAP50  mAP50-95): 100%|██████████| 12/12 [00:02<00:00,  5.11it/s]"
     ]
    },
    {
     "output_type": "stream",
     "name": "stdout",
     "text": [
      "                   all        361        361       0.86      0.821      0.924      0.531\n"
     ]
    },
    {
     "output_type": "stream",
     "name": "stderr",
     "text": [
      "\n"
     ]
    },
    {
     "output_type": "stream",
     "name": "stdout",
     "text": [
      "\n",
      "      Epoch    GPU_mem   box_loss   cls_loss   dfl_loss  Instances       Size\n"
     ]
    },
    {
     "output_type": "stream",
     "name": "stderr",
     "text": [
      "       7/50      2.37G      1.207      1.159      1.339          4        640: 100%|██████████| 46/46 [00:12<00:00,  3.71it/s]\n",
      "                 Class     Images  Instances      Box(P          R      mAP50  mAP50-95): 100%|██████████| 12/12 [00:02<00:00,  5.17it/s]"
     ]
    },
    {
     "output_type": "stream",
     "name": "stdout",
     "text": [
      "                   all        361        361      0.972      0.972      0.991      0.625\n"
     ]
    },
    {
     "output_type": "stream",
     "name": "stderr",
     "text": [
      "\n"
     ]
    },
    {
     "output_type": "stream",
     "name": "stdout",
     "text": [
      "\n",
      "      Epoch    GPU_mem   box_loss   cls_loss   dfl_loss  Instances       Size\n"
     ]
    },
    {
     "output_type": "stream",
     "name": "stderr",
     "text": [
      "       8/50      2.39G      1.212      1.108      1.338          2        640: 100%|██████████| 46/46 [00:12<00:00,  3.74it/s]\n",
      "                 Class     Images  Instances      Box(P          R      mAP50  mAP50-95): 100%|██████████| 12/12 [00:02<00:00,  5.06it/s]"
     ]
    },
    {
     "output_type": "stream",
     "name": "stdout",
     "text": [
      "                   all        361        361      0.875      0.862      0.901      0.508\n"
     ]
    },
    {
     "output_type": "stream",
     "name": "stderr",
     "text": [
      "\n"
     ]
    },
    {
     "output_type": "stream",
     "name": "stdout",
     "text": [
      "\n",
      "      Epoch    GPU_mem   box_loss   cls_loss   dfl_loss  Instances       Size\n"
     ]
    },
    {
     "output_type": "stream",
     "name": "stderr",
     "text": [
      "       9/50      2.41G      1.221      1.071      1.342          4        640: 100%|██████████| 46/46 [00:12<00:00,  3.75it/s]\n",
      "                 Class     Images  Instances      Box(P          R      mAP50  mAP50-95): 100%|██████████| 12/12 [00:02<00:00,  5.10it/s]"
     ]
    },
    {
     "output_type": "stream",
     "name": "stdout",
     "text": [
      "                   all        361        361      0.973      0.956      0.983      0.629\n"
     ]
    },
    {
     "output_type": "stream",
     "name": "stderr",
     "text": [
      "\n"
     ]
    },
    {
     "output_type": "stream",
     "name": "stdout",
     "text": [
      "\n",
      "      Epoch    GPU_mem   box_loss   cls_loss   dfl_loss  Instances       Size\n"
     ]
    },
    {
     "output_type": "stream",
     "name": "stderr",
     "text": [
      "      10/50      2.43G      1.201      1.035      1.318          4        640: 100%|██████████| 46/46 [00:12<00:00,  3.68it/s]\n",
      "                 Class     Images  Instances      Box(P          R      mAP50  mAP50-95): 100%|██████████| 12/12 [00:02<00:00,  4.05it/s]"
     ]
    },
    {
     "output_type": "stream",
     "name": "stdout",
     "text": [
      "                   all        361        361      0.996      0.995      0.993      0.675\n"
     ]
    },
    {
     "output_type": "stream",
     "name": "stderr",
     "text": [
      "\n"
     ]
    },
    {
     "output_type": "stream",
     "name": "stdout",
     "text": [
      "\n",
      "      Epoch    GPU_mem   box_loss   cls_loss   dfl_loss  Instances       Size\n"
     ]
    },
    {
     "output_type": "stream",
     "name": "stderr",
     "text": [
      "      11/50      2.44G      1.194     0.9905      1.329          2        640: 100%|██████████| 46/46 [00:11<00:00,  3.94it/s]\n",
      "                 Class     Images  Instances      Box(P          R      mAP50  mAP50-95): 100%|██████████| 12/12 [00:03<00:00,  3.79it/s]"
     ]
    },
    {
     "output_type": "stream",
     "name": "stdout",
     "text": [
      "                   all        361        361      0.985      0.965      0.992      0.654\n"
     ]
    },
    {
     "output_type": "stream",
     "name": "stderr",
     "text": [
      "\n"
     ]
    },
    {
     "output_type": "stream",
     "name": "stdout",
     "text": [
      "\n",
      "      Epoch    GPU_mem   box_loss   cls_loss   dfl_loss  Instances       Size\n"
     ]
    },
    {
     "output_type": "stream",
     "name": "stderr",
     "text": [
      "      12/50      2.46G      1.177     0.9695      1.302          4        640: 100%|██████████| 46/46 [00:12<00:00,  3.77it/s]\n",
      "                 Class     Images  Instances      Box(P          R      mAP50  mAP50-95): 100%|██████████| 12/12 [00:02<00:00,  4.98it/s]"
     ]
    },
    {
     "output_type": "stream",
     "name": "stdout",
     "text": [
      "                   all        361        361      0.874      0.929      0.985      0.633\n"
     ]
    },
    {
     "output_type": "stream",
     "name": "stderr",
     "text": [
      "\n"
     ]
    },
    {
     "output_type": "stream",
     "name": "stdout",
     "text": [
      "\n",
      "      Epoch    GPU_mem   box_loss   cls_loss   dfl_loss  Instances       Size\n"
     ]
    },
    {
     "output_type": "stream",
     "name": "stderr",
     "text": [
      "      13/50      2.48G      1.161     0.8874      1.295          4        640: 100%|██████████| 46/46 [00:12<00:00,  3.76it/s]\n",
      "                 Class     Images  Instances      Box(P          R      mAP50  mAP50-95): 100%|██████████| 12/12 [00:02<00:00,  5.14it/s]"
     ]
    },
    {
     "output_type": "stream",
     "name": "stdout",
     "text": [
      "                   all        361        361      0.992      0.985      0.993      0.644\n"
     ]
    },
    {
     "output_type": "stream",
     "name": "stderr",
     "text": [
      "\n"
     ]
    },
    {
     "output_type": "stream",
     "name": "stdout",
     "text": [
      "\n",
      "      Epoch    GPU_mem   box_loss   cls_loss   dfl_loss  Instances       Size\n"
     ]
    },
    {
     "output_type": "stream",
     "name": "stderr",
     "text": [
      "      14/50      2.49G       1.17     0.8666      1.308          2        640: 100%|██████████| 46/46 [00:12<00:00,  3.70it/s]\n",
      "                 Class     Images  Instances      Box(P          R      mAP50  mAP50-95): 100%|██████████| 12/12 [00:02<00:00,  4.78it/s]"
     ]
    },
    {
     "output_type": "stream",
     "name": "stdout",
     "text": [
      "                   all        361        361      0.996      0.991      0.993      0.691\n"
     ]
    },
    {
     "output_type": "stream",
     "name": "stderr",
     "text": [
      "\n"
     ]
    },
    {
     "output_type": "stream",
     "name": "stdout",
     "text": [
      "\n",
      "      Epoch    GPU_mem   box_loss   cls_loss   dfl_loss  Instances       Size\n"
     ]
    },
    {
     "output_type": "stream",
     "name": "stderr",
     "text": [
      "      15/50      2.51G      1.135     0.8736      1.311          1        640: 100%|██████████| 46/46 [00:13<00:00,  3.53it/s]\n",
      "                 Class     Images  Instances      Box(P          R      mAP50  mAP50-95): 100%|██████████| 12/12 [00:02<00:00,  5.04it/s]"
     ]
    },
    {
     "output_type": "stream",
     "name": "stdout",
     "text": [
      "                   all        361        361      0.989      0.968      0.993      0.633\n"
     ]
    },
    {
     "output_type": "stream",
     "name": "stderr",
     "text": [
      "\n"
     ]
    },
    {
     "output_type": "stream",
     "name": "stdout",
     "text": [
      "\n",
      "      Epoch    GPU_mem   box_loss   cls_loss   dfl_loss  Instances       Size\n"
     ]
    },
    {
     "output_type": "stream",
     "name": "stderr",
     "text": [
      "      16/50      2.53G      1.141     0.8303      1.276          2        640: 100%|██████████| 46/46 [00:12<00:00,  3.70it/s]\n",
      "                 Class     Images  Instances      Box(P          R      mAP50  mAP50-95): 100%|██████████| 12/12 [00:02<00:00,  4.21it/s]"
     ]
    },
    {
     "output_type": "stream",
     "name": "stdout",
     "text": [
      "                   all        361        361      0.994      0.997      0.993      0.682\n"
     ]
    },
    {
     "output_type": "stream",
     "name": "stderr",
     "text": [
      "\n"
     ]
    },
    {
     "output_type": "stream",
     "name": "stdout",
     "text": [
      "\n",
      "      Epoch    GPU_mem   box_loss   cls_loss   dfl_loss  Instances       Size\n"
     ]
    },
    {
     "output_type": "stream",
     "name": "stderr",
     "text": [
      "      17/50      2.54G      1.112     0.7787      1.265          1        640: 100%|██████████| 46/46 [00:14<00:00,  3.20it/s]\n",
      "                 Class     Images  Instances      Box(P          R      mAP50  mAP50-95): 100%|██████████| 12/12 [00:02<00:00,  5.10it/s]"
     ]
    },
    {
     "output_type": "stream",
     "name": "stdout",
     "text": [
      "                   all        361        361      0.992      0.996      0.994      0.661\n"
     ]
    },
    {
     "output_type": "stream",
     "name": "stderr",
     "text": [
      "\n"
     ]
    },
    {
     "output_type": "stream",
     "name": "stdout",
     "text": [
      "\n",
      "      Epoch    GPU_mem   box_loss   cls_loss   dfl_loss  Instances       Size\n"
     ]
    },
    {
     "output_type": "stream",
     "name": "stderr",
     "text": [
      "      18/50      2.56G      1.102     0.7794      1.253          4        640: 100%|██████████| 46/46 [00:12<00:00,  3.69it/s]\n",
      "                 Class     Images  Instances      Box(P          R      mAP50  mAP50-95): 100%|██████████| 12/12 [00:02<00:00,  4.86it/s]"
     ]
    },
    {
     "output_type": "stream",
     "name": "stdout",
     "text": [
      "                   all        361        361      0.991      0.995      0.993      0.681\n"
     ]
    },
    {
     "output_type": "stream",
     "name": "stderr",
     "text": [
      "\n"
     ]
    },
    {
     "output_type": "stream",
     "name": "stdout",
     "text": [
      "\n",
      "      Epoch    GPU_mem   box_loss   cls_loss   dfl_loss  Instances       Size\n"
     ]
    },
    {
     "output_type": "stream",
     "name": "stderr",
     "text": [
      "      19/50      2.58G      1.087     0.7448      1.253          4        640: 100%|██████████| 46/46 [00:12<00:00,  3.70it/s]\n",
      "                 Class     Images  Instances      Box(P          R      mAP50  mAP50-95): 100%|██████████| 12/12 [00:02<00:00,  5.08it/s]"
     ]
    },
    {
     "output_type": "stream",
     "name": "stdout",
     "text": [
      "                   all        361        361      0.992      0.995      0.991       0.65\n"
     ]
    },
    {
     "output_type": "stream",
     "name": "stderr",
     "text": [
      "\n"
     ]
    },
    {
     "output_type": "stream",
     "name": "stdout",
     "text": [
      "\n",
      "      Epoch    GPU_mem   box_loss   cls_loss   dfl_loss  Instances       Size\n"
     ]
    },
    {
     "output_type": "stream",
     "name": "stderr",
     "text": [
      "      20/50       2.6G      1.116     0.8007      1.262          4        640: 100%|██████████| 46/46 [00:12<00:00,  3.74it/s]\n",
      "                 Class     Images  Instances      Box(P          R      mAP50  mAP50-95): 100%|██████████| 12/12 [00:02<00:00,  4.74it/s]"
     ]
    },
    {
     "output_type": "stream",
     "name": "stdout",
     "text": [
      "                   all        361        361      0.983      0.995      0.993      0.667\n"
     ]
    },
    {
     "output_type": "stream",
     "name": "stderr",
     "text": [
      "\n"
     ]
    },
    {
     "output_type": "stream",
     "name": "stdout",
     "text": [
      "\n",
      "      Epoch    GPU_mem   box_loss   cls_loss   dfl_loss  Instances       Size\n"
     ]
    },
    {
     "output_type": "stream",
     "name": "stderr",
     "text": [
      "      21/50      2.61G      1.117     0.8158      1.274          1        640: 100%|██████████| 46/46 [00:12<00:00,  3.74it/s]\n",
      "                 Class     Images  Instances      Box(P          R      mAP50  mAP50-95): 100%|██████████| 12/12 [00:02<00:00,  5.09it/s]"
     ]
    },
    {
     "output_type": "stream",
     "name": "stdout",
     "text": [
      "                   all        361        361      0.995      0.997      0.994      0.689\n"
     ]
    },
    {
     "output_type": "stream",
     "name": "stderr",
     "text": [
      "\n"
     ]
    },
    {
     "output_type": "stream",
     "name": "stdout",
     "text": [
      "\n",
      "      Epoch    GPU_mem   box_loss   cls_loss   dfl_loss  Instances       Size\n"
     ]
    },
    {
     "output_type": "stream",
     "name": "stderr",
     "text": [
      "      22/50      2.63G      1.114     0.7711      1.256          2        640: 100%|██████████| 46/46 [00:12<00:00,  3.78it/s]\n",
      "                 Class     Images  Instances      Box(P          R      mAP50  mAP50-95): 100%|██████████| 12/12 [00:03<00:00,  3.64it/s]"
     ]
    },
    {
     "output_type": "stream",
     "name": "stdout",
     "text": [
      "                   all        361        361      0.982      0.985      0.991      0.671\n"
     ]
    },
    {
     "output_type": "stream",
     "name": "stderr",
     "text": [
      "\n"
     ]
    },
    {
     "output_type": "stream",
     "name": "stdout",
     "text": [
      "\n",
      "      Epoch    GPU_mem   box_loss   cls_loss   dfl_loss  Instances       Size\n"
     ]
    },
    {
     "output_type": "stream",
     "name": "stderr",
     "text": [
      "      23/50      2.65G      1.068     0.7237      1.226          4        640: 100%|██████████| 46/46 [00:12<00:00,  3.74it/s]\n",
      "                 Class     Images  Instances      Box(P          R      mAP50  mAP50-95): 100%|██████████| 12/12 [00:02<00:00,  4.95it/s]"
     ]
    },
    {
     "output_type": "stream",
     "name": "stdout",
     "text": [
      "                   all        361        361      0.992      0.992      0.994      0.693\n"
     ]
    },
    {
     "output_type": "stream",
     "name": "stderr",
     "text": [
      "\n"
     ]
    },
    {
     "output_type": "stream",
     "name": "stdout",
     "text": [
      "\n",
      "      Epoch    GPU_mem   box_loss   cls_loss   dfl_loss  Instances       Size\n"
     ]
    },
    {
     "output_type": "stream",
     "name": "stderr",
     "text": [
      "      24/50      2.66G      1.101     0.7609      1.271          2        640: 100%|██████████| 46/46 [00:12<00:00,  3.74it/s]\n",
      "                 Class     Images  Instances      Box(P          R      mAP50  mAP50-95): 100%|██████████| 12/12 [00:02<00:00,  5.20it/s]"
     ]
    },
    {
     "output_type": "stream",
     "name": "stdout",
     "text": [
      "                   all        361        361      0.996      0.997      0.993        0.7\n"
     ]
    },
    {
     "output_type": "stream",
     "name": "stderr",
     "text": [
      "\n"
     ]
    },
    {
     "output_type": "stream",
     "name": "stdout",
     "text": [
      "\n",
      "      Epoch    GPU_mem   box_loss   cls_loss   dfl_loss  Instances       Size\n"
     ]
    },
    {
     "output_type": "stream",
     "name": "stderr",
     "text": [
      "      25/50      2.68G      1.081     0.7476      1.244          2        640: 100%|██████████| 46/46 [00:12<00:00,  3.74it/s]\n",
      "                 Class     Images  Instances      Box(P          R      mAP50  mAP50-95): 100%|██████████| 12/12 [00:02<00:00,  5.19it/s]"
     ]
    },
    {
     "output_type": "stream",
     "name": "stdout",
     "text": [
      "                   all        361        361      0.993      0.983      0.993      0.683\n"
     ]
    },
    {
     "output_type": "stream",
     "name": "stderr",
     "text": [
      "\n"
     ]
    },
    {
     "output_type": "stream",
     "name": "stdout",
     "text": [
      "\n",
      "      Epoch    GPU_mem   box_loss   cls_loss   dfl_loss  Instances       Size\n"
     ]
    },
    {
     "output_type": "stream",
     "name": "stderr",
     "text": [
      "      26/50       2.7G      1.097     0.7292      1.239          2        640: 100%|██████████| 46/46 [00:12<00:00,  3.71it/s]\n",
      "                 Class     Images  Instances      Box(P          R      mAP50  mAP50-95): 100%|██████████| 12/12 [00:02<00:00,  5.37it/s]"
     ]
    },
    {
     "output_type": "stream",
     "name": "stdout",
     "text": [
      "                   all        361        361      0.993      0.995      0.993      0.681\n"
     ]
    },
    {
     "output_type": "stream",
     "name": "stderr",
     "text": [
      "\n"
     ]
    },
    {
     "output_type": "stream",
     "name": "stdout",
     "text": [
      "\n",
      "      Epoch    GPU_mem   box_loss   cls_loss   dfl_loss  Instances       Size\n"
     ]
    },
    {
     "output_type": "stream",
     "name": "stderr",
     "text": [
      "      27/50      2.71G      1.089     0.7562      1.251          2        640: 100%|██████████| 46/46 [00:12<00:00,  3.73it/s]\n",
      "                 Class     Images  Instances      Box(P          R      mAP50  mAP50-95): 100%|██████████| 12/12 [00:03<00:00,  3.35it/s]"
     ]
    },
    {
     "output_type": "stream",
     "name": "stdout",
     "text": [
      "                   all        361        361      0.993      0.992      0.992      0.692\n"
     ]
    },
    {
     "output_type": "stream",
     "name": "stderr",
     "text": [
      "\n"
     ]
    },
    {
     "output_type": "stream",
     "name": "stdout",
     "text": [
      "\n",
      "      Epoch    GPU_mem   box_loss   cls_loss   dfl_loss  Instances       Size\n"
     ]
    },
    {
     "output_type": "stream",
     "name": "stderr",
     "text": [
      "      28/50      2.73G      1.031     0.6806      1.227          2        640: 100%|██████████| 46/46 [00:11<00:00,  3.89it/s]\n",
      "                 Class     Images  Instances      Box(P          R      mAP50  mAP50-95): 100%|██████████| 12/12 [00:03<00:00,  3.64it/s]"
     ]
    },
    {
     "output_type": "stream",
     "name": "stdout",
     "text": [
      "                   all        361        361      0.995      0.997      0.994      0.704\n"
     ]
    },
    {
     "output_type": "stream",
     "name": "stderr",
     "text": [
      "\n"
     ]
    },
    {
     "output_type": "stream",
     "name": "stdout",
     "text": [
      "\n",
      "      Epoch    GPU_mem   box_loss   cls_loss   dfl_loss  Instances       Size\n"
     ]
    },
    {
     "output_type": "stream",
     "name": "stderr",
     "text": [
      "      29/50      2.75G      1.061     0.6793      1.222          3        640: 100%|██████████| 46/46 [00:12<00:00,  3.77it/s]\n",
      "                 Class     Images  Instances      Box(P          R      mAP50  mAP50-95): 100%|██████████| 12/12 [00:02<00:00,  5.15it/s]"
     ]
    },
    {
     "output_type": "stream",
     "name": "stdout",
     "text": [
      "                   all        361        361      0.981      0.982      0.984      0.631\n"
     ]
    },
    {
     "output_type": "stream",
     "name": "stderr",
     "text": [
      "\n"
     ]
    },
    {
     "output_type": "stream",
     "name": "stdout",
     "text": [
      "\n",
      "      Epoch    GPU_mem   box_loss   cls_loss   dfl_loss  Instances       Size\n"
     ]
    },
    {
     "output_type": "stream",
     "name": "stderr",
     "text": [
      "      30/50      2.77G      1.041     0.6488      1.213          4        640: 100%|██████████| 46/46 [00:12<00:00,  3.77it/s]\n",
      "                 Class     Images  Instances      Box(P          R      mAP50  mAP50-95): 100%|██████████| 12/12 [00:02<00:00,  5.17it/s]"
     ]
    },
    {
     "output_type": "stream",
     "name": "stdout",
     "text": [
      "                   all        361        361       0.99      0.994      0.994      0.702\n"
     ]
    },
    {
     "output_type": "stream",
     "name": "stderr",
     "text": [
      "\n"
     ]
    },
    {
     "output_type": "stream",
     "name": "stdout",
     "text": [
      "\n",
      "      Epoch    GPU_mem   box_loss   cls_loss   dfl_loss  Instances       Size\n"
     ]
    },
    {
     "output_type": "stream",
     "name": "stderr",
     "text": [
      "      31/50      2.78G      1.072     0.6618      1.233          2        640: 100%|██████████| 46/46 [00:12<00:00,  3.79it/s]\n",
      "                 Class     Images  Instances      Box(P          R      mAP50  mAP50-95): 100%|██████████| 12/12 [00:02<00:00,  4.82it/s]"
     ]
    },
    {
     "output_type": "stream",
     "name": "stdout",
     "text": [
      "                   all        361        361      0.993      0.993      0.993      0.713\n"
     ]
    },
    {
     "output_type": "stream",
     "name": "stderr",
     "text": [
      "\n"
     ]
    },
    {
     "output_type": "stream",
     "name": "stdout",
     "text": [
      "\n",
      "      Epoch    GPU_mem   box_loss   cls_loss   dfl_loss  Instances       Size\n"
     ]
    },
    {
     "output_type": "stream",
     "name": "stderr",
     "text": [
      "      32/50       2.8G      1.025     0.6421      1.213          4        640: 100%|██████████| 46/46 [00:12<00:00,  3.69it/s]\n",
      "                 Class     Images  Instances      Box(P          R      mAP50  mAP50-95): 100%|██████████| 12/12 [00:02<00:00,  5.09it/s]"
     ]
    },
    {
     "output_type": "stream",
     "name": "stdout",
     "text": [
      "                   all        361        361      0.993      0.993      0.993      0.719\n"
     ]
    },
    {
     "output_type": "stream",
     "name": "stderr",
     "text": [
      "\n"
     ]
    },
    {
     "output_type": "stream",
     "name": "stdout",
     "text": [
      "\n",
      "      Epoch    GPU_mem   box_loss   cls_loss   dfl_loss  Instances       Size\n"
     ]
    },
    {
     "output_type": "stream",
     "name": "stderr",
     "text": [
      "      33/50      2.82G     0.9979     0.6002      1.193          1        640: 100%|██████████| 46/46 [00:12<00:00,  3.66it/s]\n",
      "                 Class     Images  Instances      Box(P          R      mAP50  mAP50-95): 100%|██████████| 12/12 [00:02<00:00,  4.34it/s]"
     ]
    },
    {
     "output_type": "stream",
     "name": "stdout",
     "text": [
      "                   all        361        361      0.989      0.987      0.993      0.683\n"
     ]
    },
    {
     "output_type": "stream",
     "name": "stderr",
     "text": [
      "\n"
     ]
    },
    {
     "output_type": "stream",
     "name": "stdout",
     "text": [
      "\n",
      "      Epoch    GPU_mem   box_loss   cls_loss   dfl_loss  Instances       Size\n"
     ]
    },
    {
     "output_type": "stream",
     "name": "stderr",
     "text": [
      "      34/50      2.83G      1.055      0.644      1.231          4        640: 100%|██████████| 46/46 [00:11<00:00,  3.92it/s]\n",
      "                 Class     Images  Instances      Box(P          R      mAP50  mAP50-95): 100%|██████████| 12/12 [00:03<00:00,  3.53it/s]"
     ]
    },
    {
     "output_type": "stream",
     "name": "stdout",
     "text": [
      "                   all        361        361      0.993      0.995      0.994      0.715\n"
     ]
    },
    {
     "output_type": "stream",
     "name": "stderr",
     "text": [
      "\n"
     ]
    },
    {
     "output_type": "stream",
     "name": "stdout",
     "text": [
      "\n",
      "      Epoch    GPU_mem   box_loss   cls_loss   dfl_loss  Instances       Size\n"
     ]
    },
    {
     "output_type": "stream",
     "name": "stderr",
     "text": [
      "      35/50      2.85G      1.017     0.6191      1.204          2        640: 100%|██████████| 46/46 [00:12<00:00,  3.75it/s]\n",
      "                 Class     Images  Instances      Box(P          R      mAP50  mAP50-95): 100%|██████████| 12/12 [00:02<00:00,  5.15it/s]"
     ]
    },
    {
     "output_type": "stream",
     "name": "stdout",
     "text": [
      "                   all        361        361      0.985      0.992      0.993      0.716\n"
     ]
    },
    {
     "output_type": "stream",
     "name": "stderr",
     "text": [
      "\n"
     ]
    },
    {
     "output_type": "stream",
     "name": "stdout",
     "text": [
      "\n",
      "      Epoch    GPU_mem   box_loss   cls_loss   dfl_loss  Instances       Size\n"
     ]
    },
    {
     "output_type": "stream",
     "name": "stderr",
     "text": [
      "      36/50      2.87G     0.9638     0.6026      1.175          4        640: 100%|██████████| 46/46 [00:12<00:00,  3.71it/s]\n",
      "                 Class     Images  Instances      Box(P          R      mAP50  mAP50-95): 100%|██████████| 12/12 [00:02<00:00,  5.36it/s]"
     ]
    },
    {
     "output_type": "stream",
     "name": "stdout",
     "text": [
      "                   all        361        361      0.996      0.997      0.993      0.708\n"
     ]
    },
    {
     "output_type": "stream",
     "name": "stderr",
     "text": [
      "\n"
     ]
    },
    {
     "output_type": "stream",
     "name": "stdout",
     "text": [
      "\n",
      "      Epoch    GPU_mem   box_loss   cls_loss   dfl_loss  Instances       Size\n"
     ]
    },
    {
     "output_type": "stream",
     "name": "stderr",
     "text": [
      "      37/50      2.89G     0.9698     0.5954      1.179          3        640: 100%|██████████| 46/46 [00:12<00:00,  3.73it/s]\n",
      "                 Class     Images  Instances      Box(P          R      mAP50  mAP50-95): 100%|██████████| 12/12 [00:02<00:00,  4.95it/s]"
     ]
    },
    {
     "output_type": "stream",
     "name": "stdout",
     "text": [
      "                   all        361        361      0.994      0.994      0.992      0.732\n"
     ]
    },
    {
     "output_type": "stream",
     "name": "stderr",
     "text": [
      "\n"
     ]
    },
    {
     "output_type": "stream",
     "name": "stdout",
     "text": [
      "\n",
      "      Epoch    GPU_mem   box_loss   cls_loss   dfl_loss  Instances       Size\n"
     ]
    },
    {
     "output_type": "stream",
     "name": "stderr",
     "text": [
      "      38/50       2.9G     0.9886     0.5989      1.204          2        640: 100%|██████████| 46/46 [00:13<00:00,  3.42it/s]\n",
      "                 Class     Images  Instances      Box(P          R      mAP50  mAP50-95): 100%|██████████| 12/12 [00:02<00:00,  4.80it/s]"
     ]
    },
    {
     "output_type": "stream",
     "name": "stdout",
     "text": [
      "                   all        361        361      0.992      0.995      0.992       0.72\n"
     ]
    },
    {
     "output_type": "stream",
     "name": "stderr",
     "text": [
      "\n"
     ]
    },
    {
     "output_type": "stream",
     "name": "stdout",
     "text": [
      "\n",
      "      Epoch    GPU_mem   box_loss   cls_loss   dfl_loss  Instances       Size\n"
     ]
    },
    {
     "output_type": "stream",
     "name": "stderr",
     "text": [
      "      39/50      2.92G     0.9742     0.5684      1.185          2        640: 100%|██████████| 46/46 [00:12<00:00,  3.81it/s]\n",
      "                 Class     Images  Instances      Box(P          R      mAP50  mAP50-95): 100%|██████████| 12/12 [00:03<00:00,  3.66it/s]"
     ]
    },
    {
     "output_type": "stream",
     "name": "stdout",
     "text": [
      "                   all        361        361      0.996      0.997      0.994      0.726\n"
     ]
    },
    {
     "output_type": "stream",
     "name": "stderr",
     "text": [
      "\n"
     ]
    },
    {
     "output_type": "stream",
     "name": "stdout",
     "text": [
      "\n",
      "      Epoch    GPU_mem   box_loss   cls_loss   dfl_loss  Instances       Size\n"
     ]
    },
    {
     "output_type": "stream",
     "name": "stderr",
     "text": [
      "      40/50      2.94G     0.9877     0.6108      1.178          4        640: 100%|██████████| 46/46 [00:12<00:00,  3.82it/s]\n",
      "                 Class     Images  Instances      Box(P          R      mAP50  mAP50-95): 100%|██████████| 12/12 [00:02<00:00,  4.87it/s]"
     ]
    },
    {
     "output_type": "stream",
     "name": "stdout",
     "text": [
      "                   all        361        361      0.993      0.995      0.993      0.736\n"
     ]
    },
    {
     "output_type": "stream",
     "name": "stderr",
     "text": [
      "\n"
     ]
    },
    {
     "output_type": "stream",
     "name": "stdout",
     "text": [
      "Closing dataloader mosaic\n",
      "\u001B[34m\u001B[1malbumentations: \u001B[0mBlur(p=0.01, blur_limit=(3, 7)), MedianBlur(p=0.01, blur_limit=(3, 7)), ToGray(p=0.01, method='weighted_average', num_output_channels=3), CLAHE(p=0.01, clip_limit=(1.0, 4.0), tile_grid_size=(8, 8))\n",
      "\n",
      "      Epoch    GPU_mem   box_loss   cls_loss   dfl_loss  Instances       Size\n"
     ]
    },
    {
     "output_type": "stream",
     "name": "stderr",
     "text": [
      "      41/50      2.95G     0.9249     0.4769       1.29          1        640: 100%|██████████| 46/46 [00:12<00:00,  3.56it/s]\n",
      "                 Class     Images  Instances      Box(P          R      mAP50  mAP50-95): 100%|██████████| 12/12 [00:02<00:00,  5.28it/s]"
     ]
    },
    {
     "output_type": "stream",
     "name": "stdout",
     "text": [
      "                   all        361        361      0.995      0.996      0.993      0.712\n"
     ]
    },
    {
     "output_type": "stream",
     "name": "stderr",
     "text": [
      "\n"
     ]
    },
    {
     "output_type": "stream",
     "name": "stdout",
     "text": [
      "\n",
      "      Epoch    GPU_mem   box_loss   cls_loss   dfl_loss  Instances       Size\n"
     ]
    },
    {
     "output_type": "stream",
     "name": "stderr",
     "text": [
      "      42/50      2.97G      0.893     0.4243      1.298          1        640: 100%|██████████| 46/46 [00:11<00:00,  3.96it/s]\n",
      "                 Class     Images  Instances      Box(P          R      mAP50  mAP50-95): 100%|██████████| 12/12 [00:02<00:00,  5.20it/s]"
     ]
    },
    {
     "output_type": "stream",
     "name": "stdout",
     "text": [
      "                   all        361        361      0.993      0.994      0.992      0.727\n"
     ]
    },
    {
     "output_type": "stream",
     "name": "stderr",
     "text": [
      "\n"
     ]
    },
    {
     "output_type": "stream",
     "name": "stdout",
     "text": [
      "\n",
      "      Epoch    GPU_mem   box_loss   cls_loss   dfl_loss  Instances       Size\n"
     ]
    },
    {
     "output_type": "stream",
     "name": "stderr",
     "text": [
      "      43/50      2.99G      0.887     0.4374      1.289          1        640: 100%|██████████| 46/46 [00:11<00:00,  4.01it/s]\n",
      "                 Class     Images  Instances      Box(P          R      mAP50  mAP50-95): 100%|██████████| 12/12 [00:02<00:00,  5.44it/s]"
     ]
    },
    {
     "output_type": "stream",
     "name": "stdout",
     "text": [
      "                   all        361        361      0.993      0.995      0.993      0.737\n"
     ]
    },
    {
     "output_type": "stream",
     "name": "stderr",
     "text": [
      "\n"
     ]
    },
    {
     "output_type": "stream",
     "name": "stdout",
     "text": [
      "\n",
      "      Epoch    GPU_mem   box_loss   cls_loss   dfl_loss  Instances       Size\n"
     ]
    },
    {
     "output_type": "stream",
     "name": "stderr",
     "text": [
      "      44/50      3.01G     0.8527     0.4109      1.237          1        640: 100%|██████████| 46/46 [00:11<00:00,  4.01it/s]\n",
      "                 Class     Images  Instances      Box(P          R      mAP50  mAP50-95): 100%|██████████| 12/12 [00:02<00:00,  5.30it/s]"
     ]
    },
    {
     "output_type": "stream",
     "name": "stdout",
     "text": [
      "                   all        361        361      0.996      0.997      0.994      0.728\n"
     ]
    },
    {
     "output_type": "stream",
     "name": "stderr",
     "text": [
      "\n"
     ]
    },
    {
     "output_type": "stream",
     "name": "stdout",
     "text": [
      "\n",
      "      Epoch    GPU_mem   box_loss   cls_loss   dfl_loss  Instances       Size\n"
     ]
    },
    {
     "output_type": "stream",
     "name": "stderr",
     "text": [
      "      45/50      3.02G     0.8259     0.4071      1.244          1        640: 100%|██████████| 46/46 [00:11<00:00,  4.04it/s]\n",
      "                 Class     Images  Instances      Box(P          R      mAP50  mAP50-95): 100%|██████████| 12/12 [00:02<00:00,  5.34it/s]"
     ]
    },
    {
     "output_type": "stream",
     "name": "stdout",
     "text": [
      "                   all        361        361      0.991      0.995      0.993      0.726\n"
     ]
    },
    {
     "output_type": "stream",
     "name": "stderr",
     "text": [
      "\n"
     ]
    },
    {
     "output_type": "stream",
     "name": "stdout",
     "text": [
      "\n",
      "      Epoch    GPU_mem   box_loss   cls_loss   dfl_loss  Instances       Size\n"
     ]
    },
    {
     "output_type": "stream",
     "name": "stderr",
     "text": [
      "      46/50      3.04G      0.845      0.398      1.261          1        640: 100%|██████████| 46/46 [00:11<00:00,  3.99it/s]\n",
      "                 Class     Images  Instances      Box(P          R      mAP50  mAP50-95): 100%|██████████| 12/12 [00:02<00:00,  5.15it/s]"
     ]
    },
    {
     "output_type": "stream",
     "name": "stdout",
     "text": [
      "                   all        361        361      0.991      0.995      0.993      0.745\n"
     ]
    },
    {
     "output_type": "stream",
     "name": "stderr",
     "text": [
      "\n"
     ]
    },
    {
     "output_type": "stream",
     "name": "stdout",
     "text": [
      "\n",
      "      Epoch    GPU_mem   box_loss   cls_loss   dfl_loss  Instances       Size\n"
     ]
    },
    {
     "output_type": "stream",
     "name": "stderr",
     "text": [
      "      47/50      3.06G     0.8225     0.4013      1.233          1        640: 100%|██████████| 46/46 [00:11<00:00,  4.13it/s]\n",
      "                 Class     Images  Instances      Box(P          R      mAP50  mAP50-95): 100%|██████████| 12/12 [00:02<00:00,  4.40it/s]"
     ]
    },
    {
     "output_type": "stream",
     "name": "stdout",
     "text": [
      "                   all        361        361      0.993      0.995      0.992      0.741\n"
     ]
    },
    {
     "output_type": "stream",
     "name": "stderr",
     "text": [
      "\n"
     ]
    },
    {
     "output_type": "stream",
     "name": "stdout",
     "text": [
      "\n",
      "      Epoch    GPU_mem   box_loss   cls_loss   dfl_loss  Instances       Size\n"
     ]
    },
    {
     "output_type": "stream",
     "name": "stderr",
     "text": [
      "      48/50      3.07G      0.823     0.3885      1.225          1        640: 100%|██████████| 46/46 [00:10<00:00,  4.43it/s]\n",
      "                 Class     Images  Instances      Box(P          R      mAP50  mAP50-95): 100%|██████████| 12/12 [00:03<00:00,  3.60it/s]"
     ]
    },
    {
     "output_type": "stream",
     "name": "stdout",
     "text": [
      "                   all        361        361      0.993      0.994      0.992      0.743\n"
     ]
    },
    {
     "output_type": "stream",
     "name": "stderr",
     "text": [
      "\n"
     ]
    },
    {
     "output_type": "stream",
     "name": "stdout",
     "text": [
      "\n",
      "      Epoch    GPU_mem   box_loss   cls_loss   dfl_loss  Instances       Size\n"
     ]
    },
    {
     "output_type": "stream",
     "name": "stderr",
     "text": [
      "      49/50      3.09G     0.7922     0.3828      1.218          1        640: 100%|██████████| 46/46 [00:10<00:00,  4.36it/s]\n",
      "                 Class     Images  Instances      Box(P          R      mAP50  mAP50-95): 100%|██████████| 12/12 [00:03<00:00,  3.99it/s]"
     ]
    },
    {
     "output_type": "stream",
     "name": "stdout",
     "text": [
      "                   all        361        361      0.993      0.994      0.992       0.75\n"
     ]
    },
    {
     "output_type": "stream",
     "name": "stderr",
     "text": [
      "\n"
     ]
    },
    {
     "output_type": "stream",
     "name": "stdout",
     "text": [
      "\n",
      "      Epoch    GPU_mem   box_loss   cls_loss   dfl_loss  Instances       Size\n"
     ]
    },
    {
     "output_type": "stream",
     "name": "stderr",
     "text": [
      "      50/50      3.11G     0.7846     0.3751      1.199          1        640: 100%|██████████| 46/46 [00:12<00:00,  3.68it/s]\n",
      "                 Class     Images  Instances      Box(P          R      mAP50  mAP50-95): 100%|██████████| 12/12 [00:02<00:00,  5.38it/s]"
     ]
    },
    {
     "output_type": "stream",
     "name": "stdout",
     "text": [
      "                   all        361        361      0.992      0.995      0.993      0.741\n"
     ]
    },
    {
     "output_type": "stream",
     "name": "stderr",
     "text": [
      "\n"
     ]
    },
    {
     "output_type": "stream",
     "name": "stdout",
     "text": [
      "\n",
      "50 epochs completed in 0.212 hours.\n",
      "Optimizer stripped from runs/detect/fold06/weights/last.pt, 6.2MB\n",
      "Optimizer stripped from runs/detect/fold06/weights/best.pt, 6.2MB\n",
      "\n",
      "Validating runs/detect/fold06/weights/best.pt...\n",
      "Ultralytics 8.3.173 🚀 Python-3.11.13 torch-2.6.0+cu124 CUDA:0 (Tesla T4, 15095MiB)\n",
      "Model summary (fused): 72 layers, 3,006,428 parameters, 0 gradients, 8.1 GFLOPs\n"
     ]
    },
    {
     "output_type": "stream",
     "name": "stderr",
     "text": [
      "                 Class     Images  Instances      Box(P          R      mAP50  mAP50-95): 100%|██████████| 12/12 [00:03<00:00,  3.20it/s]\n"
     ]
    },
    {
     "output_type": "stream",
     "name": "stdout",
     "text": [
      "                   all        361        361      0.993      0.994      0.992       0.75\n",
      "       right_eye_close        121        121      0.992       0.99      0.991      0.724\n",
      "        right_eye_open        125        125      0.991      0.992      0.991      0.804\n",
      "        left_eye_close        115        115      0.998          1      0.995      0.723\n",
      "Speed: 0.2ms preprocess, 2.0ms inference, 0.0ms loss, 3.1ms postprocess per image\n",
      "Results saved to \u001B[1mruns/detect/fold06\u001B[0m\n",
      "\n",
      "🔁 正在训练 Fold 1...\n",
      "\n",
      "Ultralytics 8.3.173 🚀 Python-3.11.13 torch-2.6.0+cu124 CUDA:0 (Tesla T4, 15095MiB)\n",
      "\u001B[34m\u001B[1mengine/trainer: \u001B[0magnostic_nms=False, amp=True, augment=False, auto_augment=randaugment, batch=16, bgr=0.0, box=7.5, cache=False, cfg=None, classes=None, close_mosaic=10, cls=0.5, conf=None, copy_paste=0.0, copy_paste_mode=flip, cos_lr=False, cutmix=0.0, data=crossval/fold_1/data_fold_1.yaml, degrees=0.0, deterministic=True, device=0, dfl=1.5, dnn=False, dropout=0.0, dynamic=False, embed=None, epochs=50, erasing=0.4, exist_ok=False, fliplr=0.5, flipud=0.0, format=torchscript, fraction=1.0, freeze=None, half=False, hsv_h=0.015, hsv_s=0.7, hsv_v=0.4, imgsz=640, int8=False, iou=0.7, keras=False, kobj=1.0, line_width=None, lr0=0.01, lrf=0.01, mask_ratio=4, max_det=300, mixup=0.0, mode=train, model=yolov8n.pt, momentum=0.937, mosaic=1.0, multi_scale=False, name=fold1, nbs=64, nms=False, opset=None, optimize=False, optimizer=auto, overlap_mask=True, patience=100, perspective=0.0, plots=True, pose=12.0, pretrained=True, profile=False, project=None, rect=False, resume=False, retina_masks=False, save=True, save_conf=False, save_crop=False, save_dir=runs/detect/fold1, save_frames=False, save_json=False, save_period=-1, save_txt=False, scale=0.5, seed=0, shear=0.0, show=False, show_boxes=True, show_conf=True, show_labels=True, simplify=True, single_cls=False, source=None, split=val, stream_buffer=False, task=detect, time=None, tracker=botsort.yaml, translate=0.1, val=True, verbose=True, vid_stride=1, visualize=False, warmup_bias_lr=0.1, warmup_epochs=3.0, warmup_momentum=0.8, weight_decay=0.0005, workers=8, workspace=None\n",
      "Overriding model.yaml nc=80 with nc=4\n",
      "\n",
      "                   from  n    params  module                                       arguments                     \n",
      "  0                  -1  1       464  ultralytics.nn.modules.conv.Conv             [3, 16, 3, 2]                 \n",
      "  1                  -1  1      4672  ultralytics.nn.modules.conv.Conv             [16, 32, 3, 2]                \n",
      "  2                  -1  1      7360  ultralytics.nn.modules.block.C2f             [32, 32, 1, True]             \n",
      "  3                  -1  1     18560  ultralytics.nn.modules.conv.Conv             [32, 64, 3, 2]                \n",
      "  4                  -1  2     49664  ultralytics.nn.modules.block.C2f             [64, 64, 2, True]             \n",
      "  5                  -1  1     73984  ultralytics.nn.modules.conv.Conv             [64, 128, 3, 2]               \n",
      "  6                  -1  2    197632  ultralytics.nn.modules.block.C2f             [128, 128, 2, True]           \n",
      "  7                  -1  1    295424  ultralytics.nn.modules.conv.Conv             [128, 256, 3, 2]              \n",
      "  8                  -1  1    460288  ultralytics.nn.modules.block.C2f             [256, 256, 1, True]           \n",
      "  9                  -1  1    164608  ultralytics.nn.modules.block.SPPF            [256, 256, 5]                 \n",
      " 10                  -1  1         0  torch.nn.modules.upsampling.Upsample         [None, 2, 'nearest']          \n",
      " 11             [-1, 6]  1         0  ultralytics.nn.modules.conv.Concat           [1]                           \n",
      " 12                  -1  1    148224  ultralytics.nn.modules.block.C2f             [384, 128, 1]                 \n",
      " 13                  -1  1         0  torch.nn.modules.upsampling.Upsample         [None, 2, 'nearest']          \n",
      " 14             [-1, 4]  1         0  ultralytics.nn.modules.conv.Concat           [1]                           \n",
      " 15                  -1  1     37248  ultralytics.nn.modules.block.C2f             [192, 64, 1]                  \n",
      " 16                  -1  1     36992  ultralytics.nn.modules.conv.Conv             [64, 64, 3, 2]                \n",
      " 17            [-1, 12]  1         0  ultralytics.nn.modules.conv.Concat           [1]                           \n",
      " 18                  -1  1    123648  ultralytics.nn.modules.block.C2f             [192, 128, 1]                 \n",
      " 19                  -1  1    147712  ultralytics.nn.modules.conv.Conv             [128, 128, 3, 2]              \n",
      " 20             [-1, 9]  1         0  ultralytics.nn.modules.conv.Concat           [1]                           \n",
      " 21                  -1  1    493056  ultralytics.nn.modules.block.C2f             [384, 256, 1]                 \n",
      " 22        [15, 18, 21]  1    752092  ultralytics.nn.modules.head.Detect           [4, [64, 128, 256]]           \n",
      "Model summary: 129 layers, 3,011,628 parameters, 3,011,612 gradients, 8.2 GFLOPs\n",
      "\n",
      "Transferred 319/355 items from pretrained weights\n",
      "Freezing layer 'model.22.dfl.conv.weight'\n",
      "\u001B[34m\u001B[1mAMP: \u001B[0mrunning Automatic Mixed Precision (AMP) checks...\n",
      "\u001B[34m\u001B[1mAMP: \u001B[0mchecks passed ✅\n",
      "\u001B[34m\u001B[1mtrain: \u001B[0mFast image access ✅ (ping: 0.0±0.0 ms, read: 7.9±1.1 MB/s, size: 10.6 KB)\n"
     ]
    },
    {
     "output_type": "stream",
     "name": "stderr",
     "text": [
      "\u001B[34m\u001B[1mtrain: \u001B[0mScanning /content/crossval/fold_1/labels/train... 721 images, 0 backgrounds, 0 corrupt: 100%|██████████| 721/721 [00:00<00:00, 1658.75it/s]"
     ]
    },
    {
     "output_type": "stream",
     "name": "stdout",
     "text": [
      "\u001B[34m\u001B[1mtrain: \u001B[0mNew cache created: /content/crossval/fold_1/labels/train.cache\n",
      "\u001B[34m\u001B[1malbumentations: \u001B[0mBlur(p=0.01, blur_limit=(3, 7)), MedianBlur(p=0.01, blur_limit=(3, 7)), ToGray(p=0.01, method='weighted_average', num_output_channels=3), CLAHE(p=0.01, clip_limit=(1.0, 4.0), tile_grid_size=(8, 8))\n"
     ]
    },
    {
     "output_type": "stream",
     "name": "stderr",
     "text": [
      "\n"
     ]
    },
    {
     "output_type": "stream",
     "name": "stdout",
     "text": [
      "\u001B[34m\u001B[1mval: \u001B[0mFast image access ✅ (ping: 0.0±0.0 ms, read: 8.8±1.1 MB/s, size: 10.7 KB)\n"
     ]
    },
    {
     "output_type": "stream",
     "name": "stderr",
     "text": [
      "\u001B[34m\u001B[1mval: \u001B[0mScanning /content/crossval/fold_1/labels/val... 361 images, 0 backgrounds, 0 corrupt: 100%|██████████| 361/361 [00:00<00:00, 735.24it/s]\n"
     ]
    },
    {
     "output_type": "stream",
     "name": "stdout",
     "text": [
      "\u001B[34m\u001B[1mval: \u001B[0mNew cache created: /content/crossval/fold_1/labels/val.cache\n",
      "Plotting labels to runs/detect/fold1/labels.jpg... \n",
      "\u001B[34m\u001B[1moptimizer:\u001B[0m 'optimizer=auto' found, ignoring 'lr0=0.01' and 'momentum=0.937' and determining best 'optimizer', 'lr0' and 'momentum' automatically... \n",
      "\u001B[34m\u001B[1moptimizer:\u001B[0m AdamW(lr=0.00125, momentum=0.9) with parameter groups 57 weight(decay=0.0), 64 weight(decay=0.0005), 63 bias(decay=0.0)\n",
      "Image sizes 640 train, 640 val\n",
      "Using 2 dataloader workers\n",
      "Logging results to \u001B[1mruns/detect/fold1\u001B[0m\n",
      "Starting training for 50 epochs...\n",
      "\n",
      "      Epoch    GPU_mem   box_loss   cls_loss   dfl_loss  Instances       Size\n"
     ]
    },
    {
     "output_type": "stream",
     "name": "stderr",
     "text": [
      "       1/50      2.23G      1.696      3.109        1.9          2        640: 100%|██████████| 46/46 [00:13<00:00,  3.32it/s]\n",
      "                 Class     Images  Instances      Box(P          R      mAP50  mAP50-95): 100%|██████████| 12/12 [00:02<00:00,  4.47it/s]"
     ]
    },
    {
     "output_type": "stream",
     "name": "stdout",
     "text": [
      "                   all        361        361    0.00651          1      0.758       0.39\n"
     ]
    },
    {
     "output_type": "stream",
     "name": "stderr",
     "text": [
      "\n"
     ]
    },
    {
     "output_type": "stream",
     "name": "stdout",
     "text": [
      "\n",
      "      Epoch    GPU_mem   box_loss   cls_loss   dfl_loss  Instances       Size\n"
     ]
    },
    {
     "output_type": "stream",
     "name": "stderr",
     "text": [
      "       2/50      2.44G      1.354      1.946      1.458          4        640: 100%|██████████| 46/46 [00:12<00:00,  3.54it/s]\n",
      "                 Class     Images  Instances      Box(P          R      mAP50  mAP50-95): 100%|██████████| 12/12 [00:03<00:00,  3.97it/s]\n"
     ]
    },
    {
     "output_type": "stream",
     "name": "stdout",
     "text": [
      "                   all        361        361      0.766       0.37      0.487      0.244\n",
      "\n",
      "      Epoch    GPU_mem   box_loss   cls_loss   dfl_loss  Instances       Size\n"
     ]
    },
    {
     "output_type": "stream",
     "name": "stderr",
     "text": [
      "       3/50      2.44G      1.322      1.654      1.413          2        640: 100%|██████████| 46/46 [00:12<00:00,  3.79it/s]\n",
      "                 Class     Images  Instances      Box(P          R      mAP50  mAP50-95): 100%|██████████| 12/12 [00:03<00:00,  3.75it/s]"
     ]
    },
    {
     "output_type": "stream",
     "name": "stdout",
     "text": [
      "                   all        361        361       0.86      0.859      0.924      0.396\n"
     ]
    },
    {
     "output_type": "stream",
     "name": "stderr",
     "text": [
      "\n"
     ]
    },
    {
     "output_type": "stream",
     "name": "stdout",
     "text": [
      "\n",
      "      Epoch    GPU_mem   box_loss   cls_loss   dfl_loss  Instances       Size\n"
     ]
    },
    {
     "output_type": "stream",
     "name": "stderr",
     "text": [
      "       4/50      2.44G      1.315      1.512      1.399          4        640: 100%|██████████| 46/46 [00:12<00:00,  3.66it/s]\n",
      "                 Class     Images  Instances      Box(P          R      mAP50  mAP50-95): 100%|██████████| 12/12 [00:02<00:00,  4.75it/s]"
     ]
    },
    {
     "output_type": "stream",
     "name": "stdout",
     "text": [
      "                   all        361        361      0.469      0.763       0.68      0.427\n"
     ]
    },
    {
     "output_type": "stream",
     "name": "stderr",
     "text": [
      "\n"
     ]
    },
    {
     "output_type": "stream",
     "name": "stdout",
     "text": [
      "\n",
      "      Epoch    GPU_mem   box_loss   cls_loss   dfl_loss  Instances       Size\n"
     ]
    },
    {
     "output_type": "stream",
     "name": "stderr",
     "text": [
      "       5/50      2.44G      1.281      1.377      1.377          4        640: 100%|██████████| 46/46 [00:12<00:00,  3.65it/s]\n",
      "                 Class     Images  Instances      Box(P          R      mAP50  mAP50-95): 100%|██████████| 12/12 [00:02<00:00,  4.74it/s]"
     ]
    },
    {
     "output_type": "stream",
     "name": "stdout",
     "text": [
      "                   all        361        361      0.837      0.877      0.936      0.575\n"
     ]
    },
    {
     "output_type": "stream",
     "name": "stderr",
     "text": [
      "\n"
     ]
    },
    {
     "output_type": "stream",
     "name": "stdout",
     "text": [
      "\n",
      "      Epoch    GPU_mem   box_loss   cls_loss   dfl_loss  Instances       Size\n"
     ]
    },
    {
     "output_type": "stream",
     "name": "stderr",
     "text": [
      "       6/50      2.44G      1.238      1.232      1.368          1        640: 100%|██████████| 46/46 [00:12<00:00,  3.65it/s]\n",
      "                 Class     Images  Instances      Box(P          R      mAP50  mAP50-95): 100%|██████████| 12/12 [00:02<00:00,  4.89it/s]"
     ]
    },
    {
     "output_type": "stream",
     "name": "stdout",
     "text": [
      "                   all        361        361      0.977      0.979      0.992       0.57\n"
     ]
    },
    {
     "output_type": "stream",
     "name": "stderr",
     "text": [
      "\n"
     ]
    },
    {
     "output_type": "stream",
     "name": "stdout",
     "text": [
      "\n",
      "      Epoch    GPU_mem   box_loss   cls_loss   dfl_loss  Instances       Size\n"
     ]
    },
    {
     "output_type": "stream",
     "name": "stderr",
     "text": [
      "       7/50      2.44G      1.209      1.115      1.324          4        640: 100%|██████████| 46/46 [00:12<00:00,  3.67it/s]\n",
      "                 Class     Images  Instances      Box(P          R      mAP50  mAP50-95): 100%|██████████| 12/12 [00:03<00:00,  3.51it/s]\n"
     ]
    },
    {
     "output_type": "stream",
     "name": "stdout",
     "text": [
      "                   all        361        361      0.971      0.961      0.979      0.633\n",
      "\n",
      "      Epoch    GPU_mem   box_loss   cls_loss   dfl_loss  Instances       Size\n"
     ]
    },
    {
     "output_type": "stream",
     "name": "stderr",
     "text": [
      "       8/50      2.44G      1.207      1.068      1.332          2        640: 100%|██████████| 46/46 [00:12<00:00,  3.69it/s]\n",
      "                 Class     Images  Instances      Box(P          R      mAP50  mAP50-95): 100%|██████████| 12/12 [00:02<00:00,  4.41it/s]"
     ]
    },
    {
     "output_type": "stream",
     "name": "stdout",
     "text": [
      "                   all        361        361      0.973      0.988      0.992      0.628\n"
     ]
    },
    {
     "output_type": "stream",
     "name": "stderr",
     "text": [
      "\n"
     ]
    },
    {
     "output_type": "stream",
     "name": "stdout",
     "text": [
      "\n",
      "      Epoch    GPU_mem   box_loss   cls_loss   dfl_loss  Instances       Size\n"
     ]
    },
    {
     "output_type": "stream",
     "name": "stderr",
     "text": [
      "       9/50      2.45G      1.211      1.034      1.329          4        640: 100%|██████████| 46/46 [00:13<00:00,  3.40it/s]\n",
      "                 Class     Images  Instances      Box(P          R      mAP50  mAP50-95): 100%|██████████| 12/12 [00:03<00:00,  3.96it/s]"
     ]
    },
    {
     "output_type": "stream",
     "name": "stdout",
     "text": [
      "                   all        361        361      0.972      0.974      0.986      0.655\n"
     ]
    },
    {
     "output_type": "stream",
     "name": "stderr",
     "text": [
      "\n"
     ]
    },
    {
     "output_type": "stream",
     "name": "stdout",
     "text": [
      "\n",
      "      Epoch    GPU_mem   box_loss   cls_loss   dfl_loss  Instances       Size\n"
     ]
    },
    {
     "output_type": "stream",
     "name": "stderr",
     "text": [
      "      10/50      2.47G      1.166      1.009      1.286          4        640: 100%|██████████| 46/46 [00:12<00:00,  3.63it/s]\n",
      "                 Class     Images  Instances      Box(P          R      mAP50  mAP50-95): 100%|██████████| 12/12 [00:02<00:00,  5.11it/s]"
     ]
    },
    {
     "output_type": "stream",
     "name": "stdout",
     "text": [
      "                   all        361        361       0.95      0.945      0.971      0.544\n"
     ]
    },
    {
     "output_type": "stream",
     "name": "stderr",
     "text": [
      "\n"
     ]
    },
    {
     "output_type": "stream",
     "name": "stdout",
     "text": [
      "\n",
      "      Epoch    GPU_mem   box_loss   cls_loss   dfl_loss  Instances       Size\n"
     ]
    },
    {
     "output_type": "stream",
     "name": "stderr",
     "text": [
      "      11/50      2.49G      1.184     0.9789      1.322          2        640: 100%|██████████| 46/46 [00:12<00:00,  3.55it/s]\n",
      "                 Class     Images  Instances      Box(P          R      mAP50  mAP50-95): 100%|██████████| 12/12 [00:02<00:00,  4.69it/s]"
     ]
    },
    {
     "output_type": "stream",
     "name": "stdout",
     "text": [
      "                   all        361        361      0.951      0.937      0.978      0.619\n"
     ]
    },
    {
     "output_type": "stream",
     "name": "stderr",
     "text": [
      "\n"
     ]
    },
    {
     "output_type": "stream",
     "name": "stdout",
     "text": [
      "\n",
      "      Epoch    GPU_mem   box_loss   cls_loss   dfl_loss  Instances       Size\n"
     ]
    },
    {
     "output_type": "stream",
     "name": "stderr",
     "text": [
      "      12/50       2.5G      1.211     0.9632       1.31          3        640: 100%|██████████| 46/46 [00:12<00:00,  3.77it/s]\n",
      "                 Class     Images  Instances      Box(P          R      mAP50  mAP50-95): 100%|██████████| 12/12 [00:03<00:00,  3.42it/s]"
     ]
    },
    {
     "output_type": "stream",
     "name": "stdout",
     "text": [
      "                   all        361        361      0.889      0.886      0.955      0.614\n"
     ]
    },
    {
     "output_type": "stream",
     "name": "stderr",
     "text": [
      "\n"
     ]
    },
    {
     "output_type": "stream",
     "name": "stdout",
     "text": [
      "\n",
      "      Epoch    GPU_mem   box_loss   cls_loss   dfl_loss  Instances       Size\n"
     ]
    },
    {
     "output_type": "stream",
     "name": "stderr",
     "text": [
      "      13/50      2.52G      1.138     0.8937      1.275          4        640: 100%|██████████| 46/46 [00:12<00:00,  3.62it/s]\n",
      "                 Class     Images  Instances      Box(P          R      mAP50  mAP50-95): 100%|██████████| 12/12 [00:02<00:00,  5.10it/s]"
     ]
    },
    {
     "output_type": "stream",
     "name": "stdout",
     "text": [
      "                   all        361        361      0.815      0.733      0.843      0.479\n"
     ]
    },
    {
     "output_type": "stream",
     "name": "stderr",
     "text": [
      "\n"
     ]
    },
    {
     "output_type": "stream",
     "name": "stdout",
     "text": [
      "\n",
      "      Epoch    GPU_mem   box_loss   cls_loss   dfl_loss  Instances       Size\n"
     ]
    },
    {
     "output_type": "stream",
     "name": "stderr",
     "text": [
      "      14/50      2.54G      1.166     0.8705      1.283          2        640: 100%|██████████| 46/46 [00:12<00:00,  3.69it/s]\n",
      "                 Class     Images  Instances      Box(P          R      mAP50  mAP50-95): 100%|██████████| 12/12 [00:03<00:00,  3.84it/s]"
     ]
    },
    {
     "output_type": "stream",
     "name": "stdout",
     "text": [
      "                   all        361        361      0.952      0.964       0.98      0.655\n"
     ]
    },
    {
     "output_type": "stream",
     "name": "stderr",
     "text": [
      "\n"
     ]
    },
    {
     "output_type": "stream",
     "name": "stdout",
     "text": [
      "\n",
      "      Epoch    GPU_mem   box_loss   cls_loss   dfl_loss  Instances       Size\n"
     ]
    },
    {
     "output_type": "stream",
     "name": "stderr",
     "text": [
      "      15/50      2.55G      1.123     0.8155      1.309          1        640: 100%|██████████| 46/46 [00:12<00:00,  3.62it/s]\n",
      "                 Class     Images  Instances      Box(P          R      mAP50  mAP50-95): 100%|██████████| 12/12 [00:02<00:00,  5.39it/s]"
     ]
    },
    {
     "output_type": "stream",
     "name": "stdout",
     "text": [
      "                   all        361        361      0.975       0.96      0.982      0.564\n"
     ]
    },
    {
     "output_type": "stream",
     "name": "stderr",
     "text": [
      "\n"
     ]
    },
    {
     "output_type": "stream",
     "name": "stdout",
     "text": [
      "\n",
      "      Epoch    GPU_mem   box_loss   cls_loss   dfl_loss  Instances       Size\n"
     ]
    },
    {
     "output_type": "stream",
     "name": "stderr",
     "text": [
      "      16/50      2.57G      1.111     0.7871      1.251          2        640: 100%|██████████| 46/46 [00:12<00:00,  3.60it/s]\n",
      "                 Class     Images  Instances      Box(P          R      mAP50  mAP50-95): 100%|██████████| 12/12 [00:02<00:00,  4.77it/s]"
     ]
    },
    {
     "output_type": "stream",
     "name": "stdout",
     "text": [
      "                   all        361        361       0.93      0.873      0.957      0.612\n"
     ]
    },
    {
     "output_type": "stream",
     "name": "stderr",
     "text": [
      "\n"
     ]
    },
    {
     "output_type": "stream",
     "name": "stdout",
     "text": [
      "\n",
      "      Epoch    GPU_mem   box_loss   cls_loss   dfl_loss  Instances       Size\n"
     ]
    },
    {
     "output_type": "stream",
     "name": "stderr",
     "text": [
      "      17/50      2.59G      1.117     0.7947      1.272          1        640: 100%|██████████| 46/46 [00:12<00:00,  3.74it/s]\n",
      "                 Class     Images  Instances      Box(P          R      mAP50  mAP50-95): 100%|██████████| 12/12 [00:03<00:00,  3.73it/s]"
     ]
    },
    {
     "output_type": "stream",
     "name": "stdout",
     "text": [
      "                   all        361        361      0.983      0.983      0.991      0.633\n"
     ]
    },
    {
     "output_type": "stream",
     "name": "stderr",
     "text": [
      "\n"
     ]
    },
    {
     "output_type": "stream",
     "name": "stdout",
     "text": [
      "\n",
      "      Epoch    GPU_mem   box_loss   cls_loss   dfl_loss  Instances       Size\n"
     ]
    },
    {
     "output_type": "stream",
     "name": "stderr",
     "text": [
      "      18/50      2.61G       1.13     0.8077      1.279          4        640: 100%|██████████| 46/46 [00:12<00:00,  3.71it/s]\n",
      "                 Class     Images  Instances      Box(P          R      mAP50  mAP50-95): 100%|██████████| 12/12 [00:02<00:00,  4.91it/s]"
     ]
    },
    {
     "output_type": "stream",
     "name": "stdout",
     "text": [
      "                   all        361        361       0.97      0.976      0.987      0.667\n"
     ]
    },
    {
     "output_type": "stream",
     "name": "stderr",
     "text": [
      "\n"
     ]
    },
    {
     "output_type": "stream",
     "name": "stdout",
     "text": [
      "\n",
      "      Epoch    GPU_mem   box_loss   cls_loss   dfl_loss  Instances       Size\n"
     ]
    },
    {
     "output_type": "stream",
     "name": "stderr",
     "text": [
      "      19/50      2.62G      1.111     0.7345       1.27          4        640: 100%|██████████| 46/46 [00:12<00:00,  3.66it/s]\n",
      "                 Class     Images  Instances      Box(P          R      mAP50  mAP50-95): 100%|██████████| 12/12 [00:02<00:00,  4.78it/s]"
     ]
    },
    {
     "output_type": "stream",
     "name": "stdout",
     "text": [
      "                   all        361        361      0.985      0.985      0.993      0.671\n"
     ]
    },
    {
     "output_type": "stream",
     "name": "stderr",
     "text": [
      "\n"
     ]
    },
    {
     "output_type": "stream",
     "name": "stdout",
     "text": [
      "\n",
      "      Epoch    GPU_mem   box_loss   cls_loss   dfl_loss  Instances       Size\n"
     ]
    },
    {
     "output_type": "stream",
     "name": "stderr",
     "text": [
      "      20/50      2.64G      1.101     0.7579       1.26          4        640: 100%|██████████| 46/46 [00:13<00:00,  3.35it/s]\n",
      "                 Class     Images  Instances      Box(P          R      mAP50  mAP50-95): 100%|██████████| 12/12 [00:02<00:00,  4.99it/s]"
     ]
    },
    {
     "output_type": "stream",
     "name": "stdout",
     "text": [
      "                   all        361        361      0.995      0.984      0.994      0.683\n"
     ]
    },
    {
     "output_type": "stream",
     "name": "stderr",
     "text": [
      "\n"
     ]
    },
    {
     "output_type": "stream",
     "name": "stdout",
     "text": [
      "\n",
      "      Epoch    GPU_mem   box_loss   cls_loss   dfl_loss  Instances       Size\n"
     ]
    },
    {
     "output_type": "stream",
     "name": "stderr",
     "text": [
      "      21/50      2.66G      1.087     0.7461      1.273          1        640: 100%|██████████| 46/46 [00:12<00:00,  3.59it/s]\n",
      "                 Class     Images  Instances      Box(P          R      mAP50  mAP50-95): 100%|██████████| 12/12 [00:02<00:00,  5.48it/s]"
     ]
    },
    {
     "output_type": "stream",
     "name": "stdout",
     "text": [
      "                   all        361        361      0.965       0.97      0.993      0.636\n"
     ]
    },
    {
     "output_type": "stream",
     "name": "stderr",
     "text": [
      "\n"
     ]
    },
    {
     "output_type": "stream",
     "name": "stdout",
     "text": [
      "\n",
      "      Epoch    GPU_mem   box_loss   cls_loss   dfl_loss  Instances       Size\n"
     ]
    },
    {
     "output_type": "stream",
     "name": "stderr",
     "text": [
      "      22/50      2.67G      1.083     0.7342      1.254          3        640: 100%|██████████| 46/46 [00:12<00:00,  3.66it/s]\n",
      "                 Class     Images  Instances      Box(P          R      mAP50  mAP50-95): 100%|██████████| 12/12 [00:03<00:00,  3.68it/s]"
     ]
    },
    {
     "output_type": "stream",
     "name": "stdout",
     "text": [
      "                   all        361        361      0.968      0.963      0.991      0.655\n"
     ]
    },
    {
     "output_type": "stream",
     "name": "stderr",
     "text": [
      "\n"
     ]
    },
    {
     "output_type": "stream",
     "name": "stdout",
     "text": [
      "\n",
      "      Epoch    GPU_mem   box_loss   cls_loss   dfl_loss  Instances       Size\n"
     ]
    },
    {
     "output_type": "stream",
     "name": "stderr",
     "text": [
      "      23/50      2.69G      1.081     0.6812      1.239          4        640: 100%|██████████| 46/46 [00:12<00:00,  3.64it/s]\n",
      "                 Class     Images  Instances      Box(P          R      mAP50  mAP50-95): 100%|██████████| 12/12 [00:02<00:00,  4.97it/s]"
     ]
    },
    {
     "output_type": "stream",
     "name": "stdout",
     "text": [
      "                   all        361        361      0.994      0.994      0.994      0.666\n"
     ]
    },
    {
     "output_type": "stream",
     "name": "stderr",
     "text": [
      "\n"
     ]
    },
    {
     "output_type": "stream",
     "name": "stdout",
     "text": [
      "\n",
      "      Epoch    GPU_mem   box_loss   cls_loss   dfl_loss  Instances       Size\n"
     ]
    },
    {
     "output_type": "stream",
     "name": "stderr",
     "text": [
      "      24/50      2.71G      1.089     0.7045      1.253          2        640: 100%|██████████| 46/46 [00:12<00:00,  3.63it/s]\n",
      "                 Class     Images  Instances      Box(P          R      mAP50  mAP50-95): 100%|██████████| 12/12 [00:02<00:00,  5.17it/s]"
     ]
    },
    {
     "output_type": "stream",
     "name": "stdout",
     "text": [
      "                   all        361        361      0.989      0.995      0.992      0.681\n"
     ]
    },
    {
     "output_type": "stream",
     "name": "stderr",
     "text": [
      "\n"
     ]
    },
    {
     "output_type": "stream",
     "name": "stdout",
     "text": [
      "\n",
      "      Epoch    GPU_mem   box_loss   cls_loss   dfl_loss  Instances       Size\n"
     ]
    },
    {
     "output_type": "stream",
     "name": "stderr",
     "text": [
      "      25/50      2.72G      1.061     0.7145      1.229          2        640: 100%|██████████| 46/46 [00:12<00:00,  3.63it/s]\n",
      "                 Class     Images  Instances      Box(P          R      mAP50  mAP50-95): 100%|██████████| 12/12 [00:02<00:00,  5.19it/s]"
     ]
    },
    {
     "output_type": "stream",
     "name": "stdout",
     "text": [
      "                   all        361        361      0.993      0.995      0.994      0.674\n"
     ]
    },
    {
     "output_type": "stream",
     "name": "stderr",
     "text": [
      "\n"
     ]
    },
    {
     "output_type": "stream",
     "name": "stdout",
     "text": [
      "\n",
      "      Epoch    GPU_mem   box_loss   cls_loss   dfl_loss  Instances       Size\n"
     ]
    },
    {
     "output_type": "stream",
     "name": "stderr",
     "text": [
      "      26/50      2.74G       1.06     0.7157      1.228          2        640: 100%|██████████| 46/46 [00:12<00:00,  3.61it/s]\n",
      "                 Class     Images  Instances      Box(P          R      mAP50  mAP50-95): 100%|██████████| 12/12 [00:02<00:00,  5.50it/s]"
     ]
    },
    {
     "output_type": "stream",
     "name": "stdout",
     "text": [
      "                   all        361        361      0.989      0.995      0.994      0.685\n"
     ]
    },
    {
     "output_type": "stream",
     "name": "stderr",
     "text": [
      "\n"
     ]
    },
    {
     "output_type": "stream",
     "name": "stdout",
     "text": [
      "\n",
      "      Epoch    GPU_mem   box_loss   cls_loss   dfl_loss  Instances       Size\n"
     ]
    },
    {
     "output_type": "stream",
     "name": "stderr",
     "text": [
      "      27/50      2.76G      1.052     0.6645      1.214          1        640: 100%|██████████| 46/46 [00:13<00:00,  3.53it/s]\n",
      "                 Class     Images  Instances      Box(P          R      mAP50  mAP50-95): 100%|██████████| 12/12 [00:03<00:00,  3.56it/s]"
     ]
    },
    {
     "output_type": "stream",
     "name": "stdout",
     "text": [
      "                   all        361        361      0.987      0.982      0.992      0.646\n"
     ]
    },
    {
     "output_type": "stream",
     "name": "stderr",
     "text": [
      "\n"
     ]
    },
    {
     "output_type": "stream",
     "name": "stdout",
     "text": [
      "\n",
      "      Epoch    GPU_mem   box_loss   cls_loss   dfl_loss  Instances       Size\n"
     ]
    },
    {
     "output_type": "stream",
     "name": "stderr",
     "text": [
      "      28/50      2.78G      1.056     0.6961      1.252          2        640: 100%|██████████| 46/46 [00:12<00:00,  3.78it/s]\n",
      "                 Class     Images  Instances      Box(P          R      mAP50  mAP50-95): 100%|██████████| 12/12 [00:02<00:00,  4.27it/s]"
     ]
    },
    {
     "output_type": "stream",
     "name": "stdout",
     "text": [
      "                   all        361        361      0.969      0.985      0.994      0.682\n"
     ]
    },
    {
     "output_type": "stream",
     "name": "stderr",
     "text": [
      "\n"
     ]
    },
    {
     "output_type": "stream",
     "name": "stdout",
     "text": [
      "\n",
      "      Epoch    GPU_mem   box_loss   cls_loss   dfl_loss  Instances       Size\n"
     ]
    },
    {
     "output_type": "stream",
     "name": "stderr",
     "text": [
      "      29/50      2.79G      1.035     0.6721      1.225          3        640: 100%|██████████| 46/46 [00:12<00:00,  3.65it/s]\n",
      "                 Class     Images  Instances      Box(P          R      mAP50  mAP50-95): 100%|██████████| 12/12 [00:02<00:00,  5.28it/s]"
     ]
    },
    {
     "output_type": "stream",
     "name": "stdout",
     "text": [
      "                   all        361        361      0.995      0.997      0.994      0.695\n"
     ]
    },
    {
     "output_type": "stream",
     "name": "stderr",
     "text": [
      "\n"
     ]
    },
    {
     "output_type": "stream",
     "name": "stdout",
     "text": [
      "\n",
      "      Epoch    GPU_mem   box_loss   cls_loss   dfl_loss  Instances       Size\n"
     ]
    },
    {
     "output_type": "stream",
     "name": "stderr",
     "text": [
      "      30/50      2.81G      1.015     0.6247      1.195          4        640: 100%|██████████| 46/46 [00:12<00:00,  3.66it/s]\n",
      "                 Class     Images  Instances      Box(P          R      mAP50  mAP50-95): 100%|██████████| 12/12 [00:02<00:00,  5.24it/s]"
     ]
    },
    {
     "output_type": "stream",
     "name": "stdout",
     "text": [
      "                   all        361        361      0.986       0.97      0.992      0.661\n"
     ]
    },
    {
     "output_type": "stream",
     "name": "stderr",
     "text": [
      "\n"
     ]
    },
    {
     "output_type": "stream",
     "name": "stdout",
     "text": [
      "\n",
      "      Epoch    GPU_mem   box_loss   cls_loss   dfl_loss  Instances       Size\n"
     ]
    },
    {
     "output_type": "stream",
     "name": "stderr",
     "text": [
      "      31/50      2.83G      1.063     0.6651      1.246          2        640: 100%|██████████| 46/46 [00:13<00:00,  3.38it/s]\n",
      "                 Class     Images  Instances      Box(P          R      mAP50  mAP50-95): 100%|██████████| 12/12 [00:02<00:00,  5.24it/s]"
     ]
    },
    {
     "output_type": "stream",
     "name": "stdout",
     "text": [
      "                   all        361        361       0.99      0.992      0.993      0.697\n"
     ]
    },
    {
     "output_type": "stream",
     "name": "stderr",
     "text": [
      "\n"
     ]
    },
    {
     "output_type": "stream",
     "name": "stdout",
     "text": [
      "\n",
      "      Epoch    GPU_mem   box_loss   cls_loss   dfl_loss  Instances       Size\n"
     ]
    },
    {
     "output_type": "stream",
     "name": "stderr",
     "text": [
      "      32/50      2.84G      1.013     0.6298       1.21          4        640: 100%|██████████| 46/46 [00:12<00:00,  3.58it/s]\n",
      "                 Class     Images  Instances      Box(P          R      mAP50  mAP50-95): 100%|██████████| 12/12 [00:02<00:00,  4.66it/s]"
     ]
    },
    {
     "output_type": "stream",
     "name": "stdout",
     "text": [
      "                   all        361        361      0.988      0.992      0.994      0.681\n"
     ]
    },
    {
     "output_type": "stream",
     "name": "stderr",
     "text": [
      "\n"
     ]
    },
    {
     "output_type": "stream",
     "name": "stdout",
     "text": [
      "\n",
      "      Epoch    GPU_mem   box_loss   cls_loss   dfl_loss  Instances       Size\n"
     ]
    },
    {
     "output_type": "stream",
     "name": "stderr",
     "text": [
      "      33/50      2.86G     0.9935     0.5936      1.197          1        640: 100%|██████████| 46/46 [00:12<00:00,  3.80it/s]\n",
      "                 Class     Images  Instances      Box(P          R      mAP50  mAP50-95): 100%|██████████| 12/12 [00:03<00:00,  3.61it/s]"
     ]
    },
    {
     "output_type": "stream",
     "name": "stdout",
     "text": [
      "                   all        361        361      0.987      0.989      0.988      0.703\n"
     ]
    },
    {
     "output_type": "stream",
     "name": "stderr",
     "text": [
      "\n"
     ]
    },
    {
     "output_type": "stream",
     "name": "stdout",
     "text": [
      "\n",
      "      Epoch    GPU_mem   box_loss   cls_loss   dfl_loss  Instances       Size\n"
     ]
    },
    {
     "output_type": "stream",
     "name": "stderr",
     "text": [
      "      34/50      2.88G      1.011     0.6383      1.215          4        640: 100%|██████████| 46/46 [00:12<00:00,  3.74it/s]\n",
      "                 Class     Images  Instances      Box(P          R      mAP50  mAP50-95): 100%|██████████| 12/12 [00:02<00:00,  4.76it/s]"
     ]
    },
    {
     "output_type": "stream",
     "name": "stdout",
     "text": [
      "                   all        361        361      0.996      0.995      0.994      0.684\n"
     ]
    },
    {
     "output_type": "stream",
     "name": "stderr",
     "text": [
      "\n"
     ]
    },
    {
     "output_type": "stream",
     "name": "stdout",
     "text": [
      "\n",
      "      Epoch    GPU_mem   box_loss   cls_loss   dfl_loss  Instances       Size\n"
     ]
    },
    {
     "output_type": "stream",
     "name": "stderr",
     "text": [
      "      35/50      2.89G     0.9903     0.6166      1.192          2        640: 100%|██████████| 46/46 [00:12<00:00,  3.66it/s]\n",
      "                 Class     Images  Instances      Box(P          R      mAP50  mAP50-95): 100%|██████████| 12/12 [00:02<00:00,  5.41it/s]"
     ]
    },
    {
     "output_type": "stream",
     "name": "stdout",
     "text": [
      "                   all        361        361      0.992      0.962       0.99      0.692\n"
     ]
    },
    {
     "output_type": "stream",
     "name": "stderr",
     "text": [
      "\n"
     ]
    },
    {
     "output_type": "stream",
     "name": "stdout",
     "text": [
      "\n",
      "      Epoch    GPU_mem   box_loss   cls_loss   dfl_loss  Instances       Size\n"
     ]
    },
    {
     "output_type": "stream",
     "name": "stderr",
     "text": [
      "      36/50      2.91G     0.9958     0.5961       1.19          4        640: 100%|██████████| 46/46 [00:12<00:00,  3.63it/s]\n",
      "                 Class     Images  Instances      Box(P          R      mAP50  mAP50-95): 100%|██████████| 12/12 [00:02<00:00,  5.48it/s]"
     ]
    },
    {
     "output_type": "stream",
     "name": "stdout",
     "text": [
      "                   all        361        361      0.988       0.99       0.99      0.705\n"
     ]
    },
    {
     "output_type": "stream",
     "name": "stderr",
     "text": [
      "\n"
     ]
    },
    {
     "output_type": "stream",
     "name": "stdout",
     "text": [
      "\n",
      "      Epoch    GPU_mem   box_loss   cls_loss   dfl_loss  Instances       Size\n"
     ]
    },
    {
     "output_type": "stream",
     "name": "stderr",
     "text": [
      "      37/50      2.93G     0.9784     0.5835      1.188          2        640: 100%|██████████| 46/46 [00:12<00:00,  3.65it/s]\n",
      "                 Class     Images  Instances      Box(P          R      mAP50  mAP50-95): 100%|██████████| 12/12 [00:02<00:00,  5.21it/s]"
     ]
    },
    {
     "output_type": "stream",
     "name": "stdout",
     "text": [
      "                   all        361        361      0.987      0.989      0.991      0.715\n"
     ]
    },
    {
     "output_type": "stream",
     "name": "stderr",
     "text": [
      "\n"
     ]
    },
    {
     "output_type": "stream",
     "name": "stdout",
     "text": [
      "\n",
      "      Epoch    GPU_mem   box_loss   cls_loss   dfl_loss  Instances       Size\n"
     ]
    },
    {
     "output_type": "stream",
     "name": "stderr",
     "text": [
      "      38/50      2.95G      1.001     0.5981      1.214          2        640: 100%|██████████| 46/46 [00:12<00:00,  3.69it/s]\n",
      "                 Class     Images  Instances      Box(P          R      mAP50  mAP50-95): 100%|██████████| 12/12 [00:02<00:00,  4.34it/s]"
     ]
    },
    {
     "output_type": "stream",
     "name": "stdout",
     "text": [
      "                   all        361        361       0.99      0.994      0.993      0.713\n"
     ]
    },
    {
     "output_type": "stream",
     "name": "stderr",
     "text": [
      "\n"
     ]
    },
    {
     "output_type": "stream",
     "name": "stdout",
     "text": [
      "\n",
      "      Epoch    GPU_mem   box_loss   cls_loss   dfl_loss  Instances       Size\n"
     ]
    },
    {
     "output_type": "stream",
     "name": "stderr",
     "text": [
      "      39/50      2.96G     0.9527     0.5658      1.177          1        640: 100%|██████████| 46/46 [00:12<00:00,  3.71it/s]\n",
      "                 Class     Images  Instances      Box(P          R      mAP50  mAP50-95): 100%|██████████| 12/12 [00:03<00:00,  3.75it/s]"
     ]
    },
    {
     "output_type": "stream",
     "name": "stdout",
     "text": [
      "                   all        361        361      0.996      0.997      0.993      0.717\n"
     ]
    },
    {
     "output_type": "stream",
     "name": "stderr",
     "text": [
      "\n"
     ]
    },
    {
     "output_type": "stream",
     "name": "stdout",
     "text": [
      "\n",
      "      Epoch    GPU_mem   box_loss   cls_loss   dfl_loss  Instances       Size\n"
     ]
    },
    {
     "output_type": "stream",
     "name": "stderr",
     "text": [
      "      40/50      2.98G     0.9736     0.5781      1.185          4        640: 100%|██████████| 46/46 [00:12<00:00,  3.58it/s]\n",
      "                 Class     Images  Instances      Box(P          R      mAP50  mAP50-95): 100%|██████████| 12/12 [00:02<00:00,  5.52it/s]"
     ]
    },
    {
     "output_type": "stream",
     "name": "stdout",
     "text": [
      "                   all        361        361      0.993      0.994      0.994      0.717\n"
     ]
    },
    {
     "output_type": "stream",
     "name": "stderr",
     "text": [
      "\n"
     ]
    },
    {
     "output_type": "stream",
     "name": "stdout",
     "text": [
      "Closing dataloader mosaic\n",
      "\u001B[34m\u001B[1malbumentations: \u001B[0mBlur(p=0.01, blur_limit=(3, 7)), MedianBlur(p=0.01, blur_limit=(3, 7)), ToGray(p=0.01, method='weighted_average', num_output_channels=3), CLAHE(p=0.01, clip_limit=(1.0, 4.0), tile_grid_size=(8, 8))\n",
      "\n",
      "      Epoch    GPU_mem   box_loss   cls_loss   dfl_loss  Instances       Size\n"
     ]
    },
    {
     "output_type": "stream",
     "name": "stderr",
     "text": [
      "      41/50         3G     0.8676     0.4365      1.269          1        640: 100%|██████████| 46/46 [00:13<00:00,  3.52it/s]\n",
      "                 Class     Images  Instances      Box(P          R      mAP50  mAP50-95): 100%|██████████| 12/12 [00:02<00:00,  5.28it/s]"
     ]
    },
    {
     "output_type": "stream",
     "name": "stdout",
     "text": [
      "                   all        361        361      0.993      0.997      0.994       0.73\n"
     ]
    },
    {
     "output_type": "stream",
     "name": "stderr",
     "text": [
      "\n"
     ]
    },
    {
     "output_type": "stream",
     "name": "stdout",
     "text": [
      "\n",
      "      Epoch    GPU_mem   box_loss   cls_loss   dfl_loss  Instances       Size\n"
     ]
    },
    {
     "output_type": "stream",
     "name": "stderr",
     "text": [
      "      42/50      3.01G      0.843     0.4103      1.262          1        640: 100%|██████████| 46/46 [00:13<00:00,  3.54it/s]\n",
      "                 Class     Images  Instances      Box(P          R      mAP50  mAP50-95): 100%|██████████| 12/12 [00:02<00:00,  5.43it/s]"
     ]
    },
    {
     "output_type": "stream",
     "name": "stdout",
     "text": [
      "                   all        361        361      0.996      0.997      0.993      0.734\n"
     ]
    },
    {
     "output_type": "stream",
     "name": "stderr",
     "text": [
      "\n"
     ]
    },
    {
     "output_type": "stream",
     "name": "stdout",
     "text": [
      "\n",
      "      Epoch    GPU_mem   box_loss   cls_loss   dfl_loss  Instances       Size\n"
     ]
    },
    {
     "output_type": "stream",
     "name": "stderr",
     "text": [
      "      43/50      3.03G     0.8282     0.4016      1.257          1        640: 100%|██████████| 46/46 [00:11<00:00,  3.98it/s]\n",
      "                 Class     Images  Instances      Box(P          R      mAP50  mAP50-95): 100%|██████████| 12/12 [00:02<00:00,  5.25it/s]"
     ]
    },
    {
     "output_type": "stream",
     "name": "stdout",
     "text": [
      "                   all        361        361      0.996      0.997      0.994      0.739\n"
     ]
    },
    {
     "output_type": "stream",
     "name": "stderr",
     "text": [
      "\n"
     ]
    },
    {
     "output_type": "stream",
     "name": "stdout",
     "text": [
      "\n",
      "      Epoch    GPU_mem   box_loss   cls_loss   dfl_loss  Instances       Size\n"
     ]
    },
    {
     "output_type": "stream",
     "name": "stderr",
     "text": [
      "      44/50      3.05G     0.8577     0.4029      1.252          1        640: 100%|██████████| 46/46 [00:11<00:00,  4.03it/s]\n",
      "                 Class     Images  Instances      Box(P          R      mAP50  mAP50-95): 100%|██████████| 12/12 [00:02<00:00,  5.09it/s]"
     ]
    },
    {
     "output_type": "stream",
     "name": "stdout",
     "text": [
      "                   all        361        361      0.994      0.997      0.994      0.731\n"
     ]
    },
    {
     "output_type": "stream",
     "name": "stderr",
     "text": [
      "\n"
     ]
    },
    {
     "output_type": "stream",
     "name": "stdout",
     "text": [
      "\n",
      "      Epoch    GPU_mem   box_loss   cls_loss   dfl_loss  Instances       Size\n"
     ]
    },
    {
     "output_type": "stream",
     "name": "stderr",
     "text": [
      "      45/50      3.06G     0.8236     0.3911       1.24          1        640: 100%|██████████| 46/46 [00:11<00:00,  3.94it/s]\n",
      "                 Class     Images  Instances      Box(P          R      mAP50  mAP50-95): 100%|██████████| 12/12 [00:02<00:00,  5.31it/s]"
     ]
    },
    {
     "output_type": "stream",
     "name": "stdout",
     "text": [
      "                   all        361        361      0.994      0.997      0.994      0.736\n"
     ]
    },
    {
     "output_type": "stream",
     "name": "stderr",
     "text": [
      "\n"
     ]
    },
    {
     "output_type": "stream",
     "name": "stdout",
     "text": [
      "\n",
      "      Epoch    GPU_mem   box_loss   cls_loss   dfl_loss  Instances       Size\n"
     ]
    },
    {
     "output_type": "stream",
     "name": "stderr",
     "text": [
      "      46/50      3.08G     0.7967     0.3824      1.238          1        640: 100%|██████████| 46/46 [00:11<00:00,  4.00it/s]\n",
      "                 Class     Images  Instances      Box(P          R      mAP50  mAP50-95): 100%|██████████| 12/12 [00:02<00:00,  4.24it/s]"
     ]
    },
    {
     "output_type": "stream",
     "name": "stdout",
     "text": [
      "                   all        361        361      0.996      0.997      0.994      0.739\n"
     ]
    },
    {
     "output_type": "stream",
     "name": "stderr",
     "text": [
      "\n"
     ]
    },
    {
     "output_type": "stream",
     "name": "stdout",
     "text": [
      "\n",
      "      Epoch    GPU_mem   box_loss   cls_loss   dfl_loss  Instances       Size\n"
     ]
    },
    {
     "output_type": "stream",
     "name": "stderr",
     "text": [
      "      47/50       3.1G      0.775     0.3763      1.213          1        640: 100%|██████████| 46/46 [00:10<00:00,  4.28it/s]\n",
      "                 Class     Images  Instances      Box(P          R      mAP50  mAP50-95): 100%|██████████| 12/12 [00:03<00:00,  3.69it/s]"
     ]
    },
    {
     "output_type": "stream",
     "name": "stdout",
     "text": [
      "                   all        361        361      0.993      0.997      0.994      0.734\n"
     ]
    },
    {
     "output_type": "stream",
     "name": "stderr",
     "text": [
      "\n"
     ]
    },
    {
     "output_type": "stream",
     "name": "stdout",
     "text": [
      "\n",
      "      Epoch    GPU_mem   box_loss   cls_loss   dfl_loss  Instances       Size\n"
     ]
    },
    {
     "output_type": "stream",
     "name": "stderr",
     "text": [
      "      48/50      3.12G     0.7951     0.3731      1.217          1        640: 100%|██████████| 46/46 [00:10<00:00,  4.34it/s]\n",
      "                 Class     Images  Instances      Box(P          R      mAP50  mAP50-95): 100%|██████████| 12/12 [00:03<00:00,  3.72it/s]"
     ]
    },
    {
     "output_type": "stream",
     "name": "stdout",
     "text": [
      "                   all        361        361      0.994      0.997      0.994      0.738\n"
     ]
    },
    {
     "output_type": "stream",
     "name": "stderr",
     "text": [
      "\n"
     ]
    },
    {
     "output_type": "stream",
     "name": "stdout",
     "text": [
      "\n",
      "      Epoch    GPU_mem   box_loss   cls_loss   dfl_loss  Instances       Size\n"
     ]
    },
    {
     "output_type": "stream",
     "name": "stderr",
     "text": [
      "      49/50      3.13G     0.7699     0.3719      1.212          1        640: 100%|██████████| 46/46 [00:10<00:00,  4.18it/s]\n",
      "                 Class     Images  Instances      Box(P          R      mAP50  mAP50-95): 100%|██████████| 12/12 [00:02<00:00,  4.32it/s]"
     ]
    },
    {
     "output_type": "stream",
     "name": "stdout",
     "text": [
      "                   all        361        361      0.995      0.997      0.993      0.745\n"
     ]
    },
    {
     "output_type": "stream",
     "name": "stderr",
     "text": [
      "\n"
     ]
    },
    {
     "output_type": "stream",
     "name": "stdout",
     "text": [
      "\n",
      "      Epoch    GPU_mem   box_loss   cls_loss   dfl_loss  Instances       Size\n"
     ]
    },
    {
     "output_type": "stream",
     "name": "stderr",
     "text": [
      "      50/50      3.15G      0.745     0.4032      1.182          1        640: 100%|██████████| 46/46 [00:11<00:00,  4.04it/s]\n",
      "                 Class     Images  Instances      Box(P          R      mAP50  mAP50-95): 100%|██████████| 12/12 [00:02<00:00,  4.84it/s]"
     ]
    },
    {
     "output_type": "stream",
     "name": "stdout",
     "text": [
      "                   all        361        361      0.994      0.997      0.993      0.745\n"
     ]
    },
    {
     "output_type": "stream",
     "name": "stderr",
     "text": [
      "\n"
     ]
    },
    {
     "output_type": "stream",
     "name": "stdout",
     "text": [
      "\n",
      "50 epochs completed in 0.215 hours.\n",
      "Optimizer stripped from runs/detect/fold1/weights/last.pt, 6.2MB\n",
      "Optimizer stripped from runs/detect/fold1/weights/best.pt, 6.2MB\n",
      "\n",
      "Validating runs/detect/fold1/weights/best.pt...\n",
      "Ultralytics 8.3.173 🚀 Python-3.11.13 torch-2.6.0+cu124 CUDA:0 (Tesla T4, 15095MiB)\n",
      "Model summary (fused): 72 layers, 3,006,428 parameters, 0 gradients, 8.1 GFLOPs\n"
     ]
    },
    {
     "output_type": "stream",
     "name": "stderr",
     "text": [
      "                 Class     Images  Instances      Box(P          R      mAP50  mAP50-95): 100%|██████████| 12/12 [00:03<00:00,  3.23it/s]\n"
     ]
    },
    {
     "output_type": "stream",
     "name": "stdout",
     "text": [
      "                   all        361        361      0.994      0.997      0.994      0.746\n",
      "       right_eye_close        118        118          1          1      0.995      0.698\n",
      "        right_eye_open        120        120       0.99      0.992      0.991      0.804\n",
      "        left_eye_close        123        123      0.993          1      0.995      0.736\n",
      "Speed: 0.2ms preprocess, 1.9ms inference, 0.0ms loss, 3.2ms postprocess per image\n",
      "Results saved to \u001B[1mruns/detect/fold1\u001B[0m\n",
      "\n",
      "🔁 正在训练 Fold 2...\n",
      "\n",
      "Ultralytics 8.3.173 🚀 Python-3.11.13 torch-2.6.0+cu124 CUDA:0 (Tesla T4, 15095MiB)\n",
      "\u001B[34m\u001B[1mengine/trainer: \u001B[0magnostic_nms=False, amp=True, augment=False, auto_augment=randaugment, batch=16, bgr=0.0, box=7.5, cache=False, cfg=None, classes=None, close_mosaic=10, cls=0.5, conf=None, copy_paste=0.0, copy_paste_mode=flip, cos_lr=False, cutmix=0.0, data=crossval/fold_2/data_fold_2.yaml, degrees=0.0, deterministic=True, device=0, dfl=1.5, dnn=False, dropout=0.0, dynamic=False, embed=None, epochs=50, erasing=0.4, exist_ok=False, fliplr=0.5, flipud=0.0, format=torchscript, fraction=1.0, freeze=None, half=False, hsv_h=0.015, hsv_s=0.7, hsv_v=0.4, imgsz=640, int8=False, iou=0.7, keras=False, kobj=1.0, line_width=None, lr0=0.01, lrf=0.01, mask_ratio=4, max_det=300, mixup=0.0, mode=train, model=yolov8n.pt, momentum=0.937, mosaic=1.0, multi_scale=False, name=fold2, nbs=64, nms=False, opset=None, optimize=False, optimizer=auto, overlap_mask=True, patience=100, perspective=0.0, plots=True, pose=12.0, pretrained=True, profile=False, project=None, rect=False, resume=False, retina_masks=False, save=True, save_conf=False, save_crop=False, save_dir=runs/detect/fold2, save_frames=False, save_json=False, save_period=-1, save_txt=False, scale=0.5, seed=0, shear=0.0, show=False, show_boxes=True, show_conf=True, show_labels=True, simplify=True, single_cls=False, source=None, split=val, stream_buffer=False, task=detect, time=None, tracker=botsort.yaml, translate=0.1, val=True, verbose=True, vid_stride=1, visualize=False, warmup_bias_lr=0.1, warmup_epochs=3.0, warmup_momentum=0.8, weight_decay=0.0005, workers=8, workspace=None\n",
      "Overriding model.yaml nc=80 with nc=4\n",
      "\n",
      "                   from  n    params  module                                       arguments                     \n",
      "  0                  -1  1       464  ultralytics.nn.modules.conv.Conv             [3, 16, 3, 2]                 \n",
      "  1                  -1  1      4672  ultralytics.nn.modules.conv.Conv             [16, 32, 3, 2]                \n",
      "  2                  -1  1      7360  ultralytics.nn.modules.block.C2f             [32, 32, 1, True]             \n",
      "  3                  -1  1     18560  ultralytics.nn.modules.conv.Conv             [32, 64, 3, 2]                \n",
      "  4                  -1  2     49664  ultralytics.nn.modules.block.C2f             [64, 64, 2, True]             \n",
      "  5                  -1  1     73984  ultralytics.nn.modules.conv.Conv             [64, 128, 3, 2]               \n",
      "  6                  -1  2    197632  ultralytics.nn.modules.block.C2f             [128, 128, 2, True]           \n",
      "  7                  -1  1    295424  ultralytics.nn.modules.conv.Conv             [128, 256, 3, 2]              \n",
      "  8                  -1  1    460288  ultralytics.nn.modules.block.C2f             [256, 256, 1, True]           \n",
      "  9                  -1  1    164608  ultralytics.nn.modules.block.SPPF            [256, 256, 5]                 \n",
      " 10                  -1  1         0  torch.nn.modules.upsampling.Upsample         [None, 2, 'nearest']          \n",
      " 11             [-1, 6]  1         0  ultralytics.nn.modules.conv.Concat           [1]                           \n",
      " 12                  -1  1    148224  ultralytics.nn.modules.block.C2f             [384, 128, 1]                 \n",
      " 13                  -1  1         0  torch.nn.modules.upsampling.Upsample         [None, 2, 'nearest']          \n",
      " 14             [-1, 4]  1         0  ultralytics.nn.modules.conv.Concat           [1]                           \n",
      " 15                  -1  1     37248  ultralytics.nn.modules.block.C2f             [192, 64, 1]                  \n",
      " 16                  -1  1     36992  ultralytics.nn.modules.conv.Conv             [64, 64, 3, 2]                \n",
      " 17            [-1, 12]  1         0  ultralytics.nn.modules.conv.Concat           [1]                           \n",
      " 18                  -1  1    123648  ultralytics.nn.modules.block.C2f             [192, 128, 1]                 \n",
      " 19                  -1  1    147712  ultralytics.nn.modules.conv.Conv             [128, 128, 3, 2]              \n",
      " 20             [-1, 9]  1         0  ultralytics.nn.modules.conv.Concat           [1]                           \n",
      " 21                  -1  1    493056  ultralytics.nn.modules.block.C2f             [384, 256, 1]                 \n",
      " 22        [15, 18, 21]  1    752092  ultralytics.nn.modules.head.Detect           [4, [64, 128, 256]]           \n",
      "Model summary: 129 layers, 3,011,628 parameters, 3,011,612 gradients, 8.2 GFLOPs\n",
      "\n",
      "Transferred 319/355 items from pretrained weights\n",
      "Freezing layer 'model.22.dfl.conv.weight'\n",
      "\u001B[34m\u001B[1mAMP: \u001B[0mrunning Automatic Mixed Precision (AMP) checks...\n",
      "\u001B[34m\u001B[1mAMP: \u001B[0mchecks passed ✅\n",
      "\u001B[34m\u001B[1mtrain: \u001B[0mFast image access ✅ (ping: 0.1±0.2 ms, read: 9.0±2.2 MB/s, size: 10.7 KB)\n"
     ]
    },
    {
     "output_type": "stream",
     "name": "stderr",
     "text": [
      "\u001B[34m\u001B[1mtrain: \u001B[0mScanning /content/crossval/fold_2/labels/train... 722 images, 0 backgrounds, 0 corrupt: 100%|██████████| 722/722 [00:00<00:00, 1635.02it/s]"
     ]
    },
    {
     "output_type": "stream",
     "name": "stdout",
     "text": [
      "\u001B[34m\u001B[1mtrain: \u001B[0mNew cache created: /content/crossval/fold_2/labels/train.cache\n",
      "\u001B[34m\u001B[1malbumentations: \u001B[0mBlur(p=0.01, blur_limit=(3, 7)), MedianBlur(p=0.01, blur_limit=(3, 7)), ToGray(p=0.01, method='weighted_average', num_output_channels=3), CLAHE(p=0.01, clip_limit=(1.0, 4.0), tile_grid_size=(8, 8))\n"
     ]
    },
    {
     "output_type": "stream",
     "name": "stderr",
     "text": [
      "\n"
     ]
    },
    {
     "output_type": "stream",
     "name": "stdout",
     "text": [
      "\u001B[34m\u001B[1mval: \u001B[0mFast image access ✅ (ping: 0.0±0.0 ms, read: 7.9±1.2 MB/s, size: 10.2 KB)\n"
     ]
    },
    {
     "output_type": "stream",
     "name": "stderr",
     "text": [
      "\u001B[34m\u001B[1mval: \u001B[0mScanning /content/crossval/fold_2/labels/val... 360 images, 0 backgrounds, 0 corrupt: 100%|██████████| 360/360 [00:00<00:00, 705.92it/s]\n"
     ]
    },
    {
     "output_type": "stream",
     "name": "stdout",
     "text": [
      "\u001B[34m\u001B[1mval: \u001B[0mNew cache created: /content/crossval/fold_2/labels/val.cache\n",
      "Plotting labels to runs/detect/fold2/labels.jpg... \n",
      "\u001B[34m\u001B[1moptimizer:\u001B[0m 'optimizer=auto' found, ignoring 'lr0=0.01' and 'momentum=0.937' and determining best 'optimizer', 'lr0' and 'momentum' automatically... \n",
      "\u001B[34m\u001B[1moptimizer:\u001B[0m AdamW(lr=0.00125, momentum=0.9) with parameter groups 57 weight(decay=0.0), 64 weight(decay=0.0005), 63 bias(decay=0.0)\n",
      "Image sizes 640 train, 640 val\n",
      "Using 2 dataloader workers\n",
      "Logging results to \u001B[1mruns/detect/fold2\u001B[0m\n",
      "Starting training for 50 epochs...\n",
      "\n",
      "      Epoch    GPU_mem   box_loss   cls_loss   dfl_loss  Instances       Size\n"
     ]
    },
    {
     "output_type": "stream",
     "name": "stderr",
     "text": [
      "       1/50      2.38G      1.682       3.15      1.889          6        640: 100%|██████████| 46/46 [00:14<00:00,  3.17it/s]\n",
      "                 Class     Images  Instances      Box(P          R      mAP50  mAP50-95): 100%|██████████| 12/12 [00:02<00:00,  4.98it/s]\n"
     ]
    },
    {
     "output_type": "stream",
     "name": "stdout",
     "text": [
      "                   all        360        360    0.00936      0.997      0.649      0.318\n",
      "\n",
      "      Epoch    GPU_mem   box_loss   cls_loss   dfl_loss  Instances       Size\n"
     ]
    },
    {
     "output_type": "stream",
     "name": "stderr",
     "text": [
      "       2/50      2.58G      1.329      1.914      1.476          3        640: 100%|██████████| 46/46 [00:14<00:00,  3.22it/s]\n",
      "                 Class     Images  Instances      Box(P          R      mAP50  mAP50-95): 100%|██████████| 12/12 [00:03<00:00,  3.36it/s]"
     ]
    },
    {
     "output_type": "stream",
     "name": "stdout",
     "text": [
      "                   all        360        360      0.716      0.661      0.718      0.451\n"
     ]
    },
    {
     "output_type": "stream",
     "name": "stderr",
     "text": [
      "\n"
     ]
    },
    {
     "output_type": "stream",
     "name": "stdout",
     "text": [
      "\n",
      "      Epoch    GPU_mem   box_loss   cls_loss   dfl_loss  Instances       Size\n"
     ]
    },
    {
     "output_type": "stream",
     "name": "stderr",
     "text": [
      "       3/50      2.58G      1.342       1.76       1.43          6        640: 100%|██████████| 46/46 [00:12<00:00,  3.56it/s]\n",
      "                 Class     Images  Instances      Box(P          R      mAP50  mAP50-95): 100%|██████████| 12/12 [00:02<00:00,  4.78it/s]"
     ]
    },
    {
     "output_type": "stream",
     "name": "stdout",
     "text": [
      "                   all        360        360      0.486      0.635      0.547      0.203\n"
     ]
    },
    {
     "output_type": "stream",
     "name": "stderr",
     "text": [
      "\n"
     ]
    },
    {
     "output_type": "stream",
     "name": "stdout",
     "text": [
      "\n",
      "      Epoch    GPU_mem   box_loss   cls_loss   dfl_loss  Instances       Size\n"
     ]
    },
    {
     "output_type": "stream",
     "name": "stderr",
     "text": [
      "       4/50      2.58G      1.311      1.567        1.4          3        640: 100%|██████████| 46/46 [00:12<00:00,  3.65it/s]\n",
      "                 Class     Images  Instances      Box(P          R      mAP50  mAP50-95): 100%|██████████| 12/12 [00:02<00:00,  4.78it/s]"
     ]
    },
    {
     "output_type": "stream",
     "name": "stdout",
     "text": [
      "                   all        360        360      0.805      0.846      0.844       0.51\n"
     ]
    },
    {
     "output_type": "stream",
     "name": "stderr",
     "text": [
      "\n"
     ]
    },
    {
     "output_type": "stream",
     "name": "stdout",
     "text": [
      "\n",
      "      Epoch    GPU_mem   box_loss   cls_loss   dfl_loss  Instances       Size\n"
     ]
    },
    {
     "output_type": "stream",
     "name": "stderr",
     "text": [
      "       5/50      2.58G      1.272      1.402      1.379          5        640: 100%|██████████| 46/46 [00:12<00:00,  3.57it/s]\n",
      "                 Class     Images  Instances      Box(P          R      mAP50  mAP50-95): 100%|██████████| 12/12 [00:02<00:00,  4.85it/s]"
     ]
    },
    {
     "output_type": "stream",
     "name": "stdout",
     "text": [
      "                   all        360        360      0.903      0.883      0.925      0.457\n"
     ]
    },
    {
     "output_type": "stream",
     "name": "stderr",
     "text": [
      "\n"
     ]
    },
    {
     "output_type": "stream",
     "name": "stdout",
     "text": [
      "\n",
      "      Epoch    GPU_mem   box_loss   cls_loss   dfl_loss  Instances       Size\n"
     ]
    },
    {
     "output_type": "stream",
     "name": "stderr",
     "text": [
      "       6/50      2.58G      1.261      1.328      1.382          3        640: 100%|██████████| 46/46 [00:12<00:00,  3.64it/s]\n",
      "                 Class     Images  Instances      Box(P          R      mAP50  mAP50-95): 100%|██████████| 12/12 [00:02<00:00,  4.69it/s]"
     ]
    },
    {
     "output_type": "stream",
     "name": "stdout",
     "text": [
      "                   all        360        360      0.978      0.954      0.985      0.624\n"
     ]
    },
    {
     "output_type": "stream",
     "name": "stderr",
     "text": [
      "\n"
     ]
    },
    {
     "output_type": "stream",
     "name": "stdout",
     "text": [
      "\n",
      "      Epoch    GPU_mem   box_loss   cls_loss   dfl_loss  Instances       Size\n"
     ]
    },
    {
     "output_type": "stream",
     "name": "stderr",
     "text": [
      "       7/50      2.58G      1.257       1.16      1.371          3        640: 100%|██████████| 46/46 [00:12<00:00,  3.60it/s]\n",
      "                 Class     Images  Instances      Box(P          R      mAP50  mAP50-95): 100%|██████████| 12/12 [00:03<00:00,  3.58it/s]"
     ]
    },
    {
     "output_type": "stream",
     "name": "stdout",
     "text": [
      "                   all        360        360      0.919      0.929       0.92      0.583\n"
     ]
    },
    {
     "output_type": "stream",
     "name": "stderr",
     "text": [
      "\n"
     ]
    },
    {
     "output_type": "stream",
     "name": "stdout",
     "text": [
      "\n",
      "      Epoch    GPU_mem   box_loss   cls_loss   dfl_loss  Instances       Size\n"
     ]
    },
    {
     "output_type": "stream",
     "name": "stderr",
     "text": [
      "       8/50      2.58G      1.246      1.208      1.371          3        640: 100%|██████████| 46/46 [00:12<00:00,  3.68it/s]\n",
      "                 Class     Images  Instances      Box(P          R      mAP50  mAP50-95): 100%|██████████| 12/12 [00:02<00:00,  4.60it/s]"
     ]
    },
    {
     "output_type": "stream",
     "name": "stdout",
     "text": [
      "                   all        360        360      0.981      0.964      0.989      0.582\n"
     ]
    },
    {
     "output_type": "stream",
     "name": "stderr",
     "text": [
      "\n"
     ]
    },
    {
     "output_type": "stream",
     "name": "stdout",
     "text": [
      "\n",
      "      Epoch    GPU_mem   box_loss   cls_loss   dfl_loss  Instances       Size\n"
     ]
    },
    {
     "output_type": "stream",
     "name": "stderr",
     "text": [
      "       9/50      2.58G      1.245      1.106      1.344          3        640: 100%|██████████| 46/46 [00:12<00:00,  3.63it/s]\n",
      "                 Class     Images  Instances      Box(P          R      mAP50  mAP50-95): 100%|██████████| 12/12 [00:02<00:00,  4.98it/s]"
     ]
    },
    {
     "output_type": "stream",
     "name": "stdout",
     "text": [
      "                   all        360        360      0.989      0.991       0.99      0.629\n"
     ]
    },
    {
     "output_type": "stream",
     "name": "stderr",
     "text": [
      "\n"
     ]
    },
    {
     "output_type": "stream",
     "name": "stdout",
     "text": [
      "\n",
      "      Epoch    GPU_mem   box_loss   cls_loss   dfl_loss  Instances       Size\n"
     ]
    },
    {
     "output_type": "stream",
     "name": "stderr",
     "text": [
      "      10/50      2.58G      1.213      1.037      1.308          6        640: 100%|██████████| 46/46 [00:12<00:00,  3.62it/s]\n",
      "                 Class     Images  Instances      Box(P          R      mAP50  mAP50-95): 100%|██████████| 12/12 [00:02<00:00,  5.19it/s]"
     ]
    },
    {
     "output_type": "stream",
     "name": "stdout",
     "text": [
      "                   all        360        360      0.871      0.892       0.96      0.603\n"
     ]
    },
    {
     "output_type": "stream",
     "name": "stderr",
     "text": [
      "\n"
     ]
    },
    {
     "output_type": "stream",
     "name": "stdout",
     "text": [
      "\n",
      "      Epoch    GPU_mem   box_loss   cls_loss   dfl_loss  Instances       Size\n"
     ]
    },
    {
     "output_type": "stream",
     "name": "stderr",
     "text": [
      "      11/50      2.58G      1.185      1.008      1.321          6        640: 100%|██████████| 46/46 [00:12<00:00,  3.58it/s]\n",
      "                 Class     Images  Instances      Box(P          R      mAP50  mAP50-95): 100%|██████████| 12/12 [00:02<00:00,  5.20it/s]"
     ]
    },
    {
     "output_type": "stream",
     "name": "stdout",
     "text": [
      "                   all        360        360      0.801       0.95      0.991      0.605\n"
     ]
    },
    {
     "output_type": "stream",
     "name": "stderr",
     "text": [
      "\n"
     ]
    },
    {
     "output_type": "stream",
     "name": "stdout",
     "text": [
      "\n",
      "      Epoch    GPU_mem   box_loss   cls_loss   dfl_loss  Instances       Size\n"
     ]
    },
    {
     "output_type": "stream",
     "name": "stderr",
     "text": [
      "      12/50      2.58G      1.193     0.9961      1.318          6        640: 100%|██████████| 46/46 [00:12<00:00,  3.66it/s]\n",
      "                 Class     Images  Instances      Box(P          R      mAP50  mAP50-95): 100%|██████████| 12/12 [00:02<00:00,  4.22it/s]"
     ]
    },
    {
     "output_type": "stream",
     "name": "stdout",
     "text": [
      "                   all        360        360       0.98      0.983      0.992      0.639\n"
     ]
    },
    {
     "output_type": "stream",
     "name": "stderr",
     "text": [
      "\n"
     ]
    },
    {
     "output_type": "stream",
     "name": "stdout",
     "text": [
      "\n",
      "      Epoch    GPU_mem   box_loss   cls_loss   dfl_loss  Instances       Size\n"
     ]
    },
    {
     "output_type": "stream",
     "name": "stderr",
     "text": [
      "      13/50      2.58G      1.145     0.9139      1.287          5        640: 100%|██████████| 46/46 [00:14<00:00,  3.26it/s]\n",
      "                 Class     Images  Instances      Box(P          R      mAP50  mAP50-95): 100%|██████████| 12/12 [00:02<00:00,  4.49it/s]"
     ]
    },
    {
     "output_type": "stream",
     "name": "stdout",
     "text": [
      "                   all        360        360      0.991      0.996      0.995      0.665\n"
     ]
    },
    {
     "output_type": "stream",
     "name": "stderr",
     "text": [
      "\n"
     ]
    },
    {
     "output_type": "stream",
     "name": "stdout",
     "text": [
      "\n",
      "      Epoch    GPU_mem   box_loss   cls_loss   dfl_loss  Instances       Size\n"
     ]
    },
    {
     "output_type": "stream",
     "name": "stderr",
     "text": [
      "      14/50      2.58G      1.141     0.9097      1.285          2        640: 100%|██████████| 46/46 [00:12<00:00,  3.66it/s]\n",
      "                 Class     Images  Instances      Box(P          R      mAP50  mAP50-95): 100%|██████████| 12/12 [00:02<00:00,  4.89it/s]"
     ]
    },
    {
     "output_type": "stream",
     "name": "stdout",
     "text": [
      "                   all        360        360      0.996      0.996      0.995      0.665\n"
     ]
    },
    {
     "output_type": "stream",
     "name": "stderr",
     "text": [
      "\n"
     ]
    },
    {
     "output_type": "stream",
     "name": "stdout",
     "text": [
      "\n",
      "      Epoch    GPU_mem   box_loss   cls_loss   dfl_loss  Instances       Size\n"
     ]
    },
    {
     "output_type": "stream",
     "name": "stderr",
     "text": [
      "      15/50      2.58G       1.16     0.8931      1.311          6        640: 100%|██████████| 46/46 [00:12<00:00,  3.59it/s]\n",
      "                 Class     Images  Instances      Box(P          R      mAP50  mAP50-95): 100%|██████████| 12/12 [00:02<00:00,  5.17it/s]"
     ]
    },
    {
     "output_type": "stream",
     "name": "stdout",
     "text": [
      "                   all        360        360      0.993      0.997      0.995      0.686\n"
     ]
    },
    {
     "output_type": "stream",
     "name": "stderr",
     "text": [
      "\n"
     ]
    },
    {
     "output_type": "stream",
     "name": "stdout",
     "text": [
      "\n",
      "      Epoch    GPU_mem   box_loss   cls_loss   dfl_loss  Instances       Size\n"
     ]
    },
    {
     "output_type": "stream",
     "name": "stderr",
     "text": [
      "      16/50      2.58G      1.138     0.8811      1.277          4        640: 100%|██████████| 46/46 [00:12<00:00,  3.62it/s]\n",
      "                 Class     Images  Instances      Box(P          R      mAP50  mAP50-95): 100%|██████████| 12/12 [00:02<00:00,  4.75it/s]"
     ]
    },
    {
     "output_type": "stream",
     "name": "stdout",
     "text": [
      "                   all        360        360       0.97      0.971       0.99      0.664\n"
     ]
    },
    {
     "output_type": "stream",
     "name": "stderr",
     "text": [
      "\n"
     ]
    },
    {
     "output_type": "stream",
     "name": "stdout",
     "text": [
      "\n",
      "      Epoch    GPU_mem   box_loss   cls_loss   dfl_loss  Instances       Size\n"
     ]
    },
    {
     "output_type": "stream",
     "name": "stderr",
     "text": [
      "      17/50      2.59G      1.133     0.8467      1.267          8        640: 100%|██████████| 46/46 [00:12<00:00,  3.61it/s]\n",
      "                 Class     Images  Instances      Box(P          R      mAP50  mAP50-95): 100%|██████████| 12/12 [00:02<00:00,  4.14it/s]"
     ]
    },
    {
     "output_type": "stream",
     "name": "stdout",
     "text": [
      "                   all        360        360      0.972      0.982       0.99      0.614\n"
     ]
    },
    {
     "output_type": "stream",
     "name": "stderr",
     "text": [
      "\n"
     ]
    },
    {
     "output_type": "stream",
     "name": "stdout",
     "text": [
      "\n",
      "      Epoch    GPU_mem   box_loss   cls_loss   dfl_loss  Instances       Size\n"
     ]
    },
    {
     "output_type": "stream",
     "name": "stderr",
     "text": [
      "      18/50      2.61G        1.1     0.7961      1.259          5        640: 100%|██████████| 46/46 [00:11<00:00,  3.83it/s]\n",
      "                 Class     Images  Instances      Box(P          R      mAP50  mAP50-95): 100%|██████████| 12/12 [00:03<00:00,  3.24it/s]"
     ]
    },
    {
     "output_type": "stream",
     "name": "stdout",
     "text": [
      "                   all        360        360      0.948      0.958       0.99      0.684\n"
     ]
    },
    {
     "output_type": "stream",
     "name": "stderr",
     "text": [
      "\n"
     ]
    },
    {
     "output_type": "stream",
     "name": "stdout",
     "text": [
      "\n",
      "      Epoch    GPU_mem   box_loss   cls_loss   dfl_loss  Instances       Size\n"
     ]
    },
    {
     "output_type": "stream",
     "name": "stderr",
     "text": [
      "      19/50      2.62G       1.11     0.8152      1.263          5        640: 100%|██████████| 46/46 [00:13<00:00,  3.31it/s]\n",
      "                 Class     Images  Instances      Box(P          R      mAP50  mAP50-95): 100%|██████████| 12/12 [00:02<00:00,  4.81it/s]"
     ]
    },
    {
     "output_type": "stream",
     "name": "stdout",
     "text": [
      "                   all        360        360      0.983      0.981      0.989      0.687\n"
     ]
    },
    {
     "output_type": "stream",
     "name": "stderr",
     "text": [
      "\n"
     ]
    },
    {
     "output_type": "stream",
     "name": "stdout",
     "text": [
      "\n",
      "      Epoch    GPU_mem   box_loss   cls_loss   dfl_loss  Instances       Size\n"
     ]
    },
    {
     "output_type": "stream",
     "name": "stderr",
     "text": [
      "      20/50      2.64G      1.109     0.7999      1.266          6        640: 100%|██████████| 46/46 [00:13<00:00,  3.35it/s]\n",
      "                 Class     Images  Instances      Box(P          R      mAP50  mAP50-95): 100%|██████████| 12/12 [00:02<00:00,  4.92it/s]"
     ]
    },
    {
     "output_type": "stream",
     "name": "stdout",
     "text": [
      "                   all        360        360      0.989      0.996      0.994      0.705\n"
     ]
    },
    {
     "output_type": "stream",
     "name": "stderr",
     "text": [
      "\n"
     ]
    },
    {
     "output_type": "stream",
     "name": "stdout",
     "text": [
      "\n",
      "      Epoch    GPU_mem   box_loss   cls_loss   dfl_loss  Instances       Size\n"
     ]
    },
    {
     "output_type": "stream",
     "name": "stderr",
     "text": [
      "      21/50      2.66G      1.112     0.7825      1.278          4        640: 100%|██████████| 46/46 [00:12<00:00,  3.59it/s]\n",
      "                 Class     Images  Instances      Box(P          R      mAP50  mAP50-95): 100%|██████████| 12/12 [00:02<00:00,  5.24it/s]"
     ]
    },
    {
     "output_type": "stream",
     "name": "stdout",
     "text": [
      "                   all        360        360      0.985      0.992      0.994      0.648\n"
     ]
    },
    {
     "output_type": "stream",
     "name": "stderr",
     "text": [
      "\n"
     ]
    },
    {
     "output_type": "stream",
     "name": "stdout",
     "text": [
      "\n",
      "      Epoch    GPU_mem   box_loss   cls_loss   dfl_loss  Instances       Size\n"
     ]
    },
    {
     "output_type": "stream",
     "name": "stderr",
     "text": [
      "      22/50      2.68G      1.105     0.7841      1.261          5        640: 100%|██████████| 46/46 [00:13<00:00,  3.51it/s]\n",
      "                 Class     Images  Instances      Box(P          R      mAP50  mAP50-95): 100%|██████████| 12/12 [00:03<00:00,  3.81it/s]"
     ]
    },
    {
     "output_type": "stream",
     "name": "stdout",
     "text": [
      "                   all        360        360      0.993      0.996      0.995      0.655\n"
     ]
    },
    {
     "output_type": "stream",
     "name": "stderr",
     "text": [
      "\n"
     ]
    },
    {
     "output_type": "stream",
     "name": "stdout",
     "text": [
      "\n",
      "      Epoch    GPU_mem   box_loss   cls_loss   dfl_loss  Instances       Size\n"
     ]
    },
    {
     "output_type": "stream",
     "name": "stderr",
     "text": [
      "      23/50      2.69G      1.062     0.7423      1.242          5        640: 100%|██████████| 46/46 [00:12<00:00,  3.64it/s]\n",
      "                 Class     Images  Instances      Box(P          R      mAP50  mAP50-95): 100%|██████████| 12/12 [00:04<00:00,  2.86it/s]"
     ]
    },
    {
     "output_type": "stream",
     "name": "stdout",
     "text": [
      "                   all        360        360      0.998          1      0.995      0.705\n"
     ]
    },
    {
     "output_type": "stream",
     "name": "stderr",
     "text": [
      "\n"
     ]
    },
    {
     "output_type": "stream",
     "name": "stdout",
     "text": [
      "\n",
      "      Epoch    GPU_mem   box_loss   cls_loss   dfl_loss  Instances       Size\n"
     ]
    },
    {
     "output_type": "stream",
     "name": "stderr",
     "text": [
      "      24/50      2.71G      1.113     0.7661      1.273          4        640: 100%|██████████| 46/46 [00:12<00:00,  3.57it/s]\n",
      "                 Class     Images  Instances      Box(P          R      mAP50  mAP50-95): 100%|██████████| 12/12 [00:02<00:00,  5.04it/s]"
     ]
    },
    {
     "output_type": "stream",
     "name": "stdout",
     "text": [
      "                   all        360        360      0.978      0.986      0.994      0.689\n"
     ]
    },
    {
     "output_type": "stream",
     "name": "stderr",
     "text": [
      "\n"
     ]
    },
    {
     "output_type": "stream",
     "name": "stdout",
     "text": [
      "\n",
      "      Epoch    GPU_mem   box_loss   cls_loss   dfl_loss  Instances       Size\n"
     ]
    },
    {
     "output_type": "stream",
     "name": "stderr",
     "text": [
      "      25/50      2.73G      1.103     0.7375      1.243          5        640: 100%|██████████| 46/46 [00:12<00:00,  3.55it/s]\n",
      "                 Class     Images  Instances      Box(P          R      mAP50  mAP50-95): 100%|██████████| 12/12 [00:02<00:00,  4.96it/s]"
     ]
    },
    {
     "output_type": "stream",
     "name": "stdout",
     "text": [
      "                   all        360        360      0.964      0.978      0.978      0.653\n"
     ]
    },
    {
     "output_type": "stream",
     "name": "stderr",
     "text": [
      "\n"
     ]
    },
    {
     "output_type": "stream",
     "name": "stdout",
     "text": [
      "\n",
      "      Epoch    GPU_mem   box_loss   cls_loss   dfl_loss  Instances       Size\n"
     ]
    },
    {
     "output_type": "stream",
     "name": "stderr",
     "text": [
      "      26/50      2.74G      1.076     0.7338      1.235          5        640: 100%|██████████| 46/46 [00:13<00:00,  3.52it/s]\n",
      "                 Class     Images  Instances      Box(P          R      mAP50  mAP50-95): 100%|██████████| 12/12 [00:02<00:00,  5.00it/s]"
     ]
    },
    {
     "output_type": "stream",
     "name": "stdout",
     "text": [
      "                   all        360        360      0.996      0.999      0.995      0.699\n"
     ]
    },
    {
     "output_type": "stream",
     "name": "stderr",
     "text": [
      "\n"
     ]
    },
    {
     "output_type": "stream",
     "name": "stdout",
     "text": [
      "\n",
      "      Epoch    GPU_mem   box_loss   cls_loss   dfl_loss  Instances       Size\n"
     ]
    },
    {
     "output_type": "stream",
     "name": "stderr",
     "text": [
      "      27/50      2.76G      1.075     0.7021       1.23          5        640: 100%|██████████| 46/46 [00:13<00:00,  3.51it/s]\n",
      "                 Class     Images  Instances      Box(P          R      mAP50  mAP50-95): 100%|██████████| 12/12 [00:02<00:00,  5.14it/s]"
     ]
    },
    {
     "output_type": "stream",
     "name": "stdout",
     "text": [
      "                   all        360        360      0.999          1      0.995       0.69\n"
     ]
    },
    {
     "output_type": "stream",
     "name": "stderr",
     "text": [
      "\n"
     ]
    },
    {
     "output_type": "stream",
     "name": "stdout",
     "text": [
      "\n",
      "      Epoch    GPU_mem   box_loss   cls_loss   dfl_loss  Instances       Size\n"
     ]
    },
    {
     "output_type": "stream",
     "name": "stderr",
     "text": [
      "      28/50      2.78G      1.049     0.6927      1.222          8        640: 100%|██████████| 46/46 [00:12<00:00,  3.66it/s]\n",
      "                 Class     Images  Instances      Box(P          R      mAP50  mAP50-95): 100%|██████████| 12/12 [00:03<00:00,  3.40it/s]"
     ]
    },
    {
     "output_type": "stream",
     "name": "stdout",
     "text": [
      "                   all        360        360      0.994          1      0.995      0.702\n"
     ]
    },
    {
     "output_type": "stream",
     "name": "stderr",
     "text": [
      "\n"
     ]
    },
    {
     "output_type": "stream",
     "name": "stdout",
     "text": [
      "\n",
      "      Epoch    GPU_mem   box_loss   cls_loss   dfl_loss  Instances       Size\n"
     ]
    },
    {
     "output_type": "stream",
     "name": "stderr",
     "text": [
      "      29/50      2.79G      1.059     0.6873      1.232          5        640: 100%|██████████| 46/46 [00:13<00:00,  3.53it/s]\n",
      "                 Class     Images  Instances      Box(P          R      mAP50  mAP50-95): 100%|██████████| 12/12 [00:02<00:00,  5.40it/s]"
     ]
    },
    {
     "output_type": "stream",
     "name": "stdout",
     "text": [
      "                   all        360        360      0.993          1      0.995      0.709\n"
     ]
    },
    {
     "output_type": "stream",
     "name": "stderr",
     "text": [
      "\n"
     ]
    },
    {
     "output_type": "stream",
     "name": "stdout",
     "text": [
      "\n",
      "      Epoch    GPU_mem   box_loss   cls_loss   dfl_loss  Instances       Size\n"
     ]
    },
    {
     "output_type": "stream",
     "name": "stderr",
     "text": [
      "      30/50      2.81G      1.017      0.652      1.209          5        640: 100%|██████████| 46/46 [00:13<00:00,  3.53it/s]\n",
      "                 Class     Images  Instances      Box(P          R      mAP50  mAP50-95): 100%|██████████| 12/12 [00:02<00:00,  5.17it/s]"
     ]
    },
    {
     "output_type": "stream",
     "name": "stdout",
     "text": [
      "                   all        360        360      0.985      0.995      0.995      0.711\n"
     ]
    },
    {
     "output_type": "stream",
     "name": "stderr",
     "text": [
      "\n"
     ]
    },
    {
     "output_type": "stream",
     "name": "stdout",
     "text": [
      "\n",
      "      Epoch    GPU_mem   box_loss   cls_loss   dfl_loss  Instances       Size\n"
     ]
    },
    {
     "output_type": "stream",
     "name": "stderr",
     "text": [
      "      31/50      2.83G      1.027     0.6443      1.216          6        640: 100%|██████████| 46/46 [00:12<00:00,  3.58it/s]\n",
      "                 Class     Images  Instances      Box(P          R      mAP50  mAP50-95): 100%|██████████| 12/12 [00:02<00:00,  4.97it/s]"
     ]
    },
    {
     "output_type": "stream",
     "name": "stdout",
     "text": [
      "                   all        360        360      0.997          1      0.995      0.717\n"
     ]
    },
    {
     "output_type": "stream",
     "name": "stderr",
     "text": [
      "\n"
     ]
    },
    {
     "output_type": "stream",
     "name": "stdout",
     "text": [
      "\n",
      "      Epoch    GPU_mem   box_loss   cls_loss   dfl_loss  Instances       Size\n"
     ]
    },
    {
     "output_type": "stream",
     "name": "stderr",
     "text": [
      "      32/50      2.85G      1.053     0.6862      1.235          3        640: 100%|██████████| 46/46 [00:13<00:00,  3.51it/s]\n",
      "                 Class     Images  Instances      Box(P          R      mAP50  mAP50-95): 100%|██████████| 12/12 [00:02<00:00,  5.02it/s]"
     ]
    },
    {
     "output_type": "stream",
     "name": "stdout",
     "text": [
      "                   all        360        360      0.992          1      0.995      0.701\n"
     ]
    },
    {
     "output_type": "stream",
     "name": "stderr",
     "text": [
      "\n"
     ]
    },
    {
     "output_type": "stream",
     "name": "stdout",
     "text": [
      "\n",
      "      Epoch    GPU_mem   box_loss   cls_loss   dfl_loss  Instances       Size\n"
     ]
    },
    {
     "output_type": "stream",
     "name": "stderr",
     "text": [
      "      33/50      2.86G      1.003     0.6486        1.2          3        640: 100%|██████████| 46/46 [00:12<00:00,  3.68it/s]\n",
      "                 Class     Images  Instances      Box(P          R      mAP50  mAP50-95): 100%|██████████| 12/12 [00:03<00:00,  3.20it/s]"
     ]
    },
    {
     "output_type": "stream",
     "name": "stdout",
     "text": [
      "                   all        360        360      0.959      0.986      0.985      0.704\n"
     ]
    },
    {
     "output_type": "stream",
     "name": "stderr",
     "text": [
      "\n"
     ]
    },
    {
     "output_type": "stream",
     "name": "stdout",
     "text": [
      "\n",
      "      Epoch    GPU_mem   box_loss   cls_loss   dfl_loss  Instances       Size\n"
     ]
    },
    {
     "output_type": "stream",
     "name": "stderr",
     "text": [
      "      34/50      2.88G      1.032     0.6548      1.219          4        640: 100%|██████████| 46/46 [00:14<00:00,  3.23it/s]\n",
      "                 Class     Images  Instances      Box(P          R      mAP50  mAP50-95): 100%|██████████| 12/12 [00:02<00:00,  5.03it/s]"
     ]
    },
    {
     "output_type": "stream",
     "name": "stdout",
     "text": [
      "                   all        360        360       0.99      0.984      0.993      0.703\n"
     ]
    },
    {
     "output_type": "stream",
     "name": "stderr",
     "text": [
      "\n"
     ]
    },
    {
     "output_type": "stream",
     "name": "stdout",
     "text": [
      "\n",
      "      Epoch    GPU_mem   box_loss   cls_loss   dfl_loss  Instances       Size\n"
     ]
    },
    {
     "output_type": "stream",
     "name": "stderr",
     "text": [
      "      35/50       2.9G      1.026      0.639      1.215          4        640: 100%|██████████| 46/46 [00:12<00:00,  3.59it/s]\n",
      "                 Class     Images  Instances      Box(P          R      mAP50  mAP50-95): 100%|██████████| 12/12 [00:02<00:00,  5.09it/s]"
     ]
    },
    {
     "output_type": "stream",
     "name": "stdout",
     "text": [
      "                   all        360        360      0.999          1      0.995      0.727\n"
     ]
    },
    {
     "output_type": "stream",
     "name": "stderr",
     "text": [
      "\n"
     ]
    },
    {
     "output_type": "stream",
     "name": "stdout",
     "text": [
      "\n",
      "      Epoch    GPU_mem   box_loss   cls_loss   dfl_loss  Instances       Size\n"
     ]
    },
    {
     "output_type": "stream",
     "name": "stderr",
     "text": [
      "      36/50      2.91G      0.997     0.6363      1.199          4        640: 100%|██████████| 46/46 [00:12<00:00,  3.59it/s]\n",
      "                 Class     Images  Instances      Box(P          R      mAP50  mAP50-95): 100%|██████████| 12/12 [00:02<00:00,  4.79it/s]"
     ]
    },
    {
     "output_type": "stream",
     "name": "stdout",
     "text": [
      "                   all        360        360      0.986      0.991      0.995      0.716\n"
     ]
    },
    {
     "output_type": "stream",
     "name": "stderr",
     "text": [
      "\n"
     ]
    },
    {
     "output_type": "stream",
     "name": "stdout",
     "text": [
      "\n",
      "      Epoch    GPU_mem   box_loss   cls_loss   dfl_loss  Instances       Size\n"
     ]
    },
    {
     "output_type": "stream",
     "name": "stderr",
     "text": [
      "      37/50      2.93G     0.9896     0.6138      1.191          3        640: 100%|██████████| 46/46 [00:13<00:00,  3.50it/s]\n",
      "                 Class     Images  Instances      Box(P          R      mAP50  mAP50-95): 100%|██████████| 12/12 [00:02<00:00,  4.32it/s]"
     ]
    },
    {
     "output_type": "stream",
     "name": "stdout",
     "text": [
      "                   all        360        360      0.998          1      0.995      0.722\n"
     ]
    },
    {
     "output_type": "stream",
     "name": "stderr",
     "text": [
      "\n"
     ]
    },
    {
     "output_type": "stream",
     "name": "stdout",
     "text": [
      "\n",
      "      Epoch    GPU_mem   box_loss   cls_loss   dfl_loss  Instances       Size\n"
     ]
    },
    {
     "output_type": "stream",
     "name": "stderr",
     "text": [
      "      38/50      2.95G     0.9642     0.5954      1.187          5        640: 100%|██████████| 46/46 [00:12<00:00,  3.77it/s]\n",
      "                 Class     Images  Instances      Box(P          R      mAP50  mAP50-95): 100%|██████████| 12/12 [00:03<00:00,  3.22it/s]"
     ]
    },
    {
     "output_type": "stream",
     "name": "stdout",
     "text": [
      "                   all        360        360      0.994      0.998      0.995      0.733\n"
     ]
    },
    {
     "output_type": "stream",
     "name": "stderr",
     "text": [
      "\n"
     ]
    },
    {
     "output_type": "stream",
     "name": "stdout",
     "text": [
      "\n",
      "      Epoch    GPU_mem   box_loss   cls_loss   dfl_loss  Instances       Size\n"
     ]
    },
    {
     "output_type": "stream",
     "name": "stderr",
     "text": [
      "      39/50      2.96G      1.017     0.6031       1.22          2        640: 100%|██████████| 46/46 [00:12<00:00,  3.55it/s]\n",
      "                 Class     Images  Instances      Box(P          R      mAP50  mAP50-95): 100%|██████████| 12/12 [00:02<00:00,  5.19it/s]"
     ]
    },
    {
     "output_type": "stream",
     "name": "stdout",
     "text": [
      "                   all        360        360      0.997          1      0.995      0.704\n"
     ]
    },
    {
     "output_type": "stream",
     "name": "stderr",
     "text": [
      "\n"
     ]
    },
    {
     "output_type": "stream",
     "name": "stdout",
     "text": [
      "\n",
      "      Epoch    GPU_mem   box_loss   cls_loss   dfl_loss  Instances       Size\n"
     ]
    },
    {
     "output_type": "stream",
     "name": "stderr",
     "text": [
      "      40/50      2.98G     0.9723     0.6197       1.18          4        640: 100%|██████████| 46/46 [00:13<00:00,  3.54it/s]\n",
      "                 Class     Images  Instances      Box(P          R      mAP50  mAP50-95): 100%|██████████| 12/12 [00:02<00:00,  5.34it/s]"
     ]
    },
    {
     "output_type": "stream",
     "name": "stdout",
     "text": [
      "                   all        360        360      0.996      0.997      0.994      0.707\n"
     ]
    },
    {
     "output_type": "stream",
     "name": "stderr",
     "text": [
      "\n"
     ]
    },
    {
     "output_type": "stream",
     "name": "stdout",
     "text": [
      "Closing dataloader mosaic\n",
      "\u001B[34m\u001B[1malbumentations: \u001B[0mBlur(p=0.01, blur_limit=(3, 7)), MedianBlur(p=0.01, blur_limit=(3, 7)), ToGray(p=0.01, method='weighted_average', num_output_channels=3), CLAHE(p=0.01, clip_limit=(1.0, 4.0), tile_grid_size=(8, 8))\n",
      "\n",
      "      Epoch    GPU_mem   box_loss   cls_loss   dfl_loss  Instances       Size\n"
     ]
    },
    {
     "output_type": "stream",
     "name": "stderr",
     "text": [
      "      41/50         3G     0.9013     0.4659      1.302          2        640: 100%|██████████| 46/46 [00:13<00:00,  3.42it/s]\n",
      "                 Class     Images  Instances      Box(P          R      mAP50  mAP50-95): 100%|██████████| 12/12 [00:02<00:00,  5.17it/s]"
     ]
    },
    {
     "output_type": "stream",
     "name": "stdout",
     "text": [
      "                   all        360        360      0.994      0.997      0.995      0.732\n"
     ]
    },
    {
     "output_type": "stream",
     "name": "stderr",
     "text": [
      "\n"
     ]
    },
    {
     "output_type": "stream",
     "name": "stdout",
     "text": [
      "\n",
      "      Epoch    GPU_mem   box_loss   cls_loss   dfl_loss  Instances       Size\n"
     ]
    },
    {
     "output_type": "stream",
     "name": "stderr",
     "text": [
      "      42/50      3.02G     0.8898     0.4392      1.291          2        640: 100%|██████████| 46/46 [00:11<00:00,  3.85it/s]\n",
      "                 Class     Images  Instances      Box(P          R      mAP50  mAP50-95): 100%|██████████| 12/12 [00:02<00:00,  5.22it/s]"
     ]
    },
    {
     "output_type": "stream",
     "name": "stdout",
     "text": [
      "                   all        360        360      0.998          1      0.995      0.736\n"
     ]
    },
    {
     "output_type": "stream",
     "name": "stderr",
     "text": [
      "\n"
     ]
    },
    {
     "output_type": "stream",
     "name": "stdout",
     "text": [
      "\n",
      "      Epoch    GPU_mem   box_loss   cls_loss   dfl_loss  Instances       Size\n"
     ]
    },
    {
     "output_type": "stream",
     "name": "stderr",
     "text": [
      "      43/50      3.03G     0.8621      0.416      1.266          2        640: 100%|██████████| 46/46 [00:11<00:00,  3.86it/s]\n",
      "                 Class     Images  Instances      Box(P          R      mAP50  mAP50-95): 100%|██████████| 12/12 [00:02<00:00,  4.97it/s]"
     ]
    },
    {
     "output_type": "stream",
     "name": "stdout",
     "text": [
      "                   all        360        360      0.999          1      0.995      0.731\n"
     ]
    },
    {
     "output_type": "stream",
     "name": "stderr",
     "text": [
      "\n"
     ]
    },
    {
     "output_type": "stream",
     "name": "stdout",
     "text": [
      "\n",
      "      Epoch    GPU_mem   box_loss   cls_loss   dfl_loss  Instances       Size\n"
     ]
    },
    {
     "output_type": "stream",
     "name": "stderr",
     "text": [
      "      44/50      3.05G     0.8552     0.4104      1.267          2        640: 100%|██████████| 46/46 [00:11<00:00,  4.10it/s]\n",
      "                 Class     Images  Instances      Box(P          R      mAP50  mAP50-95): 100%|██████████| 12/12 [00:03<00:00,  3.83it/s]"
     ]
    },
    {
     "output_type": "stream",
     "name": "stdout",
     "text": [
      "                   all        360        360      0.996          1      0.995      0.731\n"
     ]
    },
    {
     "output_type": "stream",
     "name": "stderr",
     "text": [
      "\n"
     ]
    },
    {
     "output_type": "stream",
     "name": "stdout",
     "text": [
      "\n",
      "      Epoch    GPU_mem   box_loss   cls_loss   dfl_loss  Instances       Size\n"
     ]
    },
    {
     "output_type": "stream",
     "name": "stderr",
     "text": [
      "      45/50      3.07G     0.8364     0.4118      1.255          2        640: 100%|██████████| 46/46 [00:12<00:00,  3.54it/s]\n",
      "                 Class     Images  Instances      Box(P          R      mAP50  mAP50-95): 100%|██████████| 12/12 [00:02<00:00,  4.59it/s]"
     ]
    },
    {
     "output_type": "stream",
     "name": "stdout",
     "text": [
      "                   all        360        360      0.996      0.997      0.995      0.734\n"
     ]
    },
    {
     "output_type": "stream",
     "name": "stderr",
     "text": [
      "\n"
     ]
    },
    {
     "output_type": "stream",
     "name": "stdout",
     "text": [
      "\n",
      "      Epoch    GPU_mem   box_loss   cls_loss   dfl_loss  Instances       Size\n"
     ]
    },
    {
     "output_type": "stream",
     "name": "stderr",
     "text": [
      "      46/50      3.09G     0.8018     0.3889       1.21          2        640: 100%|██████████| 46/46 [00:11<00:00,  3.85it/s]\n",
      "                 Class     Images  Instances      Box(P          R      mAP50  mAP50-95): 100%|██████████| 12/12 [00:02<00:00,  5.04it/s]"
     ]
    },
    {
     "output_type": "stream",
     "name": "stdout",
     "text": [
      "                   all        360        360      0.996      0.997      0.995       0.74\n"
     ]
    },
    {
     "output_type": "stream",
     "name": "stderr",
     "text": [
      "\n"
     ]
    },
    {
     "output_type": "stream",
     "name": "stdout",
     "text": [
      "\n",
      "      Epoch    GPU_mem   box_loss   cls_loss   dfl_loss  Instances       Size\n"
     ]
    },
    {
     "output_type": "stream",
     "name": "stderr",
     "text": [
      "      47/50       3.1G     0.8001     0.3888      1.218          2        640: 100%|██████████| 46/46 [00:11<00:00,  3.91it/s]\n",
      "                 Class     Images  Instances      Box(P          R      mAP50  mAP50-95): 100%|██████████| 12/12 [00:02<00:00,  5.44it/s]"
     ]
    },
    {
     "output_type": "stream",
     "name": "stdout",
     "text": [
      "                   all        360        360      0.996      0.997      0.995      0.743\n"
     ]
    },
    {
     "output_type": "stream",
     "name": "stderr",
     "text": [
      "\n"
     ]
    },
    {
     "output_type": "stream",
     "name": "stdout",
     "text": [
      "\n",
      "      Epoch    GPU_mem   box_loss   cls_loss   dfl_loss  Instances       Size\n"
     ]
    },
    {
     "output_type": "stream",
     "name": "stderr",
     "text": [
      "      48/50      3.12G     0.8231      0.393       1.23          2        640: 100%|██████████| 46/46 [00:11<00:00,  3.92it/s]\n",
      "                 Class     Images  Instances      Box(P          R      mAP50  mAP50-95): 100%|██████████| 12/12 [00:02<00:00,  5.29it/s]"
     ]
    },
    {
     "output_type": "stream",
     "name": "stdout",
     "text": [
      "                   all        360        360      0.999          1      0.995      0.753\n"
     ]
    },
    {
     "output_type": "stream",
     "name": "stderr",
     "text": [
      "\n"
     ]
    },
    {
     "output_type": "stream",
     "name": "stdout",
     "text": [
      "\n",
      "      Epoch    GPU_mem   box_loss   cls_loss   dfl_loss  Instances       Size\n"
     ]
    },
    {
     "output_type": "stream",
     "name": "stderr",
     "text": [
      "      49/50      3.14G     0.8004     0.3754      1.205          2        640: 100%|██████████| 46/46 [00:12<00:00,  3.76it/s]\n",
      "                 Class     Images  Instances      Box(P          R      mAP50  mAP50-95): 100%|██████████| 12/12 [00:02<00:00,  5.41it/s]"
     ]
    },
    {
     "output_type": "stream",
     "name": "stdout",
     "text": [
      "                   all        360        360      0.999          1      0.995      0.753\n"
     ]
    },
    {
     "output_type": "stream",
     "name": "stderr",
     "text": [
      "\n"
     ]
    },
    {
     "output_type": "stream",
     "name": "stdout",
     "text": [
      "\n",
      "      Epoch    GPU_mem   box_loss   cls_loss   dfl_loss  Instances       Size\n"
     ]
    },
    {
     "output_type": "stream",
     "name": "stderr",
     "text": [
      "      50/50      3.15G     0.7752     0.3798      1.204          2        640: 100%|██████████| 46/46 [00:11<00:00,  3.98it/s]\n",
      "                 Class     Images  Instances      Box(P          R      mAP50  mAP50-95): 100%|██████████| 12/12 [00:02<00:00,  4.90it/s]"
     ]
    },
    {
     "output_type": "stream",
     "name": "stdout",
     "text": [
      "                   all        360        360      0.996      0.997      0.995      0.754\n"
     ]
    },
    {
     "output_type": "stream",
     "name": "stderr",
     "text": [
      "\n"
     ]
    },
    {
     "output_type": "stream",
     "name": "stdout",
     "text": [
      "\n",
      "50 epochs completed in 0.220 hours.\n",
      "Optimizer stripped from runs/detect/fold2/weights/last.pt, 6.2MB\n",
      "Optimizer stripped from runs/detect/fold2/weights/best.pt, 6.2MB\n",
      "\n",
      "Validating runs/detect/fold2/weights/best.pt...\n",
      "Ultralytics 8.3.173 🚀 Python-3.11.13 torch-2.6.0+cu124 CUDA:0 (Tesla T4, 15095MiB)\n",
      "Model summary (fused): 72 layers, 3,006,428 parameters, 0 gradients, 8.1 GFLOPs\n"
     ]
    },
    {
     "output_type": "stream",
     "name": "stderr",
     "text": [
      "                 Class     Images  Instances      Box(P          R      mAP50  mAP50-95): 100%|██████████| 12/12 [00:04<00:00,  2.43it/s]\n"
     ]
    },
    {
     "output_type": "stream",
     "name": "stdout",
     "text": [
      "                   all        360        360      0.996      0.997      0.995      0.753\n",
      "       right_eye_close        123        123      0.991      0.992      0.994      0.702\n",
      "        right_eye_open        114        114      0.998          1      0.995       0.82\n",
      "        left_eye_close        123        123      0.999          1      0.995      0.736\n",
      "Speed: 0.2ms preprocess, 2.2ms inference, 0.0ms loss, 3.7ms postprocess per image\n",
      "Results saved to \u001B[1mruns/detect/fold2\u001B[0m\n"
     ]
    }
   ]
  },
  {
   "cell_type": "code",
   "source": [
    "from ultralytics import YOLO\n",
    "from pathlib import Path\n",
    "import cv2\n",
    "import os\n",
    "from collections import Counter\n",
    "\n",
    "# === Set paths ===\n",
    "model_path = 'runs/detect/fold1/weights/best.pt'\n",
    "image_dir = Path('Dataset/test/images')\n",
    "output_dir = Path('visual_results_test')\n",
    "output_dir.mkdir(exist_ok=True)\n",
    "\n",
    "# === Load model ===\n",
    "model = YOLO(model_path)\n",
    "print(f\" Model loaded: {model_path}\")\n",
    "\n",
    "# === Inference counters ===\n",
    "total = 0\n",
    "pred_close = 0\n",
    "all_classes = []\n",
    "\n",
    "# === Get image paths ===\n",
    "image_paths = sorted(image_dir.glob(\"*.*\"))\n",
    "\n",
    "# === Loop through all images ===\n",
    "for img_path in image_paths:\n",
    "    results = model(str(img_path), verbose=False)\n",
    "    boxes = results[0].boxes\n",
    "    names = results[0].names\n",
    "\n",
    "    preds = []\n",
    "    if boxes and boxes.cls is not None:\n",
    "        for cls, conf in zip(boxes.cls.cpu().numpy(), boxes.conf.cpu().numpy()):\n",
    "            class_name = names[int(cls)]\n",
    "            preds.append((class_name, float(conf)))\n",
    "            all_classes.append(class_name)\n",
    "\n",
    "    total += 1\n",
    "    if any(\"close\" in p[0] for p in preds):\n",
    "        pred_close += 1\n",
    "\n",
    "    print(f\"{img_path.name} → Predicted classes: {preds if preds else '[]'}\")\n",
    "\n",
    "    # === Save visualized result ===\n",
    "    vis = results[0].plot()\n",
    "    save_path = output_dir / img_path.name\n",
    "    cv2.imwrite(str(save_path), vis)\n",
    "\n",
    "# === Print final statistics (avoid division by zero) ===\n",
    "print(\"\\n========== Inference Statistics ==========\")\n",
    "print(f\"Total images: {total}\")\n",
    "if total > 0:\n",
    "    print(f\"Predicted as closed eyes: {pred_close} → {(pred_close / total):.2%}\")\n",
    "    print(f\"📊 Class frequency: {dict(Counter(all_classes))}\")\n",
    "else:\n",
    "    print(\" No images found. Please check the image_dir path.\")\n",
    "print(f\"\\n Visual results saved to: {output_dir}\")\n",
    "print(\"Model classes:\", model.names)\n",
    "\n"
   ],
   "metadata": {
    "colab": {
     "base_uri": "https://localhost:8080/"
    },
    "id": "9ImpoF-xSxbm",
    "outputId": "f406bc25-8489-4cb4-b641-491bde431485"
   },
   "execution_count": null,
   "outputs": [
    {
     "output_type": "stream",
     "name": "stdout",
     "text": [
      "✅ Model loaded: runs/detect/fold1/weights/best.pt\n",
      "\n",
      "========== Inference Statistics ==========\n",
      "Total images: 0\n",
      " No images found. Please check the image_dir path.\n",
      "\n",
      " Visual results saved to: visual_results_test\n",
      "Model classes: {0: 'right_eye_close', 1: 'right_eye_open', 2: 'left_eye_close', 3: 'left_eye_open'}\n"
     ]
    }
   ]
  },
  {
   "cell_type": "code",
   "source": [
    "import zipfile\n",
    "import os\n",
    "\n",
    "# Path to the zip file\n",
    "zip_path = \"/content/test.zip\"\n",
    "# Destination folder to extract contents\n",
    "extract_path = \"/content/Dataset/test\"\n",
    "\n",
    "# Create the destination folder if it doesn't exist\n",
    "os.makedirs(extract_path, exist_ok=True)\n",
    "\n",
    "# Extract the zip file\n",
    "with zipfile.ZipFile(zip_path, 'r') as zip_ref:\n",
    "    zip_ref.extractall(extract_path)\n",
    "\n",
    "print(\"✅ Extraction completed!\")\n"
   ],
   "metadata": {
    "colab": {
     "base_uri": "https://localhost:8080/"
    },
    "id": "c8sjfr7zT1F0",
    "outputId": "05e41582-4398-4cf9-c26d-ef8a4ff87867"
   },
   "execution_count": null,
   "outputs": [
    {
     "output_type": "stream",
     "name": "stdout",
     "text": [
      "✅ Extraction completed!\n"
     ]
    }
   ]
  },
  {
   "cell_type": "code",
   "source": [
    "from ultralytics import YOLO\n",
    "from pathlib import Path\n",
    "import cv2\n",
    "import os\n",
    "\n",
    "#  Set the correct model path\n",
    "model_path = 'runs/detect/fold1/weights/best.pt'\n",
    "\n",
    "#  Set the correct image directory (note: current path is Dataset/test/test/images)\n",
    "image_dir = Path('Dataset/test/test/images')\n",
    "\n",
    "#  Set output directory for visualization results\n",
    "output_dir = Path('visual_results_test')\n",
    "output_dir.mkdir(exist_ok=True)\n",
    "\n",
    "# Load the model\n",
    "model = YOLO(model_path)\n",
    "print(f\" Model loaded successfully: {model_path}\")\n",
    "\n",
    "# Inference statistics\n",
    "total = 0\n",
    "pred_close = 0\n",
    "\n",
    "# Run inference on each image\n",
    "for img_path in sorted(image_dir.glob(\"*.jpg\")):\n",
    "    results = model(str(img_path), verbose=False)\n",
    "    boxes = results[0].boxes\n",
    "    names = results[0].names\n",
    "\n",
    "    preds = []\n",
    "    if boxes and boxes.cls is not None:\n",
    "        for cls, conf in zip(boxes.cls.cpu().numpy(), boxes.conf.cpu().numpy()):\n",
    "            class_name = names[int(cls)]\n",
    "            preds.append((class_name, float(conf)))\n",
    "\n",
    "    total += 1\n",
    "    if any(\"close\" in p[0] for p in preds):\n",
    "        pred_close += 1\n",
    "\n",
    "    print(f\"{img_path.name} → Predicted classes: {preds if preds else '[]'}\")\n",
    "\n",
    "    # Save visualization\n",
    "    vis = results[0].plot()\n",
    "    save_path = output_dir / img_path.name\n",
    "    cv2.imwrite(str(save_path), vis)\n",
    "\n",
    "#  Print final statistics\n",
    "print(\"\\n========== Detection Summary ==========\")\n",
    "print(f\"Total images: {total}\")\n",
    "if total > 0:\n",
    "    print(f\"Predicted closed eyes: {pred_close} → Ratio: {(pred_close / total):.2%}\")\n",
    "else:\n",
    "    print(\" No images detected!\")\n",
    "\n",
    "print(f\"\\n Visualization results saved to: {output_dir}\")\n",
    "print(\"Model class names:\", model.names)\n"
   ],
   "metadata": {
    "colab": {
     "base_uri": "https://localhost:8080/"
    },
    "id": "_03y8kjuUZbN",
    "outputId": "9d7f11a1-79b7-4b9d-e0e9-4b9523d7a99c"
   },
   "execution_count": null,
   "outputs": [
    {
     "output_type": "stream",
     "name": "stdout",
     "text": [
      " Model loaded successfully: runs/detect/fold1/weights/best.pt\n",
      "left_400009_aug1.jpg → Predicted classes: [('left_eye_close', 0.8444046378135681)]\n",
      "left_400104_aug2.jpg → Predicted classes: [('left_eye_close', 0.889572024345398)]\n",
      "left_400140_aug0.jpg → Predicted classes: [('left_eye_close', 0.8941670656204224)]\n",
      "left_400141_aug2.jpg → Predicted classes: [('left_eye_close', 0.8447241187095642)]\n",
      "left_400286_aug2.jpg → Predicted classes: [('left_eye_close', 0.9086490273475647)]\n",
      "left_400336_aug2.jpg → Predicted classes: [('left_eye_close', 0.8680267333984375)]\n",
      "left_400386_aug1.jpg → Predicted classes: [('left_eye_close', 0.8756031394004822)]\n",
      "left_400426_aug2.jpg → Predicted classes: [('left_eye_close', 0.8548271656036377)]\n",
      "left_400479_aug0.jpg → Predicted classes: [('left_eye_close', 0.8973397016525269)]\n",
      "left_400481_aug0.jpg → Predicted classes: [('left_eye_close', 0.8516014218330383)]\n",
      "left_400599_aug1.jpg → Predicted classes: [('left_eye_close', 0.8479153513908386)]\n",
      "left_400624_aug1.jpg → Predicted classes: [('left_eye_close', 0.8489519357681274)]\n",
      "left_400716_aug2.jpg → Predicted classes: [('left_eye_close', 0.8900962471961975)]\n",
      "left_400810_aug1.jpg → Predicted classes: [('left_eye_close', 0.8817713260650635)]\n",
      "left_400874_aug2.jpg → Predicted classes: [('left_eye_close', 0.8706554770469666)]\n",
      "left_400912_aug0.jpg → Predicted classes: [('left_eye_close', 0.8537229895591736)]\n",
      "left_400967_aug1.jpg → Predicted classes: [('left_eye_close', 0.8290658593177795)]\n",
      "left_400995_aug0.jpg → Predicted classes: [('left_eye_close', 0.9022617340087891)]\n",
      "left_401035_aug0.jpg → Predicted classes: [('left_eye_close', 0.8421798348426819)]\n",
      "left_401099_aug0.jpg → Predicted classes: [('left_eye_close', 0.8667394518852234)]\n",
      "left_401226_aug0.jpg → Predicted classes: [('left_eye_close', 0.902824342250824)]\n",
      "left_401247_aug0.jpg → Predicted classes: [('left_eye_close', 0.8160720467567444)]\n",
      "left_401429_aug2.jpg → Predicted classes: [('left_eye_close', 0.8312708139419556)]\n",
      "left_401430_aug0.jpg → Predicted classes: [('left_eye_close', 0.8749294877052307)]\n",
      "left_401469_aug2.jpg → Predicted classes: [('left_eye_close', 0.8948809504508972)]\n",
      "left_401503_aug1.jpg → Predicted classes: [('left_eye_close', 0.8858546614646912)]\n",
      "left_401527_aug0.jpg → Predicted classes: [('left_eye_close', 0.9073060750961304)]\n",
      "left_401591_aug1.jpg → Predicted classes: [('left_eye_close', 0.8951248526573181)]\n",
      "left_401658_aug1.jpg → Predicted classes: [('left_eye_close', 0.8585695028305054)]\n",
      "left_401747_aug1.jpg → Predicted classes: [('left_eye_close', 0.8801817893981934)]\n",
      "left_401804_aug2.jpg → Predicted classes: [('left_eye_close', 0.8645329475402832)]\n",
      "left_401845_aug1.jpg → Predicted classes: [('left_eye_close', 0.9038184285163879)]\n",
      "left_401885_aug1.jpg → Predicted classes: [('left_eye_close', 0.8836943507194519)]\n",
      "right_400104_aug2.jpg → Predicted classes: [('right_eye_close', 0.869110643863678)]\n",
      "right_400140_aug2.jpg → Predicted classes: [('right_eye_close', 0.8157718181610107)]\n",
      "right_400189_aug2.jpg → Predicted classes: [('right_eye_open', 0.9041662216186523)]\n",
      "right_400235_aug0.jpg → Predicted classes: [('right_eye_open', 0.8916255831718445)]\n",
      "right_400235_aug2.jpg → Predicted classes: [('right_eye_open', 0.8935643434524536)]\n",
      "right_400242_aug0.jpg → Predicted classes: [('right_eye_close', 0.8529601693153381)]\n",
      "right_400243_aug1.jpg → Predicted classes: [('right_eye_close', 0.8934828042984009)]\n",
      "right_400243_aug2.jpg → Predicted classes: [('right_eye_close', 0.8867822289466858)]\n",
      "right_400244_aug1.jpg → Predicted classes: [('right_eye_close', 0.8738226890563965)]\n",
      "right_400263_aug1.jpg → Predicted classes: [('right_eye_open', 0.8929746150970459)]\n",
      "right_400265_aug1.jpg → Predicted classes: [('right_eye_open', 0.8889544606208801)]\n",
      "right_400272_aug0.jpg → Predicted classes: [('right_eye_open', 0.8713275790214539)]\n",
      "right_400273_aug1.jpg → Predicted classes: [('right_eye_open', 0.8820028901100159)]\n",
      "right_400276_aug0.jpg → Predicted classes: [('right_eye_open', 0.8740730285644531)]\n",
      "right_400286_aug0.jpg → Predicted classes: [('right_eye_close', 0.8557961583137512)]\n",
      "right_400304_aug2.jpg → Predicted classes: [('right_eye_open', 0.8433787226676941)]\n",
      "right_400310_aug1.jpg → Predicted classes: [('right_eye_open', 0.8493260145187378)]\n",
      "right_400342_aug0.jpg → Predicted classes: [('right_eye_close', 0.814932644367218)]\n",
      "right_400386_aug1.jpg → Predicted classes: [('right_eye_close', 0.8546524047851562)]\n",
      "right_400407_aug2.jpg → Predicted classes: [('right_eye_open', 0.8876274228096008)]\n",
      "right_400479_aug1.jpg → Predicted classes: [('right_eye_close', 0.8384807109832764)]\n",
      "right_400490_aug2.jpg → Predicted classes: [('right_eye_open', 0.8908048868179321)]\n",
      "right_400492_aug1.jpg → Predicted classes: [('right_eye_open', 0.8889144062995911)]\n",
      "right_400494_aug0.jpg → Predicted classes: [('right_eye_open', 0.8935078382492065)]\n",
      "right_400499_aug1.jpg → Predicted classes: [('right_eye_open', 0.8818691968917847)]\n",
      "right_400504_aug0.jpg → Predicted classes: [('right_eye_open', 0.8855112195014954)]\n",
      "right_400505_aug1.jpg → Predicted classes: [('right_eye_open', 0.8789774179458618)]\n",
      "right_400506_aug2.jpg → Predicted classes: [('right_eye_open', 0.8836261034011841)]\n",
      "right_400513_aug2.jpg → Predicted classes: [('right_eye_open', 0.8819124102592468)]\n",
      "right_400517_aug2.jpg → Predicted classes: [('right_eye_open', 0.8782703876495361)]\n",
      "right_400614_aug2.jpg → Predicted classes: [('right_eye_open', 0.8923089504241943)]\n",
      "right_400615_aug2.jpg → Predicted classes: [('right_eye_open', 0.8980570435523987)]\n",
      "right_400624_aug2.jpg → Predicted classes: [('right_eye_close', 0.8752303123474121)]\n",
      "right_400625_aug1.jpg → Predicted classes: [('right_eye_close', 0.8609903454780579)]\n",
      "right_400626_aug0.jpg → Predicted classes: [('right_eye_close', 0.8733586668968201)]\n",
      "right_400626_aug1.jpg → Predicted classes: [('right_eye_close', 0.8674179315567017)]\n",
      "right_400655_aug2.jpg → Predicted classes: [('right_eye_open', 0.8603505492210388)]\n",
      "right_400669_aug0.jpg → Predicted classes: [('right_eye_close', 0.8424072265625)]\n",
      "right_400675_aug0.jpg → Predicted classes: [('right_eye_close', 0.853274405002594)]\n",
      "right_400675_aug2.jpg → Predicted classes: [('right_eye_close', 0.8397204875946045)]\n",
      "right_400716_aug1.jpg → Predicted classes: [('right_eye_close', 0.8759398460388184)]\n",
      "right_400763_aug1.jpg → Predicted classes: [('right_eye_close', 0.8744155168533325)]\n",
      "right_400775_aug0.jpg → Predicted classes: [('right_eye_open', 0.8600395321846008)]\n",
      "right_400777_aug1.jpg → Predicted classes: [('right_eye_open', 0.8600763082504272)]\n",
      "right_400793_aug0.jpg → Predicted classes: [('right_eye_open', 0.8900186419487)]\n",
      "right_400795_aug2.jpg → Predicted classes: [('right_eye_open', 0.8953495621681213)]\n",
      "right_400799_aug1.jpg → Predicted classes: [('right_eye_open', 0.8932980298995972)]\n",
      "right_400800_aug2.jpg → Predicted classes: [('right_eye_open', 0.8942910432815552)]\n",
      "right_400805_aug1.jpg → Predicted classes: [('right_eye_open', 0.8772516250610352)]\n",
      "right_400805_aug2.jpg → Predicted classes: [('right_eye_open', 0.8762354850769043)]\n",
      "right_400806_aug2.jpg → Predicted classes: [('right_eye_open', 0.8770822882652283)]\n",
      "right_400810_aug0.jpg → Predicted classes: [('right_eye_close', 0.8814202547073364)]\n",
      "right_400852_aug1.jpg → Predicted classes: [('right_eye_open', 0.878924548625946)]\n",
      "right_400870_aug0.jpg → Predicted classes: [('right_eye_open', 0.8764657378196716)]\n",
      "right_400873_aug1.jpg → Predicted classes: [('right_eye_close', 0.8695908188819885)]\n",
      "right_400875_aug2.jpg → Predicted classes: [('right_eye_close', 0.8733342885971069)]\n",
      "right_400896_aug2.jpg → Predicted classes: [('right_eye_open', 0.8731603026390076)]\n",
      "right_400901_aug2.jpg → Predicted classes: [('right_eye_open', 0.8785977363586426)]\n",
      "right_400902_aug2.jpg → Predicted classes: [('right_eye_open', 0.88667231798172)]\n",
      "right_400903_aug0.jpg → Predicted classes: [('right_eye_open', 0.8728772401809692)]\n",
      "right_400919_aug2.jpg → Predicted classes: [('right_eye_open', 0.8733586668968201)]\n",
      "right_400921_aug0.jpg → Predicted classes: [('right_eye_open', 0.879612147808075)]\n",
      "right_400929_aug0.jpg → Predicted classes: [('right_eye_open', 0.8567726612091064)]\n",
      "right_400929_aug2.jpg → Predicted classes: [('right_eye_open', 0.8402136564254761)]\n",
      "right_400936_aug2.jpg → Predicted classes: [('right_eye_open', 0.8507338762283325)]\n",
      "right_400965_aug2.jpg → Predicted classes: [('right_eye_close', 0.872394323348999)]\n",
      "right_400969_aug2.jpg → Predicted classes: [('right_eye_close', 0.8538282513618469)]\n",
      "right_400970_aug2.jpg → Predicted classes: [('right_eye_close', 0.8386071920394897)]\n",
      "right_400998_aug2.jpg → Predicted classes: [('right_eye_close', 0.8589178919792175)]\n",
      "right_401031_aug0.jpg → Predicted classes: [('right_eye_close', 0.8504618406295776)]\n",
      "right_401097_aug1.jpg → Predicted classes: [('right_eye_close', 0.8070537447929382)]\n",
      "right_401099_aug2.jpg → Predicted classes: [('right_eye_close', 0.8810786604881287)]\n",
      "right_401158_aug0.jpg → Predicted classes: [('right_eye_close', 0.8564686179161072)]\n",
      "right_401159_aug0.jpg → Predicted classes: [('right_eye_close', 0.8662174940109253)]\n",
      "right_401225_aug0.jpg → Predicted classes: [('right_eye_close', 0.8529195785522461)]\n",
      "right_401230_aug0.jpg → Predicted classes: [('right_eye_close', 0.8817476034164429)]\n",
      "right_401245_aug1.jpg → Predicted classes: [('right_eye_close', 0.8715376257896423)]\n",
      "right_401246_aug2.jpg → Predicted classes: [('right_eye_close', 0.8008763790130615)]\n",
      "right_401420_aug2.jpg → Predicted classes: [('right_eye_close', 0.9112172722816467)]\n",
      "right_401429_aug0.jpg → Predicted classes: [('right_eye_close', 0.8706582188606262)]\n",
      "right_401431_aug0.jpg → Predicted classes: [('right_eye_close', 0.8857187032699585)]\n",
      "right_401527_aug2.jpg → Predicted classes: [('right_eye_close', 0.8935888409614563)]\n",
      "right_401540_aug2.jpg → Predicted classes: [('right_eye_close', 0.8607987761497498)]\n",
      "right_401580_aug0.jpg → Predicted classes: [('right_eye_close', 0.8746842741966248)]\n",
      "right_401591_aug2.jpg → Predicted classes: [('right_eye_close', 0.8619253039360046)]\n",
      "right_401796_aug1.jpg → Predicted classes: [('right_eye_close', 0.8644806146621704)]\n",
      "right_401850_aug1.jpg → Predicted classes: [('right_eye_close', 0.8541892170906067)]\n",
      "\n",
      "========== Detection Summary ==========\n",
      "Total images: 120\n",
      "Predicted closed eyes: 77 → Ratio: 64.17%\n",
      "\n",
      " Visualization results saved to: visual_results_test\n",
      "Model class names: {0: 'right_eye_close', 1: 'right_eye_open', 2: 'left_eye_close', 3: 'left_eye_open'}\n"
     ]
    }
   ]
  },
  {
   "cell_type": "code",
   "source": [
    "from ultralytics import YOLO\n",
    "import os\n",
    "from tqdm import tqdm\n",
    "\n",
    "#  Model path (update to your current best.pt path)\n",
    "model_path = 'runs/detect/fold1/weights/best.pt'\n",
    "model = YOLO(model_path)\n",
    "\n",
    "#  Image directory path (match the structure of your extracted test set)\n",
    "image_dir = 'Dataset/test/test/images'\n",
    "\n",
    "#  Class mapping (from data.yaml)\n",
    "# 0: right_eye_close\n",
    "# 1: right_eye_open\n",
    "# 2: left_eye_close\n",
    "# 3: left_eye_open\n",
    "right_eye_closed_class = 0\n",
    "left_eye_closed_class = 2\n",
    "\n",
    "#  Initialize counters\n",
    "left_total = 0\n",
    "left_closed = 0\n",
    "right_total = 0\n",
    "right_closed = 0\n",
    "\n",
    "#  Collect all image paths\n",
    "image_paths = sorted([\n",
    "    os.path.join(image_dir, f)\n",
    "    for f in os.listdir(image_dir)\n",
    "    if f.lower().endswith(('.jpg', '.png'))\n",
    "])\n",
    "\n",
    "print(f\"\\nTotal images found: {len(image_paths)}\\n\")\n",
    "\n",
    "#  Inference on each image\n",
    "for path in tqdm(image_paths, desc=\"Running inference\"):\n",
    "    filename = os.path.basename(path).lower()\n",
    "\n",
    "    # Determine if the image is left or right eye\n",
    "    if filename.startswith(\"left_\"):\n",
    "        left_total += 1\n",
    "        target_class = left_eye_closed_class\n",
    "        eye_side = \"left eye\"\n",
    "    elif filename.startswith(\"right_\"):\n",
    "        right_total += 1\n",
    "        target_class = right_eye_closed_class\n",
    "        eye_side = \"right eye\"\n",
    "    else:\n",
    "        continue  # Skip invalid filename formats\n",
    "\n",
    "    # Run inference (conf threshold can be lowered to detect weaker signals)\n",
    "    results = model(path, verbose=False, conf=0.25)[0]\n",
    "\n",
    "    # Extract predicted class indices\n",
    "    if results.boxes is not None and results.boxes.data.numel() > 0:\n",
    "        detected_classes = results.boxes.data[:, 5].int().tolist()\n",
    "    else:\n",
    "        detected_classes = []\n",
    "\n",
    "    # Print debug information\n",
    "    print(f\"{filename}: {eye_side} → predicted classes: {detected_classes}\")\n",
    "\n",
    "    # Check for closed-eye detection\n",
    "    if target_class in detected_classes:\n",
    "        if eye_side == \"left eye\":\n",
    "            left_closed += 1\n",
    "        elif eye_side == \"right eye\":\n",
    "            right_closed += 1\n",
    "\n",
    "#  Print final statistics\n",
    "print(\"\\n========== Detection Summary ==========\")\n",
    "if left_total:\n",
    "    print(f\"Left eye: closed frames {left_closed} / total {left_total} = {left_closed / left_total:.2%}\")\n",
    "else:\n",
    "    print(\" No left eye images found.\")\n",
    "\n",
    "if right_total:\n",
    "    print(f\"Right eye: closed frames {right_closed} / total {right_total} = {right_closed / right_total:.2%}\")\n",
    "else:\n",
    "    print(\" No right eye images found.\")\n",
    "\n"
   ],
   "metadata": {
    "colab": {
     "base_uri": "https://localhost:8080/"
    },
    "id": "dFGZamNwVHYl",
    "outputId": "2b12df23-b29d-4ab4-a622-01142c07605a"
   },
   "execution_count": null,
   "outputs": [
    {
     "output_type": "stream",
     "name": "stdout",
     "text": [
      "\n",
      "Total images found: 120\n",
      "\n"
     ]
    },
    {
     "output_type": "stream",
     "name": "stderr",
     "text": [
      "Running inference:   1%|          | 1/120 [00:00<00:23,  5.09it/s]"
     ]
    },
    {
     "output_type": "stream",
     "name": "stdout",
     "text": [
      "left_400009_aug1.jpg: left eye → predicted classes: [2]\n"
     ]
    },
    {
     "output_type": "stream",
     "name": "stderr",
     "text": [
      "\rRunning inference:   7%|▋         | 8/120 [00:00<00:03, 30.70it/s]"
     ]
    },
    {
     "output_type": "stream",
     "name": "stdout",
     "text": [
      "left_400104_aug2.jpg: left eye → predicted classes: [2]\n",
      "left_400140_aug0.jpg: left eye → predicted classes: [2]\n",
      "left_400141_aug2.jpg: left eye → predicted classes: [2]\n",
      "left_400286_aug2.jpg: left eye → predicted classes: [2]\n",
      "left_400336_aug2.jpg: left eye → predicted classes: [2]\n",
      "left_400386_aug1.jpg: left eye → predicted classes: [2]\n",
      "left_400426_aug2.jpg: left eye → predicted classes: [2]\n",
      "left_400479_aug0.jpg: left eye → predicted classes: [2]\n",
      "left_400481_aug0.jpg: left eye → predicted classes: [2]\n",
      "left_400599_aug1.jpg: left eye → predicted classes: [2]\n",
      "left_400624_aug1.jpg: left eye → predicted classes: [2]\n",
      "left_400716_aug2.jpg: left eye → predicted classes: [2]\n"
     ]
    },
    {
     "output_type": "stream",
     "name": "stderr",
     "text": [
      "Running inference:  18%|█▊        | 21/120 [00:00<00:02, 46.59it/s]"
     ]
    },
    {
     "output_type": "stream",
     "name": "stdout",
     "text": [
      "left_400810_aug1.jpg: left eye → predicted classes: [2]\n",
      "left_400874_aug2.jpg: left eye → predicted classes: [2]\n",
      "left_400912_aug0.jpg: left eye → predicted classes: [2]\n",
      "left_400967_aug1.jpg: left eye → predicted classes: [2]\n",
      "left_400995_aug0.jpg: left eye → predicted classes: [2]\n",
      "left_401035_aug0.jpg: left eye → predicted classes: [2]\n",
      "left_401099_aug0.jpg: left eye → predicted classes: [2]\n",
      "left_401226_aug0.jpg: left eye → predicted classes: [2]\n",
      "left_401247_aug0.jpg: left eye → predicted classes: [2]\n",
      "left_401429_aug2.jpg: left eye → predicted classes: [2]\n",
      "left_401430_aug0.jpg: left eye → predicted classes: [2]\n",
      "left_401469_aug2.jpg: left eye → predicted classes: [2]\n"
     ]
    },
    {
     "output_type": "stream",
     "name": "stderr",
     "text": [
      "Running inference:  28%|██▊       | 33/120 [00:00<00:01, 48.97it/s]"
     ]
    },
    {
     "output_type": "stream",
     "name": "stdout",
     "text": [
      "left_401503_aug1.jpg: left eye → predicted classes: [2]\n",
      "left_401527_aug0.jpg: left eye → predicted classes: [2]\n",
      "left_401591_aug1.jpg: left eye → predicted classes: [2]\n",
      "left_401658_aug1.jpg: left eye → predicted classes: [2]\n",
      "left_401747_aug1.jpg: left eye → predicted classes: [2]\n",
      "left_401804_aug2.jpg: left eye → predicted classes: [2]\n",
      "left_401845_aug1.jpg: left eye → predicted classes: [2]\n",
      "left_401885_aug1.jpg: left eye → predicted classes: [2]\n",
      "right_400104_aug2.jpg: right eye → predicted classes: [0]\n",
      "right_400140_aug2.jpg: right eye → predicted classes: [0]\n",
      "right_400189_aug2.jpg: right eye → predicted classes: [1]\n"
     ]
    },
    {
     "output_type": "stream",
     "name": "stderr",
     "text": [
      "Running inference:  41%|████      | 49/120 [00:00<00:01, 63.16it/s]"
     ]
    },
    {
     "output_type": "stream",
     "name": "stdout",
     "text": [
      "right_400235_aug0.jpg: right eye → predicted classes: [1]\n",
      "right_400235_aug2.jpg: right eye → predicted classes: [1]\n",
      "right_400242_aug0.jpg: right eye → predicted classes: [0]\n",
      "right_400243_aug1.jpg: right eye → predicted classes: [0]\n",
      "right_400243_aug2.jpg: right eye → predicted classes: [0]\n",
      "right_400244_aug1.jpg: right eye → predicted classes: [0]\n",
      "right_400263_aug1.jpg: right eye → predicted classes: [1]\n",
      "right_400265_aug1.jpg: right eye → predicted classes: [1]\n",
      "right_400272_aug0.jpg: right eye → predicted classes: [1]\n",
      "right_400273_aug1.jpg: right eye → predicted classes: [1]\n",
      "right_400276_aug0.jpg: right eye → predicted classes: [1]\n",
      "right_400286_aug0.jpg: right eye → predicted classes: [0]\n",
      "right_400304_aug2.jpg: right eye → predicted classes: [1]\n",
      "right_400310_aug1.jpg: right eye → predicted classes: [1]\n",
      "right_400342_aug0.jpg: right eye → predicted classes: [0]\n",
      "right_400386_aug1.jpg: right eye → predicted classes: [0]\n",
      "right_400407_aug2.jpg: right eye → predicted classes: [1]\n",
      "right_400479_aug1.jpg: right eye → predicted classes: [0]\n"
     ]
    },
    {
     "output_type": "stream",
     "name": "stderr",
     "text": [
      "Running inference:  57%|█████▊    | 69/120 [00:01<00:00, 77.98it/s]"
     ]
    },
    {
     "output_type": "stream",
     "name": "stdout",
     "text": [
      "right_400490_aug2.jpg: right eye → predicted classes: [1]\n",
      "right_400492_aug1.jpg: right eye → predicted classes: [1]\n",
      "right_400494_aug0.jpg: right eye → predicted classes: [1]\n",
      "right_400499_aug1.jpg: right eye → predicted classes: [1]\n",
      "right_400504_aug0.jpg: right eye → predicted classes: [1]\n",
      "right_400505_aug1.jpg: right eye → predicted classes: [1]\n",
      "right_400506_aug2.jpg: right eye → predicted classes: [1]\n",
      "right_400513_aug2.jpg: right eye → predicted classes: [1]\n",
      "right_400517_aug2.jpg: right eye → predicted classes: [1]\n",
      "right_400614_aug2.jpg: right eye → predicted classes: [1]\n",
      "right_400615_aug2.jpg: right eye → predicted classes: [1]\n",
      "right_400624_aug2.jpg: right eye → predicted classes: [0]\n",
      "right_400625_aug1.jpg: right eye → predicted classes: [0]\n",
      "right_400626_aug0.jpg: right eye → predicted classes: [0]\n",
      "right_400626_aug1.jpg: right eye → predicted classes: [0]\n",
      "right_400655_aug2.jpg: right eye → predicted classes: [1]\n",
      "right_400669_aug0.jpg: right eye → predicted classes: [0]\n",
      "right_400675_aug0.jpg: right eye → predicted classes: [0]\n",
      "right_400675_aug2.jpg: right eye → predicted classes: [0]\n"
     ]
    },
    {
     "output_type": "stream",
     "name": "stderr",
     "text": [
      "Running inference:  73%|███████▎  | 88/120 [00:01<00:00, 84.04it/s]"
     ]
    },
    {
     "output_type": "stream",
     "name": "stdout",
     "text": [
      "right_400716_aug1.jpg: right eye → predicted classes: [0]\n",
      "right_400763_aug1.jpg: right eye → predicted classes: [0]\n",
      "right_400775_aug0.jpg: right eye → predicted classes: [1]\n",
      "right_400777_aug1.jpg: right eye → predicted classes: [1]\n",
      "right_400793_aug0.jpg: right eye → predicted classes: [1]\n",
      "right_400795_aug2.jpg: right eye → predicted classes: [1]\n",
      "right_400799_aug1.jpg: right eye → predicted classes: [1]\n",
      "right_400800_aug2.jpg: right eye → predicted classes: [1]\n",
      "right_400805_aug1.jpg: right eye → predicted classes: [1]\n",
      "right_400805_aug2.jpg: right eye → predicted classes: [1]\n",
      "right_400806_aug2.jpg: right eye → predicted classes: [1]\n",
      "right_400810_aug0.jpg: right eye → predicted classes: [0]\n",
      "right_400852_aug1.jpg: right eye → predicted classes: [1]\n",
      "right_400870_aug0.jpg: right eye → predicted classes: [1]\n",
      "right_400873_aug1.jpg: right eye → predicted classes: [0]\n",
      "right_400875_aug2.jpg: right eye → predicted classes: [0]\n",
      "right_400896_aug2.jpg: right eye → predicted classes: [1]\n",
      "right_400901_aug2.jpg: right eye → predicted classes: [1]\n"
     ]
    },
    {
     "output_type": "stream",
     "name": "stderr",
     "text": [
      "Running inference:  89%|████████▉ | 107/120 [00:01<00:00, 87.64it/s]"
     ]
    },
    {
     "output_type": "stream",
     "name": "stdout",
     "text": [
      "right_400902_aug2.jpg: right eye → predicted classes: [1]\n",
      "right_400903_aug0.jpg: right eye → predicted classes: [1]\n",
      "right_400919_aug2.jpg: right eye → predicted classes: [1]\n",
      "right_400921_aug0.jpg: right eye → predicted classes: [1]\n",
      "right_400929_aug0.jpg: right eye → predicted classes: [1]\n",
      "right_400929_aug2.jpg: right eye → predicted classes: [1]\n",
      "right_400936_aug2.jpg: right eye → predicted classes: [1]\n",
      "right_400965_aug2.jpg: right eye → predicted classes: [0]\n",
      "right_400969_aug2.jpg: right eye → predicted classes: [0]\n",
      "right_400970_aug2.jpg: right eye → predicted classes: [0]\n",
      "right_400998_aug2.jpg: right eye → predicted classes: [0]\n",
      "right_401031_aug0.jpg: right eye → predicted classes: [0]\n",
      "right_401097_aug1.jpg: right eye → predicted classes: [0]\n",
      "right_401099_aug2.jpg: right eye → predicted classes: [0]\n",
      "right_401158_aug0.jpg: right eye → predicted classes: [0]\n",
      "right_401159_aug0.jpg: right eye → predicted classes: [0]\n",
      "right_401225_aug0.jpg: right eye → predicted classes: [0]\n",
      "right_401230_aug0.jpg: right eye → predicted classes: [0]\n",
      "right_401245_aug1.jpg: right eye → predicted classes: [0]\n"
     ]
    },
    {
     "output_type": "stream",
     "name": "stderr",
     "text": [
      "Running inference: 100%|██████████| 120/120 [00:01<00:00, 67.18it/s]"
     ]
    },
    {
     "output_type": "stream",
     "name": "stdout",
     "text": [
      "right_401246_aug2.jpg: right eye → predicted classes: [0]\n",
      "right_401420_aug2.jpg: right eye → predicted classes: [0]\n",
      "right_401429_aug0.jpg: right eye → predicted classes: [0]\n",
      "right_401431_aug0.jpg: right eye → predicted classes: [0]\n",
      "right_401527_aug2.jpg: right eye → predicted classes: [0]\n",
      "right_401540_aug2.jpg: right eye → predicted classes: [0]\n",
      "right_401580_aug0.jpg: right eye → predicted classes: [0]\n",
      "right_401591_aug2.jpg: right eye → predicted classes: [0]\n",
      "right_401796_aug1.jpg: right eye → predicted classes: [0]\n",
      "right_401850_aug1.jpg: right eye → predicted classes: [0]\n",
      "\n",
      "========== Detection Summary ==========\n",
      "Left eye: closed frames 33 / total 33 = 100.00%\n",
      "Right eye: closed frames 44 / total 87 = 50.57%\n"
     ]
    },
    {
     "output_type": "stream",
     "name": "stderr",
     "text": [
      "\n"
     ]
    }
   ]
  },
  {
   "metadata": {
    "ExecuteTime": {
     "end_time": "2025-08-07T15:23:47.897726Z",
     "start_time": "2025-08-07T15:23:08.984537Z"
    }
   },
   "cell_type": "code",
   "source": [
    "from ultralytics import YOLO\n",
    "import os\n",
    "import shutil\n",
    "from tqdm import tqdm\n",
    "import matplotlib.pyplot as plt\n",
    "\n",
    "# ✅ 模型路径列表\n",
    "model_paths = [\n",
    "    r'C:\\TUB\\Projekt\\Version1\\model\\best_0.pt',\n",
    "    r'C:\\TUB\\Projekt\\Version1\\model\\best_1.pt',\n",
    "    r'C:\\TUB\\Projekt\\Version1\\model\\best_2.pt'\n",
    "]\n",
    "\n",
    "# ✅ 测试图像路径\n",
    "image_dir = r'C:\\TUB\\Projekt\\Version1\\test_dataset_half'\n",
    "\n",
    "# ✅ 类别定义\n",
    "right_eye_closed_class = 0\n",
    "left_eye_closed_class = 2\n",
    "confidence_threshold = 0.8\n",
    "\n",
    "# ✅ 所有图像路径\n",
    "image_paths = sorted([\n",
    "    os.path.join(image_dir, f)\n",
    "    for f in os.listdir(image_dir)\n",
    "    if f.lower().endswith(('.jpg', '.png'))\n",
    "])\n",
    "\n",
    "print(f\"\\n🔍 Total images detected: {len(image_paths)}\\n\")\n",
    "\n",
    "# ✅ 多模型推理\n",
    "for model_path in model_paths:\n",
    "    model_name = os.path.splitext(os.path.basename(model_path))[0]\n",
    "    print(f\"\\n===================== Evaluating: {model_name} =====================\\n\")\n",
    "    model = YOLO(model_path)\n",
    "    output_dir = os.path.join(os.path.dirname(image_dir), f'closed_eye_{model_name}')\n",
    "    os.makedirs(output_dir, exist_ok=True)\n",
    "\n",
    "    left_total = 0\n",
    "    left_closed = 2\n",
    "    closed_predictions = []\n",
    "\n",
    "    for path in tqdm(image_paths, desc=f\"Inference with {model_name}\"):\n",
    "        filename = os.path.basename(path).lower()\n",
    "\n",
    "        if filename.startswith(\"left_\"):\n",
    "            left_total += 1\n",
    "            target_class = left_eye_closed_class\n",
    "        elif filename.startswith(\"right_\"):\n",
    "            continue  # 只做左眼\n",
    "        else:\n",
    "            continue\n",
    "\n",
    "        results = model(path, verbose=False, conf=0.25)[0]\n",
    "\n",
    "        if results.boxes and results.boxes.cls is not None:\n",
    "            classes = results.boxes.cls.cpu().numpy()\n",
    "            confs = results.boxes.conf.cpu().numpy()\n",
    "\n",
    "            for cls_id, conf in zip(classes, confs):\n",
    "                cls_id = int(cls_id)\n",
    "                if cls_id == target_class:\n",
    "                    closed_predictions.append((filename, model.names[cls_id], conf))\n",
    "\n",
    "                    if conf >= confidence_threshold:\n",
    "                        # ✅ 拷贝图片\n",
    "                        dst_path = os.path.join(output_dir, filename)\n",
    "                        shutil.copy2(path, dst_path)\n",
    "                        left_closed += 1\n",
    "\n",
    "    # ✅ 打印统计\n",
    "    print(\"\\n========== Detection Summary ==========\")\n",
    "    if left_total:\n",
    "        print(f\"Left eye closed (conf ≥ {confidence_threshold}):  {left_closed} / {left_total} = {left_closed / left_total:.2%}\")\n",
    "    else:\n",
    "        print(\"⚠️ No left eye images found!\")\n",
    "\n",
    "    print(f\"\\n📌 Images predicted as closed eyes ({len(closed_predictions)}):\")\n",
    "    for fname, cls_name, conf in closed_predictions:\n",
    "        print(f\"  - {fname} | {cls_name} | confidence: {conf:.2f}\")\n",
    "\n",
    "    # ✅ 画图\n",
    "    confidence_scores = [conf for _, _, conf in closed_predictions]\n",
    "\n",
    "    if confidence_scores:\n",
    "        plt.figure(figsize=(10, 6))\n",
    "        plt.hist(confidence_scores, bins=20, color='skyblue', edgecolor='black')\n",
    "        plt.axvline(x=confidence_threshold, color='red', linestyle='--', label=f'Threshold = {confidence_threshold}')\n",
    "        plt.title(f'Closed-eye Confidence Distribution\\nModel: {model_name}')\n",
    "        plt.xlabel('Confidence Score')\n",
    "        plt.ylabel('Number of Predictions')\n",
    "        plt.legend()\n",
    "        plt.grid(True)\n",
    "        plt.tight_layout()\n",
    "        plt.show()\n",
    "    else:\n",
    "        print(\"⚠️ 没有闭眼预测，跳过可视化。\")\n"
   ],
   "outputs": [
    {
     "name": "stdout",
     "output_type": "stream",
     "text": [
      "\n",
      "🔍 Total images detected: 400\n",
      "\n",
      "\n",
      "===================== Evaluating: best_0 =====================\n",
      "\n"
     ]
    },
    {
     "name": "stderr",
     "output_type": "stream",
     "text": [
      "Inference with best_0: 100%|██████████| 400/400 [00:14<00:00, 28.37it/s]\n"
     ]
    },
    {
     "name": "stdout",
     "output_type": "stream",
     "text": [
      "\n",
      "========== Detection Summary ==========\n",
      "Left eye closed (conf ≥ 0.8):  18 / 200 = 9.00%\n",
      "\n",
      "📌 Images predicted as closed eyes (28):\n",
      "  - left_400007.png | left_eye_close | confidence: 0.73\n",
      "  - left_400008.png | left_eye_close | confidence: 0.88\n",
      "  - left_400009.png | left_eye_close | confidence: 0.91\n",
      "  - left_400010.png | left_eye_close | confidence: 0.91\n",
      "  - left_400017.png | left_eye_close | confidence: 0.70\n",
      "  - left_400018.png | left_eye_close | confidence: 0.84\n",
      "  - left_400019.png | left_eye_close | confidence: 0.68\n",
      "  - left_400020.png | left_eye_close | confidence: 0.32\n",
      "  - left_400031.png | left_eye_close | confidence: 0.35\n",
      "  - left_400032.png | left_eye_close | confidence: 0.66\n",
      "  - left_400098.png | left_eye_close | confidence: 0.81\n",
      "  - left_400099.png | left_eye_close | confidence: 0.85\n",
      "  - left_400103.png | left_eye_close | confidence: 0.86\n",
      "  - left_400104.png | left_eye_close | confidence: 0.85\n",
      "  - left_400105.png | left_eye_close | confidence: 0.84\n",
      "  - left_400137.png | left_eye_close | confidence: 0.62\n",
      "  - left_400138.png | left_eye_close | confidence: 0.87\n",
      "  - left_400139.png | left_eye_close | confidence: 0.81\n",
      "  - left_400140.png | left_eye_close | confidence: 0.86\n",
      "  - left_400141.png | left_eye_close | confidence: 0.82\n",
      "  - left_400142.png | left_eye_close | confidence: 0.90\n",
      "  - left_400146.png | left_eye_close | confidence: 0.88\n",
      "  - left_400147.png | left_eye_close | confidence: 0.85\n",
      "  - left_400148.png | left_eye_close | confidence: 0.75\n",
      "  - left_400158.png | left_eye_close | confidence: 0.68\n",
      "  - left_400159.png | left_eye_close | confidence: 0.80\n",
      "  - left_400165.png | left_eye_close | confidence: 0.68\n",
      "  - left_400166.png | left_eye_close | confidence: 0.36\n"
     ]
    },
    {
     "data": {
      "text/plain": [
       "<Figure size 1000x600 with 1 Axes>"
      ],
      "image/png": "[encoded data removed]"
     },
     "metadata": {},
     "output_type": "display_data"
    },
    {
     "name": "stdout",
     "output_type": "stream",
     "text": [
      "\n",
      "===================== Evaluating: best_1 =====================\n",
      "\n"
     ]
    },
    {
     "name": "stderr",
     "output_type": "stream",
     "text": [
      "Inference with best_1: 100%|██████████| 400/400 [00:11<00:00, 33.56it/s]\n"
     ]
    },
    {
     "name": "stdout",
     "output_type": "stream",
     "text": [
      "\n",
      "========== Detection Summary ==========\n",
      "Left eye closed (conf ≥ 0.8):  21 / 200 = 10.50%\n",
      "\n",
      "📌 Images predicted as closed eyes (28):\n",
      "  - left_400007.png | left_eye_close | confidence: 0.59\n",
      "  - left_400008.png | left_eye_close | confidence: 0.90\n",
      "  - left_400009.png | left_eye_close | confidence: 0.84\n",
      "  - left_400010.png | left_eye_close | confidence: 0.88\n",
      "  - left_400017.png | left_eye_close | confidence: 0.87\n",
      "  - left_400018.png | left_eye_close | confidence: 0.80\n",
      "  - left_400019.png | left_eye_close | confidence: 0.36\n",
      "  - left_400032.png | left_eye_close | confidence: 0.75\n",
      "  - left_400098.png | left_eye_close | confidence: 0.86\n",
      "  - left_400099.png | left_eye_close | confidence: 0.88\n",
      "  - left_400103.png | left_eye_close | confidence: 0.90\n",
      "  - left_400104.png | left_eye_close | confidence: 0.91\n",
      "  - left_400105.png | left_eye_close | confidence: 0.89\n",
      "  - left_400137.png | left_eye_close | confidence: 0.44\n",
      "  - left_400138.png | left_eye_close | confidence: 0.89\n",
      "  - left_400139.png | left_eye_close | confidence: 0.88\n",
      "  - left_400140.png | left_eye_close | confidence: 0.89\n",
      "  - left_400141.png | left_eye_close | confidence: 0.86\n",
      "  - left_400142.png | left_eye_close | confidence: 0.88\n",
      "  - left_400145.png | left_eye_close | confidence: 0.26\n",
      "  - left_400146.png | left_eye_close | confidence: 0.87\n",
      "  - left_400147.png | left_eye_close | confidence: 0.89\n",
      "  - left_400148.png | left_eye_close | confidence: 0.88\n",
      "  - left_400158.png | left_eye_close | confidence: 0.77\n",
      "  - left_400159.png | left_eye_close | confidence: 0.73\n",
      "  - left_400164.png | left_eye_close | confidence: 0.45\n",
      "  - left_400165.png | left_eye_close | confidence: 0.88\n",
      "  - left_400166.png | left_eye_close | confidence: 0.25\n"
     ]
    },
    {
     "data": {
      "text/plain": [
       "<Figure size 1000x600 with 1 Axes>"
      ],
      "image/png": "[encoded data removed]"
     },
     "metadata": {},
     "output_type": "display_data"
    },
    {
     "name": "stdout",
     "output_type": "stream",
     "text": [
      "\n",
      "===================== Evaluating: best_2 =====================\n",
      "\n"
     ]
    },
    {
     "name": "stderr",
     "output_type": "stream",
     "text": [
      "Inference with best_2: 100%|██████████| 400/400 [00:11<00:00, 34.57it/s]\n"
     ]
    },
    {
     "name": "stdout",
     "output_type": "stream",
     "text": [
      "\n",
      "========== Detection Summary ==========\n",
      "Left eye closed (conf ≥ 0.8):  24 / 200 = 12.00%\n",
      "\n",
      "📌 Images predicted as closed eyes (34):\n",
      "  - left_400007.png | left_eye_close | confidence: 0.51\n",
      "  - left_400008.png | left_eye_close | confidence: 0.84\n",
      "  - left_400009.png | left_eye_close | confidence: 0.87\n",
      "  - left_400010.png | left_eye_close | confidence: 0.86\n",
      "  - left_400011.png | left_eye_close | confidence: 0.25\n",
      "  - left_400016.png | left_eye_close | confidence: 0.53\n",
      "  - left_400017.png | left_eye_close | confidence: 0.84\n",
      "  - left_400018.png | left_eye_close | confidence: 0.84\n",
      "  - left_400019.png | left_eye_close | confidence: 0.80\n",
      "  - left_400020.png | left_eye_close | confidence: 0.80\n",
      "  - left_400021.png | left_eye_close | confidence: 0.59\n",
      "  - left_400031.png | left_eye_close | confidence: 0.35\n",
      "  - left_400032.png | left_eye_close | confidence: 0.45\n",
      "  - left_400098.png | left_eye_close | confidence: 0.88\n",
      "  - left_400099.png | left_eye_close | confidence: 0.82\n",
      "  - left_400102.png | left_eye_close | confidence: 0.31\n",
      "  - left_400103.png | left_eye_close | confidence: 0.87\n",
      "  - left_400104.png | left_eye_close | confidence: 0.87\n",
      "  - left_400105.png | left_eye_close | confidence: 0.84\n",
      "  - left_400137.png | left_eye_close | confidence: 0.62\n",
      "  - left_400138.png | left_eye_close | confidence: 0.87\n",
      "  - left_400139.png | left_eye_close | confidence: 0.89\n",
      "  - left_400140.png | left_eye_close | confidence: 0.84\n",
      "  - left_400141.png | left_eye_close | confidence: 0.85\n",
      "  - left_400142.png | left_eye_close | confidence: 0.87\n",
      "  - left_400146.png | left_eye_close | confidence: 0.87\n",
      "  - left_400147.png | left_eye_close | confidence: 0.89\n",
      "  - left_400148.png | left_eye_close | confidence: 0.82\n",
      "  - left_400157.png | left_eye_close | confidence: 0.66\n",
      "  - left_400158.png | left_eye_close | confidence: 0.83\n",
      "  - left_400159.png | left_eye_close | confidence: 0.83\n",
      "  - left_400164.png | left_eye_close | confidence: 0.75\n",
      "  - left_400165.png | left_eye_close | confidence: 0.82\n",
      "  - left_400166.png | left_eye_close | confidence: 0.79\n"
     ]
    },
    {
     "data": {
      "text/plain": [
       "<Figure size 1000x600 with 1 Axes>"
      ],
      "image/png": "[encoded data removed]"
     },
     "metadata": {},
     "output_type": "display_data"
    }
   ],
   "execution_count": 3
  },
  {
   "metadata": {
    "ExecuteTime": {
     "end_time": "2025-08-07T15:27:31.844469Z",
     "start_time": "2025-08-07T15:27:31.819811Z"
    }
   },
   "cell_type": "code",
   "source": [
    "import shutil\n",
    "\n",
    "# ✅ 设置保存高置信度闭眼图像的目录\n",
    "output_dir = r'C:\\TUB\\Projekt\\Version1\\closed_eye_high_conf'\n",
    "os.makedirs(output_dir, exist_ok=True)\n",
    "\n",
    "# ✅ 提取高置信度闭眼图像（置信度 ≥ 0.8）\n",
    "high_conf_threshold = 0.8\n",
    "high_conf_count = 0\n",
    "\n",
    "for fname, cls_name, conf in closed_predictions:\n",
    "    if conf >= high_conf_threshold:\n",
    "        src_path = os.path.join(image_dir, fname)\n",
    "        dst_path = os.path.join(output_dir, fname)\n",
    "        try:\n",
    "            shutil.copy2(src_path, dst_path)\n",
    "            high_conf_count += 1\n",
    "        except Exception as e:\n",
    "            print(f\"❌ 复制失败: {fname} | 错误: {e}\")\n",
    "\n",
    "# ✅ 统计结果\n",
    "print(f\"\\n✅ 提取完成: 共 {high_conf_count} 张闭眼图像 (置信度 ≥ {high_conf_threshold}) 已保存到：\")\n",
    "print(f\"   {output_dir}\")\n"
   ],
   "outputs": [
    {
     "name": "stdout",
     "output_type": "stream",
     "text": [
      "\n",
      "✅ 提取完成: 共 22 张闭眼图像 (置信度 ≥ 0.8) 已保存到：\n",
      "   C:\\TUB\\Projekt\\Version1\\closed_eye_high_conf\n"
     ]
    }
   ],
   "execution_count": 4
  },
  {
   "metadata": {
    "ExecuteTime": {
     "end_time": "2025-08-06T14:43:24.141696Z",
     "start_time": "2025-08-06T14:43:03.649503Z"
    }
   },
   "cell_type": "code",
   "source": [
    "from ultralytics import YOLO\n",
    "import os\n",
    "import shutil\n",
    "from tqdm import tqdm\n",
    "\n",
    "# ✅ 加载两个模型\n",
    "model0 = YOLO(r'C:\\TUB\\Projekt\\Version1\\model\\best_0.pt')\n",
    "model1 = YOLO(r'C:\\TUB\\Projekt\\Version1\\model\\best_1.pt')\n",
    "\n",
    "# ✅ 类别与阈值设置\n",
    "left_eye_closed_class = 2\n",
    "conf_threshold = 0.8\n",
    "\n",
    "# ✅ 输入图像路径\n",
    "image_dir = r'C:\\TUB\\Projekt\\Version1\\left_eye\\images'\n",
    "image_paths = sorted([\n",
    "    os.path.join(image_dir, f)\n",
    "    for f in os.listdir(image_dir)\n",
    "    if f.lower().endswith(('.jpg', '.png')) and f.lower().startswith(\"left_\")\n",
    "])\n",
    "\n",
    "# ✅ 输出路径设置\n",
    "base_output = r'C:\\TUB\\Projekt\\Version1\\fusion_results'\n",
    "closed_dir = os.path.join(base_output, 'voted_closed')\n",
    "uncertain_dir = os.path.join(base_output, 'voted_uncertain')\n",
    "non_closed_dir = os.path.join(base_output, 'voted_non_closed')\n",
    "\n",
    "os.makedirs(closed_dir, exist_ok=True)\n",
    "os.makedirs(uncertain_dir, exist_ok=True)\n",
    "os.makedirs(non_closed_dir, exist_ok=True)\n",
    "\n",
    "# ✅ 记录统计\n",
    "final_closed = []\n",
    "uncertain = []\n",
    "non_closed = []\n",
    "\n",
    "for path in tqdm(image_paths, desc=\"Fusion Voting\"):\n",
    "    filename = os.path.basename(path)\n",
    "\n",
    "    # 推理：model0\n",
    "    res0 = model0(path, verbose=False, conf=0.25)[0]\n",
    "    cls0 = res0.boxes.cls.cpu().numpy() if res0.boxes.cls is not None else []\n",
    "    conf0 = res0.boxes.conf.cpu().numpy() if res0.boxes.conf is not None else []\n",
    "    pred0 = [(c, s) for c, s in zip(cls0, conf0) if int(c) == left_eye_closed_class]\n",
    "\n",
    "    # 推理：model1\n",
    "    res1 = model1(path, verbose=False, conf=0.25)[0]\n",
    "    cls1 = res1.boxes.cls.cpu().numpy() if res1.boxes.cls is not None else []\n",
    "    conf1 = res1.boxes.conf.cpu().numpy() if res1.boxes.conf is not None else []\n",
    "    pred1 = [(c, s) for c, s in zip(cls1, conf1) if int(c) == left_eye_closed_class]\n",
    "\n",
    "    # 判断\n",
    "    is_closed_0 = len(pred0) > 0\n",
    "    is_closed_1 = len(pred1) > 0\n",
    "    max_conf_0 = max([s for _, s in pred0], default=0)\n",
    "    max_conf_1 = max([s for _, s in pred1], default=0)\n",
    "\n",
    "    # ✅ 投票规则\n",
    "    if is_closed_0 and is_closed_1 and (max_conf_0 >= conf_threshold or max_conf_1 >= conf_threshold):\n",
    "        final_closed.append(filename)\n",
    "        dst_path = os.path.join(closed_dir, filename)\n",
    "    elif is_closed_0 or is_closed_1:\n",
    "        uncertain.append(filename)\n",
    "        dst_path = os.path.join(uncertain_dir, filename)\n",
    "    else:\n",
    "        non_closed.append(filename)\n",
    "        dst_path = os.path.join(non_closed_dir, filename)\n",
    "\n",
    "    # ✅ 拷贝图像\n",
    "    shutil.copy2(path, dst_path)\n",
    "\n",
    "# ✅ 打印统计结果\n",
    "print(\"\\n=========== 投票融合结果 ===========\")\n",
    "print(f\"✅ 真闭眼（双模型支持）：{len(final_closed)} 张图像\")\n",
    "print(f\"❓ 模糊/不确定（单模型支持）：{len(uncertain)} 张图像\")\n",
    "print(f\"❌ 非闭眼（无模型支持）：{len(non_closed)} 张图像\")\n",
    "print(f\"\\n图像已导出至：{base_output}\")\n"
   ],
   "outputs": [
    {
     "name": "stderr",
     "output_type": "stream",
     "text": [
      "Fusion Voting: 100%|██████████| 200/200 [00:20<00:00,  9.80it/s]"
     ]
    },
    {
     "name": "stdout",
     "output_type": "stream",
     "text": [
      "\n",
      "=========== 投票融合结果 ===========\n",
      "✅ 真闭眼（双模型支持）：19 张图像\n",
      "❓ 模糊/不确定（单模型支持）：11 张图像\n",
      "❌ 非闭眼（无模型支持）：170 张图像\n",
      "\n",
      "图像已导出至：C:\\TUB\\Projekt\\Version1\\fusion_results\n"
     ]
    },
    {
     "name": "stderr",
     "output_type": "stream",
     "text": [
      "\n"
     ]
    }
   ],
   "execution_count": 18
  },
  {
   "metadata": {},
   "cell_type": "code",
   "outputs": [],
   "execution_count": null,
   "source": ""
  }
 ]
}
